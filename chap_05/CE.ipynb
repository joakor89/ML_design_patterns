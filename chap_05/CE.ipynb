{
  "nbformat": 4,
  "nbformat_minor": 0,
  "metadata": {
    "colab": {
      "provenance": [],
      "gpuType": "T4"
    },
    "kernelspec": {
      "name": "python3",
      "display_name": "Python 3"
    },
    "language_info": {
      "name": "python"
    },
    "accelerator": "GPU"
  },
  "cells": [
    {
      "cell_type": "markdown",
      "source": [
        "# **Continuous Evaluation**\n",
        "\n",
        "### ***Loading Libraries***"
      ],
      "metadata": {
        "id": "LFZpDbgzM4ka"
      }
    },
    {
      "cell_type": "code",
      "execution_count": 1,
      "metadata": {
        "colab": {
          "base_uri": "https://localhost:8080/"
        },
        "id": "ytxOJoq6M3Q2",
        "outputId": "63be82d6-fbea-4cd2-8c8b-ff21e440cc7a"
      },
      "outputs": [
        {
          "output_type": "stream",
          "name": "stdout",
          "text": [
            "Collecting tensorflow-io\n",
            "  Downloading tensorflow_io-0.37.0-cp310-cp310-manylinux_2_17_x86_64.manylinux2014_x86_64.whl (49.6 MB)\n",
            "\u001b[2K     \u001b[90m━━━━━━━━━━━━━━━━━━━━━━━━━━━━━━━━━━━━━━━━\u001b[0m \u001b[32m49.6/49.6 MB\u001b[0m \u001b[31m13.5 MB/s\u001b[0m eta \u001b[36m0:00:00\u001b[0m\n",
            "\u001b[?25hRequirement already satisfied: tensorflow-io-gcs-filesystem==0.37.0 in /usr/local/lib/python3.10/dist-packages (from tensorflow-io) (0.37.0)\n",
            "Installing collected packages: tensorflow-io\n",
            "Successfully installed tensorflow-io-0.37.0\n"
          ]
        }
      ],
      "source": [
        "!pip install tensorflow-io"
      ]
    },
    {
      "cell_type": "code",
      "source": [
        "!pip install keras-tuner"
      ],
      "metadata": {
        "colab": {
          "base_uri": "https://localhost:8080/"
        },
        "id": "AZM7xsgbNI-Q",
        "outputId": "8c9fa612-024a-47ba-da19-d026e231a8a9"
      },
      "execution_count": 2,
      "outputs": [
        {
          "output_type": "stream",
          "name": "stdout",
          "text": [
            "Collecting keras-tuner\n",
            "  Downloading keras_tuner-1.4.7-py3-none-any.whl (129 kB)\n",
            "\u001b[?25l     \u001b[90m━━━━━━━━━━━━━━━━━━━━━━━━━━━━━━━━━━━━━━━━\u001b[0m \u001b[32m0.0/129.1 kB\u001b[0m \u001b[31m?\u001b[0m eta \u001b[36m-:--:--\u001b[0m\r\u001b[2K     \u001b[91m━━━━━━━━━━━━━━━━━━━━━━━━━━━━━━━━━━━━━━\u001b[0m\u001b[90m╺\u001b[0m\u001b[90m━\u001b[0m \u001b[32m122.9/129.1 kB\u001b[0m \u001b[31m4.0 MB/s\u001b[0m eta \u001b[36m0:00:01\u001b[0m\r\u001b[2K     \u001b[90m━━━━━━━━━━━━━━━━━━━━━━━━━━━━━━━━━━━━━━━━\u001b[0m \u001b[32m129.1/129.1 kB\u001b[0m \u001b[31m3.3 MB/s\u001b[0m eta \u001b[36m0:00:00\u001b[0m\n",
            "\u001b[?25hRequirement already satisfied: keras in /usr/local/lib/python3.10/dist-packages (from keras-tuner) (2.15.0)\n",
            "Requirement already satisfied: packaging in /usr/local/lib/python3.10/dist-packages (from keras-tuner) (24.1)\n",
            "Requirement already satisfied: requests in /usr/local/lib/python3.10/dist-packages (from keras-tuner) (2.31.0)\n",
            "Collecting kt-legacy (from keras-tuner)\n",
            "  Downloading kt_legacy-1.0.5-py3-none-any.whl (9.6 kB)\n",
            "Requirement already satisfied: charset-normalizer<4,>=2 in /usr/local/lib/python3.10/dist-packages (from requests->keras-tuner) (3.3.2)\n",
            "Requirement already satisfied: idna<4,>=2.5 in /usr/local/lib/python3.10/dist-packages (from requests->keras-tuner) (3.7)\n",
            "Requirement already satisfied: urllib3<3,>=1.21.1 in /usr/local/lib/python3.10/dist-packages (from requests->keras-tuner) (2.0.7)\n",
            "Requirement already satisfied: certifi>=2017.4.17 in /usr/local/lib/python3.10/dist-packages (from requests->keras-tuner) (2024.6.2)\n",
            "Installing collected packages: kt-legacy, keras-tuner\n",
            "Successfully installed keras-tuner-1.4.7 kt-legacy-1.0.5\n"
          ]
        }
      ]
    },
    {
      "cell_type": "code",
      "source": [
        "!pip install hypertune"
      ],
      "metadata": {
        "colab": {
          "base_uri": "https://localhost:8080/"
        },
        "id": "egu1LzaBNI7h",
        "outputId": "64a9585a-c87a-4c9c-d9b9-0fbe0a862c8f"
      },
      "execution_count": 4,
      "outputs": [
        {
          "output_type": "stream",
          "name": "stdout",
          "text": [
            "Collecting hypertune\n",
            "  Downloading hypertune-1.1.0-py3-none-any.whl (22 kB)\n",
            "Installing collected packages: hypertune\n",
            "Successfully installed hypertune-1.1.0\n"
          ]
        }
      ]
    },
    {
      "cell_type": "code",
      "source": [
        "# Operating Systems\n",
        "import os\n",
        "import shutil\n",
        "import pathlib\n",
        "import argparse\n",
        "\n",
        "\n",
        "# Numerical Computing\n",
        "import numpy as np\n",
        "\n",
        "# Data Manipuation\n",
        "import pandas as pd\n",
        "\n",
        "# SciPy\n",
        "import scipy\n",
        "from scipy import stats\n",
        "from scipy import signal\n",
        "from scipy.io import wavfile\n",
        "\n",
        "# Data Visualization\n",
        "import itertools\n",
        "import seaborn as sns\n",
        "from PIL import Image\n",
        "import matplotlib.pyplot as plt\n",
        "\n",
        "# Tabulate\n",
        "from tabulate import tabulate\n",
        "\n",
        "# Hyperparameter Tuning\n",
        "import hypertune\n",
        "\n",
        "# Tools\n",
        "from setuptools import setup\n",
        "from setuptools import find_packages\n",
        "\n",
        "# BigQuery\n",
        "from google.cloud import bigquery\n",
        "from google.colab import auth\n",
        "\n",
        "# Scikit-Learn\n",
        "from sklearn.utils import shuffle\n",
        "from sklearn.preprocessing import normalize\n",
        "from sklearn.metrics import confusion_matrix\n",
        "from sklearn.preprocessing import MinMaxScaler\n",
        "from sklearn.preprocessing import LabelEncoder\n",
        "from sklearn.model_selection import GridSearchCV\n",
        "from sklearn.metrics import classification_report\n",
        "from sklearn.ensemble import RandomForestClassifier\n",
        "from sklearn.metrics import accuracy_score, f1_score\n",
        "from sklearn.preprocessing import MultiLabelBinarizer\n",
        "from sklearn.metrics import precision_recall_fscore_support as score\n",
        "\n",
        "# Extreme Gradient Boosting\n",
        "import xgboost as xgb\n",
        "\n",
        "# PyTorch\n",
        "import torch\n",
        "import torch.nn as nn\n",
        "import torch.optim as optim\n",
        "\n",
        "# TensorFlow\n",
        "import tensorflow as tf\n",
        "import tensorflow_hub as hub\n",
        "from tensorflow import keras\n",
        "from tensorflow.keras import Model\n",
        "import tensorflow_datasets as tfds\n",
        "from tensorflow_hub import KerasLayer\n",
        "from tensorflow import feature_column as fc\n",
        "from tensorflow.python.framework import dtypes\n",
        "from tensorflow.keras.preprocessing import text\n",
        "from tensorflow.keras.utils import to_categorical\n",
        "from tensorflow_io.bigquery import BigQueryClient\n",
        "from tensorflow.keras.callbacks import EarlyStopping\n",
        "from tensorflow.keras.preprocessing.text import Tokenizer\n",
        "from tensorflow.keras import callbacks, layers, models, utils\n",
        "from tensorflow.keras.preprocessing.sequence import pad_sequences\n",
        "from tensorflow.keras.layers import Dense, Embedding, Input, Flatten, Conv2D, MaxPooling2D, Lambda\n",
        "\n",
        "# Keras API\n",
        "import kerastuner as kt"
      ],
      "metadata": {
        "colab": {
          "base_uri": "https://localhost:8080/"
        },
        "id": "DIZWsdpINI4Z",
        "outputId": "70ff52c1-f4ab-4907-d746-d0ff9e2101aa"
      },
      "execution_count": 5,
      "outputs": [
        {
          "output_type": "stream",
          "name": "stderr",
          "text": [
            "<ipython-input-5-941eb135a369>:80: DeprecationWarning: `import kerastuner` is deprecated, please use `import keras_tuner`.\n",
            "  import kerastuner as kt\n"
          ]
        }
      ]
    },
    {
      "cell_type": "code",
      "source": [
        "print(tf.__version__)\n",
        "\n",
        "%matplotlib inline"
      ],
      "metadata": {
        "colab": {
          "base_uri": "https://localhost:8080/"
        },
        "id": "wNfhJk0yN2k1",
        "outputId": "18608bec-5d26-472b-db9e-d5c06104bbd7"
      },
      "execution_count": 6,
      "outputs": [
        {
          "output_type": "stream",
          "name": "stdout",
          "text": [
            "2.15.0\n"
          ]
        }
      ]
    },
    {
      "cell_type": "markdown",
      "source": [
        "## **Set-Up**"
      ],
      "metadata": {
        "id": "q19pIIEONTvz"
      }
    },
    {
      "cell_type": "code",
      "source": [
        "PROJECT = 'munn-sandbox'\n",
        "\n",
        "BUCKET = 'munn-sandbox'"
      ],
      "metadata": {
        "id": "3bK6Ub7kNSGl"
      },
      "execution_count": 7,
      "outputs": []
    },
    {
      "cell_type": "code",
      "source": [
        "os.environ['BUCKET'] = BUCKET\n",
        "\n",
        "os.environ['PROJECT'] = PROJECT\n",
        "\n",
        "os.environ['TFVERSION'] = '2.1'"
      ],
      "metadata": {
        "id": "00Xu32LXNSEc"
      },
      "execution_count": 8,
      "outputs": []
    },
    {
      "cell_type": "code",
      "source": [
        "# User Authentication\n",
        "auth.authenticate_user()\n",
        "\n",
        "# BigQuery Library\n",
        "# !pip install --upgrade google-cloud-bigquery"
      ],
      "metadata": {
        "id": "mvJrOsL4NSBk"
      },
      "execution_count": 9,
      "outputs": []
    },
    {
      "cell_type": "code",
      "source": [
        "project_id = 'core-catalyst-425922-v9'\n",
        "os.environ['GOOGLE_CLOUD_PROJECT'] = project_id\n",
        "\n",
        "# BigQuery Client Config\n",
        "client = bigquery.Client(project=project_id)"
      ],
      "metadata": {
        "id": "AZUlG8_2NR-3"
      },
      "execution_count": 10,
      "outputs": []
    },
    {
      "cell_type": "markdown",
      "source": [
        "### ***Model Training & Deployment***"
      ],
      "metadata": {
        "id": "Mlfu5ZfROELF"
      }
    },
    {
      "cell_type": "code",
      "source": [
        "DATASET_NAME = \"titles_full.csv\"\n",
        "COLUMNS = ['title', 'source']\n",
        "\n",
        "titles_df = pd.read_csv(DATASET_NAME, header=None, names=COLUMNS)\n",
        "titles_df.head()"
      ],
      "metadata": {
        "colab": {
          "base_uri": "https://localhost:8080/",
          "height": 204
        },
        "id": "1GgfHfG0NR8E",
        "outputId": "3010d632-3bd9-488b-8acc-77dd48c6e2f6"
      },
      "execution_count": 12,
      "outputs": [
        {
          "output_type": "execute_result",
          "data": {
            "text/plain": [
              "                                       title      source\n",
              "0       attempts to fix hn comment problems   techcrunch\n",
              "1                     stop trusting yourself     nytimes\n",
              "2                              scrollability      github\n",
              "3                       toward our 3d future  techcrunch\n",
              "4  open source mechanical split flap display      github"
            ],
            "text/html": [
              "\n",
              "  <div id=\"df-51c5048b-6778-4854-a714-86c695c2bdf7\" class=\"colab-df-container\">\n",
              "    <div>\n",
              "<style scoped>\n",
              "    .dataframe tbody tr th:only-of-type {\n",
              "        vertical-align: middle;\n",
              "    }\n",
              "\n",
              "    .dataframe tbody tr th {\n",
              "        vertical-align: top;\n",
              "    }\n",
              "\n",
              "    .dataframe thead th {\n",
              "        text-align: right;\n",
              "    }\n",
              "</style>\n",
              "<table border=\"1\" class=\"dataframe\">\n",
              "  <thead>\n",
              "    <tr style=\"text-align: right;\">\n",
              "      <th></th>\n",
              "      <th>title</th>\n",
              "      <th>source</th>\n",
              "    </tr>\n",
              "  </thead>\n",
              "  <tbody>\n",
              "    <tr>\n",
              "      <th>0</th>\n",
              "      <td>attempts to fix hn comment problems</td>\n",
              "      <td>techcrunch</td>\n",
              "    </tr>\n",
              "    <tr>\n",
              "      <th>1</th>\n",
              "      <td>stop trusting yourself</td>\n",
              "      <td>nytimes</td>\n",
              "    </tr>\n",
              "    <tr>\n",
              "      <th>2</th>\n",
              "      <td>scrollability</td>\n",
              "      <td>github</td>\n",
              "    </tr>\n",
              "    <tr>\n",
              "      <th>3</th>\n",
              "      <td>toward our 3d future</td>\n",
              "      <td>techcrunch</td>\n",
              "    </tr>\n",
              "    <tr>\n",
              "      <th>4</th>\n",
              "      <td>open source mechanical split flap display</td>\n",
              "      <td>github</td>\n",
              "    </tr>\n",
              "  </tbody>\n",
              "</table>\n",
              "</div>\n",
              "    <div class=\"colab-df-buttons\">\n",
              "\n",
              "  <div class=\"colab-df-container\">\n",
              "    <button class=\"colab-df-convert\" onclick=\"convertToInteractive('df-51c5048b-6778-4854-a714-86c695c2bdf7')\"\n",
              "            title=\"Convert this dataframe to an interactive table.\"\n",
              "            style=\"display:none;\">\n",
              "\n",
              "  <svg xmlns=\"http://www.w3.org/2000/svg\" height=\"24px\" viewBox=\"0 -960 960 960\">\n",
              "    <path d=\"M120-120v-720h720v720H120Zm60-500h600v-160H180v160Zm220 220h160v-160H400v160Zm0 220h160v-160H400v160ZM180-400h160v-160H180v160Zm440 0h160v-160H620v160ZM180-180h160v-160H180v160Zm440 0h160v-160H620v160Z\"/>\n",
              "  </svg>\n",
              "    </button>\n",
              "\n",
              "  <style>\n",
              "    .colab-df-container {\n",
              "      display:flex;\n",
              "      gap: 12px;\n",
              "    }\n",
              "\n",
              "    .colab-df-convert {\n",
              "      background-color: #E8F0FE;\n",
              "      border: none;\n",
              "      border-radius: 50%;\n",
              "      cursor: pointer;\n",
              "      display: none;\n",
              "      fill: #1967D2;\n",
              "      height: 32px;\n",
              "      padding: 0 0 0 0;\n",
              "      width: 32px;\n",
              "    }\n",
              "\n",
              "    .colab-df-convert:hover {\n",
              "      background-color: #E2EBFA;\n",
              "      box-shadow: 0px 1px 2px rgba(60, 64, 67, 0.3), 0px 1px 3px 1px rgba(60, 64, 67, 0.15);\n",
              "      fill: #174EA6;\n",
              "    }\n",
              "\n",
              "    .colab-df-buttons div {\n",
              "      margin-bottom: 4px;\n",
              "    }\n",
              "\n",
              "    [theme=dark] .colab-df-convert {\n",
              "      background-color: #3B4455;\n",
              "      fill: #D2E3FC;\n",
              "    }\n",
              "\n",
              "    [theme=dark] .colab-df-convert:hover {\n",
              "      background-color: #434B5C;\n",
              "      box-shadow: 0px 1px 3px 1px rgba(0, 0, 0, 0.15);\n",
              "      filter: drop-shadow(0px 1px 2px rgba(0, 0, 0, 0.3));\n",
              "      fill: #FFFFFF;\n",
              "    }\n",
              "  </style>\n",
              "\n",
              "    <script>\n",
              "      const buttonEl =\n",
              "        document.querySelector('#df-51c5048b-6778-4854-a714-86c695c2bdf7 button.colab-df-convert');\n",
              "      buttonEl.style.display =\n",
              "        google.colab.kernel.accessAllowed ? 'block' : 'none';\n",
              "\n",
              "      async function convertToInteractive(key) {\n",
              "        const element = document.querySelector('#df-51c5048b-6778-4854-a714-86c695c2bdf7');\n",
              "        const dataTable =\n",
              "          await google.colab.kernel.invokeFunction('convertToInteractive',\n",
              "                                                    [key], {});\n",
              "        if (!dataTable) return;\n",
              "\n",
              "        const docLinkHtml = 'Like what you see? Visit the ' +\n",
              "          '<a target=\"_blank\" href=https://colab.research.google.com/notebooks/data_table.ipynb>data table notebook</a>'\n",
              "          + ' to learn more about interactive tables.';\n",
              "        element.innerHTML = '';\n",
              "        dataTable['output_type'] = 'display_data';\n",
              "        await google.colab.output.renderOutput(dataTable, element);\n",
              "        const docLink = document.createElement('div');\n",
              "        docLink.innerHTML = docLinkHtml;\n",
              "        element.appendChild(docLink);\n",
              "      }\n",
              "    </script>\n",
              "  </div>\n",
              "\n",
              "\n",
              "<div id=\"df-61dfd5fc-8c97-42b7-a2f2-7c65b6304cf7\">\n",
              "  <button class=\"colab-df-quickchart\" onclick=\"quickchart('df-61dfd5fc-8c97-42b7-a2f2-7c65b6304cf7')\"\n",
              "            title=\"Suggest charts\"\n",
              "            style=\"display:none;\">\n",
              "\n",
              "<svg xmlns=\"http://www.w3.org/2000/svg\" height=\"24px\"viewBox=\"0 0 24 24\"\n",
              "     width=\"24px\">\n",
              "    <g>\n",
              "        <path d=\"M19 3H5c-1.1 0-2 .9-2 2v14c0 1.1.9 2 2 2h14c1.1 0 2-.9 2-2V5c0-1.1-.9-2-2-2zM9 17H7v-7h2v7zm4 0h-2V7h2v10zm4 0h-2v-4h2v4z\"/>\n",
              "    </g>\n",
              "</svg>\n",
              "  </button>\n",
              "\n",
              "<style>\n",
              "  .colab-df-quickchart {\n",
              "      --bg-color: #E8F0FE;\n",
              "      --fill-color: #1967D2;\n",
              "      --hover-bg-color: #E2EBFA;\n",
              "      --hover-fill-color: #174EA6;\n",
              "      --disabled-fill-color: #AAA;\n",
              "      --disabled-bg-color: #DDD;\n",
              "  }\n",
              "\n",
              "  [theme=dark] .colab-df-quickchart {\n",
              "      --bg-color: #3B4455;\n",
              "      --fill-color: #D2E3FC;\n",
              "      --hover-bg-color: #434B5C;\n",
              "      --hover-fill-color: #FFFFFF;\n",
              "      --disabled-bg-color: #3B4455;\n",
              "      --disabled-fill-color: #666;\n",
              "  }\n",
              "\n",
              "  .colab-df-quickchart {\n",
              "    background-color: var(--bg-color);\n",
              "    border: none;\n",
              "    border-radius: 50%;\n",
              "    cursor: pointer;\n",
              "    display: none;\n",
              "    fill: var(--fill-color);\n",
              "    height: 32px;\n",
              "    padding: 0;\n",
              "    width: 32px;\n",
              "  }\n",
              "\n",
              "  .colab-df-quickchart:hover {\n",
              "    background-color: var(--hover-bg-color);\n",
              "    box-shadow: 0 1px 2px rgba(60, 64, 67, 0.3), 0 1px 3px 1px rgba(60, 64, 67, 0.15);\n",
              "    fill: var(--button-hover-fill-color);\n",
              "  }\n",
              "\n",
              "  .colab-df-quickchart-complete:disabled,\n",
              "  .colab-df-quickchart-complete:disabled:hover {\n",
              "    background-color: var(--disabled-bg-color);\n",
              "    fill: var(--disabled-fill-color);\n",
              "    box-shadow: none;\n",
              "  }\n",
              "\n",
              "  .colab-df-spinner {\n",
              "    border: 2px solid var(--fill-color);\n",
              "    border-color: transparent;\n",
              "    border-bottom-color: var(--fill-color);\n",
              "    animation:\n",
              "      spin 1s steps(1) infinite;\n",
              "  }\n",
              "\n",
              "  @keyframes spin {\n",
              "    0% {\n",
              "      border-color: transparent;\n",
              "      border-bottom-color: var(--fill-color);\n",
              "      border-left-color: var(--fill-color);\n",
              "    }\n",
              "    20% {\n",
              "      border-color: transparent;\n",
              "      border-left-color: var(--fill-color);\n",
              "      border-top-color: var(--fill-color);\n",
              "    }\n",
              "    30% {\n",
              "      border-color: transparent;\n",
              "      border-left-color: var(--fill-color);\n",
              "      border-top-color: var(--fill-color);\n",
              "      border-right-color: var(--fill-color);\n",
              "    }\n",
              "    40% {\n",
              "      border-color: transparent;\n",
              "      border-right-color: var(--fill-color);\n",
              "      border-top-color: var(--fill-color);\n",
              "    }\n",
              "    60% {\n",
              "      border-color: transparent;\n",
              "      border-right-color: var(--fill-color);\n",
              "    }\n",
              "    80% {\n",
              "      border-color: transparent;\n",
              "      border-right-color: var(--fill-color);\n",
              "      border-bottom-color: var(--fill-color);\n",
              "    }\n",
              "    90% {\n",
              "      border-color: transparent;\n",
              "      border-bottom-color: var(--fill-color);\n",
              "    }\n",
              "  }\n",
              "</style>\n",
              "\n",
              "  <script>\n",
              "    async function quickchart(key) {\n",
              "      const quickchartButtonEl =\n",
              "        document.querySelector('#' + key + ' button');\n",
              "      quickchartButtonEl.disabled = true;  // To prevent multiple clicks.\n",
              "      quickchartButtonEl.classList.add('colab-df-spinner');\n",
              "      try {\n",
              "        const charts = await google.colab.kernel.invokeFunction(\n",
              "            'suggestCharts', [key], {});\n",
              "      } catch (error) {\n",
              "        console.error('Error during call to suggestCharts:', error);\n",
              "      }\n",
              "      quickchartButtonEl.classList.remove('colab-df-spinner');\n",
              "      quickchartButtonEl.classList.add('colab-df-quickchart-complete');\n",
              "    }\n",
              "    (() => {\n",
              "      let quickchartButtonEl =\n",
              "        document.querySelector('#df-61dfd5fc-8c97-42b7-a2f2-7c65b6304cf7 button');\n",
              "      quickchartButtonEl.style.display =\n",
              "        google.colab.kernel.accessAllowed ? 'block' : 'none';\n",
              "    })();\n",
              "  </script>\n",
              "</div>\n",
              "\n",
              "    </div>\n",
              "  </div>\n"
            ],
            "application/vnd.google.colaboratory.intrinsic+json": {
              "type": "dataframe",
              "variable_name": "titles_df",
              "summary": "{\n  \"name\": \"titles_df\",\n  \"rows\": 96203,\n  \"fields\": [\n    {\n      \"column\": \"title\",\n      \"properties\": {\n        \"dtype\": \"string\",\n        \"num_unique_values\": 92395,\n        \"samples\": [\n          \"ibm scientists find new way to shrink transistors\",\n          \"mnist digits for node.js and the browser\",\n          \"buzzy photo app frontback shuns twitter interest  raises millions instead\"\n        ],\n        \"semantic_type\": \"\",\n        \"description\": \"\"\n      }\n    },\n    {\n      \"column\": \"source\",\n      \"properties\": {\n        \"dtype\": \"category\",\n        \"num_unique_values\": 3,\n        \"samples\": [\n          \"techcrunch\",\n          \"nytimes\",\n          \"github\"\n        ],\n        \"semantic_type\": \"\",\n        \"description\": \"\"\n      }\n    }\n  ]\n}"
            }
          },
          "metadata": {},
          "execution_count": 12
        }
      ]
    },
    {
      "cell_type": "code",
      "source": [
        "CLASSES = {\n",
        "    'github': 0,\n",
        "    'nytimes': 1,\n",
        "    'techcrunch': 2\n",
        "}\n",
        "N_CLASSES = len(CLASSES)"
      ],
      "metadata": {
        "id": "DetxnWvHNR5k"
      },
      "execution_count": 13,
      "outputs": []
    },
    {
      "cell_type": "code",
      "source": [
        "def encode_labels(sources):\n",
        "    classes = [CLASSES[source] for source in sources]\n",
        "    one_hots = to_categorical(classes, num_classes=N_CLASSES)\n",
        "    return one_hots"
      ],
      "metadata": {
        "id": "vEAkj0oSNR2J"
      },
      "execution_count": 14,
      "outputs": []
    },
    {
      "cell_type": "code",
      "source": [
        "encode_labels(titles_df.source[:4])"
      ],
      "metadata": {
        "colab": {
          "base_uri": "https://localhost:8080/"
        },
        "id": "hq_s4IZONRzD",
        "outputId": "6ce4f094-9945-4cf2-a24e-92820dde85f6"
      },
      "execution_count": 15,
      "outputs": [
        {
          "output_type": "execute_result",
          "data": {
            "text/plain": [
              "array([[0., 0., 1.],\n",
              "       [0., 1., 0.],\n",
              "       [1., 0., 0.],\n",
              "       [0., 0., 1.]], dtype=float32)"
            ]
          },
          "metadata": {},
          "execution_count": 15
        }
      ]
    },
    {
      "cell_type": "code",
      "source": [
        "N_TRAIN = int(len(titles_df) * 0.80)\n",
        "\n",
        "titles_train, sources_train = (\n",
        "    titles_df.title[:N_TRAIN], titles_df.source[:N_TRAIN])\n",
        "\n",
        "titles_valid, sources_valid = (\n",
        "    titles_df.title[N_TRAIN:], titles_df.source[N_TRAIN:])"
      ],
      "metadata": {
        "id": "qQygIlSdNRv_"
      },
      "execution_count": 16,
      "outputs": []
    },
    {
      "cell_type": "code",
      "source": [
        "X_train, Y_train = titles_train.values, encode_labels(sources_train)\n",
        "\n",
        "X_valid, Y_valid = titles_valid.values, encode_labels(sources_valid)"
      ],
      "metadata": {
        "id": "yNcgFs0aNRtB"
      },
      "execution_count": 17,
      "outputs": []
    },
    {
      "cell_type": "code",
      "source": [
        "X_train[:3]"
      ],
      "metadata": {
        "colab": {
          "base_uri": "https://localhost:8080/"
        },
        "id": "VI4CwZeMNRqU",
        "outputId": "0c38d482-be5d-4148-f116-91d38a646502"
      },
      "execution_count": 18,
      "outputs": [
        {
          "output_type": "execute_result",
          "data": {
            "text/plain": [
              "array(['attempts to fix hn comment problems ', 'stop trusting yourself',\n",
              "       'scrollability'], dtype=object)"
            ]
          },
          "metadata": {},
          "execution_count": 18
        }
      ]
    },
    {
      "cell_type": "markdown",
      "source": [
        "###  ***Swivel Model***"
      ],
      "metadata": {
        "id": "F3qDpunpOcXs"
      }
    },
    {
      "cell_type": "code",
      "source": [
        "SWIVEL = \"https://tfhub.dev/google/tf2-preview/gnews-swivel-20dim-with-oov/1\"\n",
        "\n",
        "swivel_module = KerasLayer(SWIVEL, output_shape=[20], input_shape=[], dtype=tf.string, trainable=True)"
      ],
      "metadata": {
        "id": "NJ9Zql-UNRng"
      },
      "execution_count": 19,
      "outputs": []
    },
    {
      "cell_type": "code",
      "source": [
        "def build_model(hub_module, model_name):\n",
        "    inputs = Input(shape=[], dtype=tf.string, name=\"text\")\n",
        "    module = hub_module(inputs)\n",
        "    h1 = Dense(16, activation='relu', name=\"h1\")(module)\n",
        "    outputs = Dense(N_CLASSES, activation='softmax', name='outputs')(h1)\n",
        "    model = Model(inputs=inputs, outputs=[outputs], name=model_name)\n",
        "\n",
        "    model.compile(\n",
        "        optimizer='adam',\n",
        "        loss='categorical_crossentropy',\n",
        "        metrics=['accuracy']\n",
        "    )\n",
        "    return model"
      ],
      "metadata": {
        "id": "dRW3CyLhNRlS"
      },
      "execution_count": 20,
      "outputs": []
    },
    {
      "cell_type": "code",
      "source": [
        "def train_and_evaluate(train_data, val_data, model, batch_size=5000):\n",
        "    tf.random.set_seed(33)\n",
        "    X_train, Y_train = train_data\n",
        "\n",
        "    history = model.fit(\n",
        "        X_train, Y_train,\n",
        "        epochs=100,\n",
        "        batch_size=batch_size,\n",
        "        validation_data=val_data,\n",
        "        callbacks=[EarlyStopping()],\n",
        "    )\n",
        "    return history"
      ],
      "metadata": {
        "id": "2WYcykPuNRiO"
      },
      "execution_count": 21,
      "outputs": []
    },
    {
      "cell_type": "code",
      "source": [
        "txtcls_model = build_model(swivel_module, model_name='txtcls_swivel')"
      ],
      "metadata": {
        "id": "ZvqA_tS8NRfj"
      },
      "execution_count": 22,
      "outputs": []
    },
    {
      "cell_type": "code",
      "source": [
        "txtcls_model.summary()"
      ],
      "metadata": {
        "colab": {
          "base_uri": "https://localhost:8080/"
        },
        "id": "nzp5a3d5NRcl",
        "outputId": "882f21de-317e-43ce-e8c3-f8b1cdd89fb3"
      },
      "execution_count": 23,
      "outputs": [
        {
          "output_type": "stream",
          "name": "stdout",
          "text": [
            "Model: \"txtcls_swivel\"\n",
            "_________________________________________________________________\n",
            " Layer (type)                Output Shape              Param #   \n",
            "=================================================================\n",
            " text (InputLayer)           [(None,)]                 0         \n",
            "                                                                 \n",
            " keras_layer (KerasLayer)    (None, 20)                389380    \n",
            "                                                                 \n",
            " h1 (Dense)                  (None, 16)                336       \n",
            "                                                                 \n",
            " outputs (Dense)             (None, 3)                 51        \n",
            "                                                                 \n",
            "=================================================================\n",
            "Total params: 389767 (1.49 MB)\n",
            "Trainable params: 389767 (1.49 MB)\n",
            "Non-trainable params: 0 (0.00 Byte)\n",
            "_________________________________________________________________\n"
          ]
        }
      ]
    },
    {
      "cell_type": "markdown",
      "source": [
        "### ***Model Training & Evaluation***"
      ],
      "metadata": {
        "id": "AlG6X8XLOqcP"
      }
    },
    {
      "cell_type": "code",
      "source": [
        "train_data = (X_train, Y_train)\n",
        "\n",
        "val_data = (X_valid, Y_valid)"
      ],
      "metadata": {
        "id": "J-5r0D21NRZ4"
      },
      "execution_count": 24,
      "outputs": []
    },
    {
      "cell_type": "code",
      "source": [
        "txtcls_history = train_and_evaluate(train_data, val_data, txtcls_model)"
      ],
      "metadata": {
        "colab": {
          "base_uri": "https://localhost:8080/"
        },
        "id": "RW7kT9YCNRXD",
        "outputId": "140d2f8e-466c-499b-def6-06222cf8ef87"
      },
      "execution_count": 25,
      "outputs": [
        {
          "output_type": "stream",
          "name": "stdout",
          "text": [
            "Epoch 1/100\n",
            "16/16 [==============================] - 6s 194ms/step - loss: 1.1629 - accuracy: 0.3905 - val_loss: 1.1060 - val_accuracy: 0.4199\n",
            "Epoch 2/100\n",
            "16/16 [==============================] - 3s 172ms/step - loss: 1.0671 - accuracy: 0.4493 - val_loss: 1.0336 - val_accuracy: 0.4742\n",
            "Epoch 3/100\n",
            "16/16 [==============================] - 2s 127ms/step - loss: 1.0052 - accuracy: 0.5009 - val_loss: 0.9837 - val_accuracy: 0.5173\n",
            "Epoch 4/100\n",
            "16/16 [==============================] - 3s 216ms/step - loss: 0.9590 - accuracy: 0.5403 - val_loss: 0.9430 - val_accuracy: 0.5540\n",
            "Epoch 5/100\n",
            "16/16 [==============================] - 2s 154ms/step - loss: 0.9186 - accuracy: 0.5709 - val_loss: 0.9058 - val_accuracy: 0.5818\n",
            "Epoch 6/100\n",
            "16/16 [==============================] - 2s 116ms/step - loss: 0.8801 - accuracy: 0.5989 - val_loss: 0.8693 - val_accuracy: 0.6080\n",
            "Epoch 7/100\n",
            "16/16 [==============================] - 2s 128ms/step - loss: 0.8417 - accuracy: 0.6238 - val_loss: 0.8325 - val_accuracy: 0.6290\n",
            "Epoch 8/100\n",
            "16/16 [==============================] - 2s 128ms/step - loss: 0.8027 - accuracy: 0.6470 - val_loss: 0.7953 - val_accuracy: 0.6500\n",
            "Epoch 9/100\n",
            "16/16 [==============================] - 2s 117ms/step - loss: 0.7632 - accuracy: 0.6704 - val_loss: 0.7583 - val_accuracy: 0.6689\n",
            "Epoch 10/100\n",
            "16/16 [==============================] - 1s 64ms/step - loss: 0.7241 - accuracy: 0.6910 - val_loss: 0.7223 - val_accuracy: 0.6896\n",
            "Epoch 11/100\n",
            "16/16 [==============================] - 1s 88ms/step - loss: 0.6861 - accuracy: 0.7097 - val_loss: 0.6884 - val_accuracy: 0.7054\n",
            "Epoch 12/100\n",
            "16/16 [==============================] - 2s 108ms/step - loss: 0.6504 - accuracy: 0.7269 - val_loss: 0.6574 - val_accuracy: 0.7209\n",
            "Epoch 13/100\n",
            "16/16 [==============================] - 1s 42ms/step - loss: 0.6177 - accuracy: 0.7423 - val_loss: 0.6302 - val_accuracy: 0.7319\n",
            "Epoch 14/100\n",
            "16/16 [==============================] - 1s 50ms/step - loss: 0.5886 - accuracy: 0.7559 - val_loss: 0.6066 - val_accuracy: 0.7452\n",
            "Epoch 15/100\n",
            "16/16 [==============================] - 1s 50ms/step - loss: 0.5630 - accuracy: 0.7672 - val_loss: 0.5865 - val_accuracy: 0.7545\n",
            "Epoch 16/100\n",
            "16/16 [==============================] - 1s 72ms/step - loss: 0.5407 - accuracy: 0.7774 - val_loss: 0.5696 - val_accuracy: 0.7626\n",
            "Epoch 17/100\n",
            "16/16 [==============================] - 1s 62ms/step - loss: 0.5210 - accuracy: 0.7860 - val_loss: 0.5554 - val_accuracy: 0.7682\n",
            "Epoch 18/100\n",
            "16/16 [==============================] - 1s 61ms/step - loss: 0.5037 - accuracy: 0.7929 - val_loss: 0.5434 - val_accuracy: 0.7742\n",
            "Epoch 19/100\n",
            "16/16 [==============================] - 1s 50ms/step - loss: 0.4883 - accuracy: 0.7996 - val_loss: 0.5333 - val_accuracy: 0.7784\n",
            "Epoch 20/100\n",
            "16/16 [==============================] - 1s 50ms/step - loss: 0.4746 - accuracy: 0.8058 - val_loss: 0.5244 - val_accuracy: 0.7805\n",
            "Epoch 21/100\n",
            "16/16 [==============================] - 1s 50ms/step - loss: 0.4623 - accuracy: 0.8119 - val_loss: 0.5169 - val_accuracy: 0.7835\n",
            "Epoch 22/100\n",
            "16/16 [==============================] - 0s 28ms/step - loss: 0.4511 - accuracy: 0.8165 - val_loss: 0.5107 - val_accuracy: 0.7866\n",
            "Epoch 23/100\n",
            "16/16 [==============================] - 1s 51ms/step - loss: 0.4409 - accuracy: 0.8210 - val_loss: 0.5053 - val_accuracy: 0.7892\n",
            "Epoch 24/100\n",
            "16/16 [==============================] - 1s 50ms/step - loss: 0.4317 - accuracy: 0.8250 - val_loss: 0.5006 - val_accuracy: 0.7914\n",
            "Epoch 25/100\n",
            "16/16 [==============================] - 0s 16ms/step - loss: 0.4232 - accuracy: 0.8293 - val_loss: 0.4968 - val_accuracy: 0.7936\n",
            "Epoch 26/100\n",
            "16/16 [==============================] - 1s 62ms/step - loss: 0.4153 - accuracy: 0.8326 - val_loss: 0.4933 - val_accuracy: 0.7956\n",
            "Epoch 27/100\n",
            "16/16 [==============================] - 1s 76ms/step - loss: 0.4080 - accuracy: 0.8355 - val_loss: 0.4906 - val_accuracy: 0.7971\n",
            "Epoch 28/100\n",
            "16/16 [==============================] - 1s 69ms/step - loss: 0.4013 - accuracy: 0.8389 - val_loss: 0.4884 - val_accuracy: 0.7982\n",
            "Epoch 29/100\n",
            "16/16 [==============================] - 1s 66ms/step - loss: 0.3951 - accuracy: 0.8411 - val_loss: 0.4865 - val_accuracy: 0.7990\n",
            "Epoch 30/100\n",
            "16/16 [==============================] - 0s 28ms/step - loss: 0.3892 - accuracy: 0.8443 - val_loss: 0.4854 - val_accuracy: 0.7994\n",
            "Epoch 31/100\n",
            "16/16 [==============================] - 1s 51ms/step - loss: 0.3838 - accuracy: 0.8465 - val_loss: 0.4839 - val_accuracy: 0.8010\n",
            "Epoch 32/100\n",
            "16/16 [==============================] - 1s 41ms/step - loss: 0.3787 - accuracy: 0.8490 - val_loss: 0.4833 - val_accuracy: 0.8010\n",
            "Epoch 33/100\n",
            "16/16 [==============================] - 0s 27ms/step - loss: 0.3739 - accuracy: 0.8511 - val_loss: 0.4828 - val_accuracy: 0.8018\n",
            "Epoch 34/100\n",
            "16/16 [==============================] - 1s 51ms/step - loss: 0.3695 - accuracy: 0.8534 - val_loss: 0.4823 - val_accuracy: 0.8015\n",
            "Epoch 35/100\n",
            "16/16 [==============================] - 1s 39ms/step - loss: 0.3652 - accuracy: 0.8553 - val_loss: 0.4822 - val_accuracy: 0.8016\n",
            "Epoch 36/100\n",
            "16/16 [==============================] - 0s 18ms/step - loss: 0.3611 - accuracy: 0.8567 - val_loss: 0.4826 - val_accuracy: 0.8022\n"
          ]
        }
      ]
    },
    {
      "cell_type": "code",
      "source": [
        "history = txtcls_history\n",
        "\n",
        "pd.DataFrame(history.history)[['loss', 'val_loss']].plot()\n",
        "plt.grid(True)\n",
        "plt.show()\n",
        "\n",
        "pd.DataFrame(history.history)[['accuracy', 'val_accuracy']].plot()\n",
        "plt.grid(True)\n",
        "plt.show()"
      ],
      "metadata": {
        "colab": {
          "base_uri": "https://localhost:8080/",
          "height": 847
        },
        "id": "uIVJr1sVNRUk",
        "outputId": "34251119-ede2-4881-887c-3582d3eebbef"
      },
      "execution_count": 28,
      "outputs": [
        {
          "output_type": "display_data",
          "data": {
            "text/plain": [
              "<Figure size 640x480 with 1 Axes>"
            ],
            "image/png": "[encoded data removed]"
          },
          "metadata": {}
        },
        {
          "output_type": "display_data",
          "data": {
            "text/plain": [
              "<Figure size 640x480 with 1 Axes>"
            ],
            "image/png": "[encoded data removed]"
          },
          "metadata": {}
        }
      ]
    },
    {
      "cell_type": "code",
      "source": [
        "txtcls_model.predict(x=[\"YouTube introduces Video Chapters to make it easier to navigate longer videos\"])"
      ],
      "metadata": {
        "colab": {
          "base_uri": "https://localhost:8080/"
        },
        "id": "LqNr87ERNRRq",
        "outputId": "ecf1d577-839e-4d77-f9b1-fca6eb5fc75c"
      },
      "execution_count": 29,
      "outputs": [
        {
          "output_type": "stream",
          "name": "stdout",
          "text": [
            "1/1 [==============================] - 0s 128ms/step\n"
          ]
        },
        {
          "output_type": "execute_result",
          "data": {
            "text/plain": [
              "array([[0.08974307, 0.8439801 , 0.06627692]], dtype=float32)"
            ]
          },
          "metadata": {},
          "execution_count": 29
        }
      ]
    },
    {
      "cell_type": "code",
      "source": [
        "tf.saved_model.save(txtcls_model, './txtcls_swivel/')"
      ],
      "metadata": {
        "id": "k49jtTD8NRPG"
      },
      "execution_count": 30,
      "outputs": []
    },
    {
      "cell_type": "code",
      "source": [
        "!saved_model_cli show \\\n",
        " --tag_set serve \\\n",
        " --signature_def serving_default \\\n",
        " --dir ./txtcls_swivel/"
      ],
      "metadata": {
        "colab": {
          "base_uri": "https://localhost:8080/"
        },
        "id": "yERKfUd4NRMh",
        "outputId": "d4fe828f-9ac0-4130-d548-f4b45201837f"
      },
      "execution_count": 31,
      "outputs": [
        {
          "output_type": "stream",
          "name": "stdout",
          "text": [
            "2024-06-22 18:53:25.083643: E external/local_xla/xla/stream_executor/cuda/cuda_dnn.cc:9261] Unable to register cuDNN factory: Attempting to register factory for plugin cuDNN when one has already been registered\n",
            "2024-06-22 18:53:25.083700: E external/local_xla/xla/stream_executor/cuda/cuda_fft.cc:607] Unable to register cuFFT factory: Attempting to register factory for plugin cuFFT when one has already been registered\n",
            "2024-06-22 18:53:25.084912: E external/local_xla/xla/stream_executor/cuda/cuda_blas.cc:1515] Unable to register cuBLAS factory: Attempting to register factory for plugin cuBLAS when one has already been registered\n",
            "2024-06-22 18:53:26.217979: W tensorflow/compiler/tf2tensorrt/utils/py_utils.cc:38] TF-TRT Warning: Could not find TensorRT\n",
            "The given SavedModel SignatureDef contains the following input(s):\n",
            "  inputs['text'] tensor_info:\n",
            "      dtype: DT_STRING\n",
            "      shape: (-1)\n",
            "      name: serving_default_text:0\n",
            "The given SavedModel SignatureDef contains the following output(s):\n",
            "  outputs['outputs'] tensor_info:\n",
            "      dtype: DT_FLOAT\n",
            "      shape: (-1, 3)\n",
            "      name: StatefulPartitionedCall_1:0\n",
            "Method name is: tensorflow/serving/predict\n"
          ]
        }
      ]
    },
    {
      "cell_type": "code",
      "source": [
        "@tf.function(input_signature=[tf.TensorSpec([None], dtype=tf.string)])\n",
        "def source_name(text):\n",
        "    labels = tf.constant(['github', 'nytimes', 'techcrunch'], dtype=tf.string)\n",
        "    probs = txtcls_model(text, training=False)\n",
        "    indices = tf.argmax(probs, axis=1)\n",
        "    pred_source = tf.gather(params=labels, indices=indices)\n",
        "    pred_confidence = tf.reduce_max(probs, axis=1)\n",
        "\n",
        "    return {'source': pred_source,\n",
        "            'confidence': pred_confidence}"
      ],
      "metadata": {
        "id": "YgqMd3kaNRJ0"
      },
      "execution_count": 32,
      "outputs": []
    },
    {
      "cell_type": "code",
      "source": [
        "shutil.rmtree('./txtcls_swivel', ignore_errors=True)\n",
        "\n",
        "txtcls_model.save('./txtcls_swivel', signatures={'serving_default': source_name})"
      ],
      "metadata": {
        "id": "AGuCEIgBNRHJ"
      },
      "execution_count": 33,
      "outputs": []
    },
    {
      "cell_type": "code",
      "source": [
        "!saved_model_cli show \\\n",
        " --tag_set serve \\\n",
        " --signature_def serving_default \\\n",
        " --dir ./txtcls_swivel/"
      ],
      "metadata": {
        "colab": {
          "base_uri": "https://localhost:8080/"
        },
        "id": "GvmOXFG7NREh",
        "outputId": "a69f0421-634c-4ea1-f694-a22820b50a5a"
      },
      "execution_count": 34,
      "outputs": [
        {
          "output_type": "stream",
          "name": "stdout",
          "text": [
            "2024-06-22 18:53:36.981569: E external/local_xla/xla/stream_executor/cuda/cuda_dnn.cc:9261] Unable to register cuDNN factory: Attempting to register factory for plugin cuDNN when one has already been registered\n",
            "2024-06-22 18:53:36.981623: E external/local_xla/xla/stream_executor/cuda/cuda_fft.cc:607] Unable to register cuFFT factory: Attempting to register factory for plugin cuFFT when one has already been registered\n",
            "2024-06-22 18:53:36.982753: E external/local_xla/xla/stream_executor/cuda/cuda_blas.cc:1515] Unable to register cuBLAS factory: Attempting to register factory for plugin cuBLAS when one has already been registered\n",
            "2024-06-22 18:53:38.007809: W tensorflow/compiler/tf2tensorrt/utils/py_utils.cc:38] TF-TRT Warning: Could not find TensorRT\n",
            "The given SavedModel SignatureDef contains the following input(s):\n",
            "  inputs['text'] tensor_info:\n",
            "      dtype: DT_STRING\n",
            "      shape: (-1)\n",
            "      name: serving_default_text:0\n",
            "The given SavedModel SignatureDef contains the following output(s):\n",
            "  outputs['confidence'] tensor_info:\n",
            "      dtype: DT_FLOAT\n",
            "      shape: (-1)\n",
            "      name: StatefulPartitionedCall_1:0\n",
            "  outputs['source'] tensor_info:\n",
            "      dtype: DT_STRING\n",
            "      shape: (-1)\n",
            "      name: StatefulPartitionedCall_1:1\n",
            "Method name is: tensorflow/serving/predict\n"
          ]
        }
      ]
    },
    {
      "cell_type": "code",
      "source": [
        "title1 = \"House Passes Sweeping Policing Bill Targeting Racial Bias and Use of Force\"\n",
        "title2 = \"YouTube introduces Video Chapters to make it easier to navigate longer videos\"\n",
        "title3 = \"As facebook turns 10  zuckerberg wants to change how tech industry works\"\n",
        "\n",
        "restored = tf.keras.models.load_model('./txtcls_swivel')\n",
        "infer = restored.signatures['serving_default']\n",
        "outputs = infer(text=tf.constant([title1, title2, title3]))"
      ],
      "metadata": {
        "id": "UGRF4S-nO-Ve"
      },
      "execution_count": 35,
      "outputs": []
    },
    {
      "cell_type": "code",
      "source": [
        "print(outputs['source'].numpy())\n",
        "print(outputs['confidence'].numpy())"
      ],
      "metadata": {
        "colab": {
          "base_uri": "https://localhost:8080/"
        },
        "id": "d34-SoskO-S7",
        "outputId": "215d7de3-bf64-4283-d9dc-0110fef9fe53"
      },
      "execution_count": 36,
      "outputs": [
        {
          "output_type": "stream",
          "name": "stdout",
          "text": [
            "[b'github' b'nytimes' b'techcrunch']\n",
            "[0.97954845 0.8439801  0.89969945]\n"
          ]
        }
      ]
    },
    {
      "cell_type": "markdown",
      "source": [
        "### ***Online Serving Model Deployment***"
      ],
      "metadata": {
        "id": "58obvgdDPC-2"
      }
    },
    {
      "cell_type": "code",
      "source": [
        "%%bash\n",
        "MODEL_NAME=\"txtcls\"\n",
        "MODEL_VERSION=\"swivel\"\n",
        "MODEL_LOCATION=\"./txtcls_swivel/\"\n",
        "\n",
        "gcloud ai-platform models create ${MODEL_NAME}\n",
        "\n",
        "gcloud ai-platform versions create ${MODEL_VERSION} \\\n",
        "--model ${MODEL_NAME} \\\n",
        "--origin ${MODEL_LOCATION} \\\n",
        "--staging-bucket gs://${BUCKET} \\\n",
        "--runtime-version=2.1"
      ],
      "metadata": {
        "id": "s_43UtToO-QN"
      },
      "execution_count": 38,
      "outputs": []
    },
    {
      "cell_type": "markdown",
      "source": [
        "## **Evaluation job on CAIP Set-Up**"
      ],
      "metadata": {
        "id": "WnQcDcgJPMaj"
      }
    },
    {
      "cell_type": "code",
      "source": [
        "%load_ext google.cloud.bigquery"
      ],
      "metadata": {
        "id": "DXHFXRWAO-No"
      },
      "execution_count": null,
      "outputs": []
    },
    {
      "cell_type": "code",
      "source": [
        "%%bigquery --project $PROJECT\n",
        "SELECT * FROM `txtcls_eval.swivel`"
      ],
      "metadata": {
        "id": "homjk60MO-K-"
      },
      "execution_count": null,
      "outputs": []
    },
    {
      "cell_type": "markdown",
      "source": [
        "## **Sending Prediction Requests to The Model**"
      ],
      "metadata": {
        "id": "FMplrit2PUjW"
      }
    },
    {
      "cell_type": "code",
      "source": [
        "%%writefile input.json\n",
        "{\"text\": \"YouTube introduces Video Chapters to make it easier to navigate longer videos\"}"
      ],
      "metadata": {
        "id": "Ie_3J5xzO-IH"
      },
      "execution_count": null,
      "outputs": []
    },
    {
      "cell_type": "code",
      "source": [
        "!gcloud ai-platform predict \\\n",
        "  --model txtcls \\\n",
        "  --json-instances input.json \\\n",
        "  --version swivel"
      ],
      "metadata": {
        "id": "eIYbSWv6O-FK"
      },
      "execution_count": null,
      "outputs": []
    },
    {
      "cell_type": "code",
      "source": [
        "%%writefile input.json\n",
        "{\"text\": \"A Filmmaker Put Away for Tax Fraud Takes Us Inside a British Prison\"}"
      ],
      "metadata": {
        "id": "gHYgBEnUO-DP"
      },
      "execution_count": null,
      "outputs": []
    },
    {
      "cell_type": "code",
      "source": [
        "!gcloud ai-platform predict \\\n",
        "  --model txtcls \\\n",
        "  --json-instances input.json \\\n",
        "  --version swivel"
      ],
      "metadata": {
        "id": "j-8j2PQEO9_Y"
      },
      "execution_count": null,
      "outputs": []
    },
    {
      "cell_type": "code",
      "source": [
        "%%writefile input.json\n",
        "{\"text\": \"A native Mac app wrapper for WhatsApp Web\"}"
      ],
      "metadata": {
        "id": "yA_I0CuRO98S"
      },
      "execution_count": null,
      "outputs": []
    },
    {
      "cell_type": "code",
      "source": [
        "!gcloud ai-platform predict \\\n",
        "  --model txtcls \\\n",
        "  --json-instances input.json \\\n",
        "  --version swivel"
      ],
      "metadata": {
        "id": "9Ojf9miaO953"
      },
      "execution_count": null,
      "outputs": []
    },
    {
      "cell_type": "code",
      "source": [
        "%%writefile input.json\n",
        "{\"text\": \"Astronauts Dock With Space Station After Historic SpaceX Launch\"}"
      ],
      "metadata": {
        "id": "QKQ1FUL9O923"
      },
      "execution_count": null,
      "outputs": []
    },
    {
      "cell_type": "code",
      "source": [
        "!gcloud ai-platform predict \\\n",
        "  --model txtcls \\\n",
        "  --json-instances input.json \\\n",
        "  --version swivel"
      ],
      "metadata": {
        "id": "nhEEeQCQPt_9"
      },
      "execution_count": null,
      "outputs": []
    },
    {
      "cell_type": "code",
      "source": [
        "%%writefile input.json\n",
        "{\"text\": \"House Passes Sweeping Policing Bill Targeting Racial Bias and Use of Force\"}"
      ],
      "metadata": {
        "id": "h5ckJmTbPt9P"
      },
      "execution_count": null,
      "outputs": []
    },
    {
      "cell_type": "code",
      "source": [
        "!gcloud ai-platform predict \\\n",
        "  --model txtcls \\\n",
        "  --json-instances input.json \\\n",
        "  --version swivel"
      ],
      "metadata": {
        "id": "wk4DjLj8Pt6l"
      },
      "execution_count": null,
      "outputs": []
    },
    {
      "cell_type": "code",
      "source": [
        "%%writefile input.json\n",
        "{\"text\": \"Scrollability\"}"
      ],
      "metadata": {
        "id": "ffo4vVKJPt3-"
      },
      "execution_count": null,
      "outputs": []
    },
    {
      "cell_type": "code",
      "source": [
        "!gcloud ai-platform predict \\\n",
        "  --model txtcls \\\n",
        "  --json-instances input.json \\\n",
        "  --version swivel"
      ],
      "metadata": {
        "id": "6fCXK-kvPt1K"
      },
      "execution_count": null,
      "outputs": []
    },
    {
      "cell_type": "code",
      "source": [
        "%%writefile input.json\n",
        "{\"text\": \"iOS 14 lets deaf users set alerts for important sounds, among other clever accessibility perks\"}"
      ],
      "metadata": {
        "id": "-tnPUchLPtx3"
      },
      "execution_count": null,
      "outputs": []
    },
    {
      "cell_type": "code",
      "source": [
        "!gcloud ai-platform predict \\\n",
        "  --model txtcls \\\n",
        "  --json-instances input.json \\\n",
        "  --version swivel"
      ],
      "metadata": {
        "id": "rVUnx8NzP3Go"
      },
      "execution_count": null,
      "outputs": []
    },
    {
      "cell_type": "code",
      "source": [
        "%%bigquery --project $PROJECT\n",
        "SELECT * FROM `txtcls_eval.swivel`"
      ],
      "metadata": {
        "id": "UzgzrMvSP3EL"
      },
      "execution_count": null,
      "outputs": []
    },
    {
      "cell_type": "markdown",
      "source": [
        "## **Providing Ground Truth's Raw Prediction Input**"
      ],
      "metadata": {
        "id": "1zwHW63hP70Q"
      }
    },
    {
      "cell_type": "code",
      "source": [
        "%%bigquery --project $PROJECT\n",
        "UPDATE `txtcls_eval.swivel`\n",
        "SET\n",
        "    groundtruth = '{\"predictions\": [{\"source\": \"techcrunch\"}]}'\n",
        "WHERE\n",
        "    raw_data = '{\"instances\": [{\"text\": \"YouTube introduces Video Chapters to make it easier to navigate longer videos\"}]}';"
      ],
      "metadata": {
        "id": "YBBdbXepP3Bg"
      },
      "execution_count": null,
      "outputs": []
    },
    {
      "cell_type": "code",
      "source": [
        "%%bigquery --project $PROJECT\n",
        "UPDATE `txtcls_eval.swivel`\n",
        "SET\n",
        "    groundtruth = '{\"predictions\": [{\"source\": \"nytimes\"}]}'\n",
        "WHERE\n",
        "    raw_data = '{\"instances\": [{\"text\": \"A Filmmaker Put Away for Tax Fraud Takes Us Inside a British Prison\"}]}';"
      ],
      "metadata": {
        "id": "C5hWmPPFP2-7"
      },
      "execution_count": null,
      "outputs": []
    },
    {
      "cell_type": "code",
      "source": [
        "%%bigquery --project $PROJECT\n",
        "UPDATE `txtcls_eval.swivel`\n",
        "SET\n",
        "    groundtruth = '{\"predictions\": [{\"source\": \"github\"}]}'\n",
        "WHERE\n",
        "    raw_data = '{\"instances\": [{\"text\": \"A native Mac app wrapper for WhatsApp Web\"}]}';"
      ],
      "metadata": {
        "id": "CQPqWaTvP28O"
      },
      "execution_count": null,
      "outputs": []
    },
    {
      "cell_type": "code",
      "source": [
        "%%bigquery --project $PROJECT\n",
        "UPDATE `txtcls_eval.swivel`\n",
        "SET\n",
        "    groundtruth = '{\"predictions\": [{\"source\": \"nytimes\"}]}'\n",
        "WHERE\n",
        "    raw_data = '{\"instances\": [{\"text\": \"Astronauts Dock With Space Station After Historic SpaceX Launch\"}]}';"
      ],
      "metadata": {
        "id": "MeGK5E0PP25-"
      },
      "execution_count": null,
      "outputs": []
    },
    {
      "cell_type": "code",
      "source": [
        "%%bigquery --project $PROJECT\n",
        "UPDATE `txtcls_eval.swivel`\n",
        "SET\n",
        "    groundtruth = '{\"predictions\": [{\"source\": \"nytimes\"}]}'\n",
        "WHERE\n",
        "    raw_data = '{\"instances\": [{\"text\": \"House Passes Sweeping Policing Bill Targeting Racial Bias and Use of Force\"}]}';"
      ],
      "metadata": {
        "id": "3y3hRuPAP22l"
      },
      "execution_count": null,
      "outputs": []
    },
    {
      "cell_type": "code",
      "source": [
        "%%bigquery --project $PROJECT\n",
        "UPDATE `txtcls_eval.swivel`\n",
        "SET\n",
        "    groundtruth = '{\"predictions\": [{\"source\": \"github\"}]}'\n",
        "WHERE\n",
        "    raw_data = '{\"instances\": [{\"text\": \"Scrollability\"}]}';"
      ],
      "metadata": {
        "id": "f_zhfmKHP2zv"
      },
      "execution_count": null,
      "outputs": []
    },
    {
      "cell_type": "code",
      "source": [
        "%%bigquery --project $PROJECT\n",
        "UPDATE `txtcls_eval.swivel`\n",
        "SET\n",
        "    groundtruth = '{\"predictions\": [{\"source\": \"techcrunch\"}]}'\n",
        "WHERE\n",
        "    raw_data = '{\"instances\": [{\"text\": \"iOS 14 lets deaf users set alerts for important sounds, among other clever accessibility perks\"}]}';"
      ],
      "metadata": {
        "id": "GVbBH2E6P2w6"
      },
      "execution_count": null,
      "outputs": []
    },
    {
      "cell_type": "code",
      "source": [
        "%%bigquery --project $PROJECT\n",
        "SELECT * FROM `txtcls_eval.swivel`"
      ],
      "metadata": {
        "id": "cVw-qvPdP2uR"
      },
      "execution_count": null,
      "outputs": []
    },
    {
      "cell_type": "markdown",
      "source": [
        "## **Computing Evaluation Metrics**"
      ],
      "metadata": {
        "id": "I3Cuooa7QZFb"
      }
    },
    {
      "cell_type": "code",
      "source": [
        "%%bigquery --project $PROJECT\n",
        "SELECT\n",
        "  model,\n",
        "  model_version,\n",
        "  time,\n",
        "  REGEXP_EXTRACT(raw_data, r'.*\"text\": \"(.*)\"') AS text,\n",
        "  REGEXP_EXTRACT(raw_prediction, r'.*\"source\": \"(.*?)\"') AS prediction,\n",
        "  REGEXP_EXTRACT(raw_prediction, r'.*\"confidence\": (0.\\d{2}).*') AS confidence,\n",
        "  REGEXP_EXTRACT(groundtruth, r'.*\"source\": \"(.*?)\"') AS groundtruth,\n",
        "FROM\n",
        "  `txtcls_eval.swivel`"
      ],
      "metadata": {
        "id": "gSQKUVfAP2rZ"
      },
      "execution_count": null,
      "outputs": []
    },
    {
      "cell_type": "code",
      "source": [
        "query = '''\n",
        "SELECT\n",
        "  model,\n",
        "  model_version,\n",
        "  time,\n",
        "  REGEXP_EXTRACT(raw_data, r'.*\"text\": \"(.*)\"') AS text,\n",
        "  REGEXP_EXTRACT(raw_prediction, r'.*\"source\": \"(.*?)\"') AS prediction,\n",
        "  REGEXP_EXTRACT(raw_prediction, r'.*\"confidence\": (0.\\d{2}).*') AS confidence,\n",
        "  REGEXP_EXTRACT(groundtruth, r'.*\"source\": \"(.*?)\"') AS groundtruth,\n",
        "FROM\n",
        "  `txtcls_eval.swivel`\n",
        "'''\n",
        "\n",
        "client = bigquery.Client()\n",
        "df_results = client.query(query).to_dataframe()"
      ],
      "metadata": {
        "id": "Qwdk7nDLP2os"
      },
      "execution_count": null,
      "outputs": []
    },
    {
      "cell_type": "code",
      "source": [
        "df_results.head(20)"
      ],
      "metadata": {
        "id": "kMv-lcBLP2l3"
      },
      "execution_count": null,
      "outputs": []
    },
    {
      "cell_type": "code",
      "source": [
        "prediction = list(df_results.prediction)\n",
        "groundtruth = list(df_results.groundtruth)"
      ],
      "metadata": {
        "id": "ZxvuwWUoP2jL"
      },
      "execution_count": null,
      "outputs": []
    },
    {
      "cell_type": "code",
      "source": [
        "precision, recall, fscore, support = score(groundtruth, prediction)"
      ],
      "metadata": {
        "id": "1e1qKylkP2ge"
      },
      "execution_count": null,
      "outputs": []
    },
    {
      "cell_type": "code",
      "source": [
        "sources = list(CLASSES.keys())\n",
        "results = list(zip(sources, precision, recall, fscore, support))\n",
        "print(tabulate(results, headers = ['source', 'precision', 'recall', 'fscore', 'support'],\n",
        "         tablefmt='orgtbl'))"
      ],
      "metadata": {
        "id": "UZadqdY8P2dy"
      },
      "execution_count": null,
      "outputs": []
    },
    {
      "cell_type": "code",
      "source": [
        "print(classification_report(y_true=groundtruth, y_pred=prediction))"
      ],
      "metadata": {
        "id": "fycXr89TP2bJ"
      },
      "execution_count": null,
      "outputs": []
    },
    {
      "cell_type": "code",
      "source": [
        "cm = confusion_matrix(groundtruth, prediction, labels=sources)\n",
        "\n",
        "ax= plt.subplot()\n",
        "sns.heatmap(cm, annot=True, ax = ax, cmap=\"Blues\")\n",
        "\n",
        "# labels, title and ticks\n",
        "ax.set_xlabel('Predicted labels')\n",
        "ax.set_ylabel('True labels')\n",
        "ax.set_title('Confusion Matrix')\n",
        "ax.xaxis.set_ticklabels(sources)\n",
        "ax.yaxis.set_ticklabels(sources)\n",
        "plt.savefig(\"./txtcls_cm.png\")"
      ],
      "metadata": {
        "id": "I7JjrD2vRDd2"
      },
      "execution_count": null,
      "outputs": []
    },
    {
      "cell_type": "markdown",
      "source": [
        "## ***Examine Eval Metrics by Model Version or Timestamp***"
      ],
      "metadata": {
        "id": "rbbvnIeWRHDB"
      }
    },
    {
      "cell_type": "code",
      "source": [
        "now = pd.Timestamp.now(tz='UTC')\n",
        "one_week_ago = now - pd.DateOffset(weeks=1)\n",
        "one_month_ago = now - pd.DateOffset(months=1)"
      ],
      "metadata": {
        "id": "33pa33lERDbB"
      },
      "execution_count": null,
      "outputs": []
    },
    {
      "cell_type": "code",
      "source": [
        "df_prev_week = df_results[df_results.time > one_week_ago]\n",
        "df_prev_month = df_results[df_results.time > one_month_ago]"
      ],
      "metadata": {
        "id": "OL0cfD9HRDYc"
      },
      "execution_count": null,
      "outputs": []
    },
    {
      "cell_type": "code",
      "source": [
        "df_prev_month"
      ],
      "metadata": {
        "id": "-_zTv7yRRDV5"
      },
      "execution_count": null,
      "outputs": []
    },
    {
      "cell_type": "code",
      "source": [],
      "metadata": {
        "id": "zY1GLGIRRDTM"
      },
      "execution_count": null,
      "outputs": []
    }
  ]
}