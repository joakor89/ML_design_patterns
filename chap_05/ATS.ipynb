{
  "nbformat": 4,
  "nbformat_minor": 0,
  "metadata": {
    "colab": {
      "provenance": []
    },
    "kernelspec": {
      "name": "python3",
      "display_name": "Python 3"
    },
    "language_info": {
      "name": "python"
    }
  },
  "cells": [
    {
      "cell_type": "markdown",
      "source": [
        "# **Audio to Spectro**\n",
        "\n",
        "### ***Loading Libraries***"
      ],
      "metadata": {
        "id": "tpM6duCaKGt5"
      }
    },
    {
      "cell_type": "code",
      "source": [
        "!pip install tensorflow-io"
      ],
      "metadata": {
        "id": "G_ljs5gPKYW2"
      },
      "execution_count": null,
      "outputs": []
    },
    {
      "cell_type": "code",
      "source": [
        "!pip install keras-tuner"
      ],
      "metadata": {
        "id": "HVNO44dOKYUK"
      },
      "execution_count": null,
      "outputs": []
    },
    {
      "cell_type": "code",
      "source": [
        "!pip install scipy"
      ],
      "metadata": {
        "id": "vHWIFU7GKYQ_"
      },
      "execution_count": null,
      "outputs": []
    },
    {
      "cell_type": "code",
      "execution_count": 1,
      "metadata": {
        "id": "shW56N9rKEtS"
      },
      "outputs": [],
      "source": [
        "# Operating Systems\n",
        "import os\n",
        "import shutil\n",
        "import pathlib\n",
        "import argparse\n",
        "\n",
        "# Hyperparameter Tuning\n",
        "import hypertune\n",
        "\n",
        "# Tools\n",
        "from setuptools import setup\n",
        "from setuptools import find_packages\n",
        "\n",
        "# Numerical Computing\n",
        "import numpy as np\n",
        "\n",
        "# Data Manipuation\n",
        "import pandas as pd\n",
        "\n",
        "# SciPy\n",
        "import scipy\n",
        "from scipy import stats\n",
        "from scipy import signal\n",
        "from scipy.io import wavfile\n",
        "\n",
        "# Data Visualization\n",
        "import itertools\n",
        "import seaborn as sns\n",
        "from PIL import Image\n",
        "import matplotlib.pyplot as plt\n",
        "\n",
        "# BigQuery\n",
        "from google.cloud import bigquery\n",
        "from google.colab import auth\n",
        "\n",
        "# Scikit-Learn\n",
        "from sklearn.utils import shuffle\n",
        "\n",
        "from sklearn.preprocessing import normalize\n",
        "from sklearn.metrics import confusion_matrix\n",
        "from sklearn.preprocessing import MinMaxScaler\n",
        "from sklearn.preprocessing import LabelEncoder\n",
        "from sklearn.model_selection import GridSearchCV\n",
        "from sklearn.ensemble import RandomForestClassifier\n",
        "from sklearn.metrics import accuracy_score, f1_score\n",
        "from sklearn.preprocessing import MultiLabelBinarizer\n",
        "\n",
        "# Extreme Gradient Boosting\n",
        "import xgboost as xgb\n",
        "\n",
        "# PyTorch\n",
        "import torch\n",
        "import torch.nn as nn\n",
        "import torch.optim as optim\n",
        "\n",
        "# TensorFlow\n",
        "import tensorflow as tf\n",
        "import tensorflow_hub as hub\n",
        "from tensorflow import keras\n",
        "from tensorflow.keras import Model\n",
        "import tensorflow_datasets as tfds\n",
        "from tensorflow_hub import KerasLayer\n",
        "from tensorflow import feature_column as fc\n",
        "from tensorflow.python.framework import dtypes\n",
        "from tensorflow.keras.preprocessing import text\n",
        "from tensorflow.keras.utils import to_categorical\n",
        "from tensorflow_io.bigquery import BigQueryClient\n",
        "from tensorflow.keras.preprocessing.text import Tokenizer\n",
        "from tensorflow.keras import callbacks, layers, models, utils\n",
        "from tensorflow.keras.preprocessing.sequence import pad_sequences\n",
        "from tensorflow.keras.layers import Dense, Embedding, Input, Flatten, Conv2D, MaxPooling2D\n",
        "\n",
        "# Keras API\n",
        "import kerastuner as kt"
      ]
    },
    {
      "cell_type": "code",
      "source": [
        "prefix = 'gs://path/to/audio/files'\n",
        "spectro_prefix = 'gs://path/to/spectrograms'\n",
        "\n",
        "for i in range(len(names)):\n",
        "    fname = prefix + names[i]\n",
        "    !gsutil cp $fname .\n",
        "\n",
        "    # Create spectrogram with scipy\n",
        "    sample_rate, samples = wavfile.read(names[i])\n",
        "    freq, times, spectro = signal.spectrogram(samples, sample_rate)\n",
        "\n",
        "    # Create specrogram image with matplotlib\n",
        "    plt.figure(figsize=(28,28), frameon=False)\n",
        "    fig = plt.gcf()\n",
        "    plt.axis('off')\n",
        "    plt.pcolormesh(times, freq, np.log(spectro))\n",
        "\n",
        "    # Save spectrogram to local file\n",
        "    name = names[i].split('.')[0]\n",
        "    fig.savefig(name)\n",
        "    spectro_path = spectro_prefix + name + '.png'\n",
        "    local_path = name + '.png'\n",
        "\n",
        "    # Convert image to 3 channels and shrink\n",
        "    im = Image.open(local_path)\n",
        "    im.thumbnail((128,128), Image.ANTIALIAS)\n",
        "    im.convert(mode='RGB')\n",
        "    im.save(local_path)\n",
        "\n",
        "    # Save spectrogram to GCS and remove local files\n",
        "    !gsutil cp $local_path $spectro_path\n",
        "    !rm $local_path\n",
        "    local_audio = names[i]\n",
        "    !rm $local_audio"
      ],
      "metadata": {
        "id": "2B1azuPpKNeF"
      },
      "execution_count": null,
      "outputs": []
    }
  ]
}