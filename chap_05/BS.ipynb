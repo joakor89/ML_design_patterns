{
  "nbformat": 4,
  "nbformat_minor": 0,
  "metadata": {
    "colab": {
      "provenance": []
    },
    "kernelspec": {
      "name": "python3",
      "display_name": "Python 3"
    },
    "language_info": {
      "name": "python"
    }
  },
  "cells": [
    {
      "cell_type": "markdown",
      "source": [
        "# **Batch Serving Design Pattern**\n",
        "\n",
        "### ***Loading Libraries***"
      ],
      "metadata": {
        "id": "QuGaoXVxHS5E"
      }
    },
    {
      "cell_type": "code",
      "source": [
        "!pip install tensorflow-io"
      ],
      "metadata": {
        "id": "sp93u5LPHZ2A"
      },
      "execution_count": null,
      "outputs": []
    },
    {
      "cell_type": "code",
      "source": [
        "!pip install scipy"
      ],
      "metadata": {
        "id": "fSKNeNNgHZzb"
      },
      "execution_count": null,
      "outputs": []
    },
    {
      "cell_type": "code",
      "source": [
        "!pip install keras-tuner"
      ],
      "metadata": {
        "id": "i7iHcpLQHZw3"
      },
      "execution_count": null,
      "outputs": []
    },
    {
      "cell_type": "code",
      "source": [
        "!pip install tensorflow-io"
      ],
      "metadata": {
        "id": "eXfK-2VSHZuS"
      },
      "execution_count": null,
      "outputs": []
    },
    {
      "cell_type": "code",
      "source": [
        "# Operating Systems\n",
        "import os\n",
        "import shutil\n",
        "import pathlib\n",
        "import argparse\n",
        "\n",
        "# Hyperparameter Tuning\n",
        "import hypertune\n",
        "\n",
        "# Tools\n",
        "from setuptools import setup\n",
        "from setuptools import find_packages\n",
        "\n",
        "# Numerical Computing\n",
        "import numpy as np\n",
        "\n",
        "# Data Manipuation\n",
        "import pandas as pd\n",
        "\n",
        "# SciPy\n",
        "import scipy\n",
        "from scipy import stats\n",
        "from scipy import signal\n",
        "from scipy.io import wavfile\n",
        "\n",
        "# Data Visualization\n",
        "import itertools\n",
        "import seaborn as sns\n",
        "import matplotlib.pyplot as plt\n",
        "\n",
        "# BigQuery\n",
        "from google.cloud import bigquery\n",
        "from google.colab import auth\n",
        "\n",
        "# Scikit-Learn\n",
        "from sklearn.utils import shuffle\n",
        "\n",
        "from sklearn.preprocessing import normalize\n",
        "from sklearn.metrics import confusion_matrix\n",
        "from sklearn.preprocessing import MinMaxScaler\n",
        "from sklearn.preprocessing import LabelEncoder\n",
        "from sklearn.model_selection import GridSearchCV\n",
        "from sklearn.ensemble import RandomForestClassifier\n",
        "from sklearn.metrics import accuracy_score, f1_score\n",
        "from sklearn.preprocessing import MultiLabelBinarizer\n",
        "\n",
        "# Extreme Gradient Boosting\n",
        "import xgboost as xgb\n",
        "\n",
        "# PyTorch\n",
        "import torch\n",
        "import torch.nn as nn\n",
        "import torch.optim as optim\n",
        "\n",
        "# TensorFlow\n",
        "import tensorflow as tf\n",
        "import tensorflow_hub as hub\n",
        "from tensorflow import keras\n",
        "from tensorflow.keras import Model\n",
        "import tensorflow_datasets as tfds\n",
        "from tensorflow_hub import KerasLayer\n",
        "from tensorflow import feature_column as fc\n",
        "from tensorflow.python.framework import dtypes\n",
        "from tensorflow.keras.preprocessing import text\n",
        "from tensorflow.keras.utils import to_categorical\n",
        "from tensorflow_io.bigquery import BigQueryClient\n",
        "from tensorflow.keras.preprocessing.text import Tokenizer\n",
        "from tensorflow.keras import callbacks, layers, models, utils\n",
        "from tensorflow.keras.preprocessing.sequence import pad_sequences\n",
        "from tensorflow.keras.layers import Dense, Embedding, Input, Flatten, Conv2D, MaxPooling2D\n",
        "\n",
        "# Keras API\n",
        "import kerastuner as kt"
      ],
      "metadata": {
        "id": "YTwPKKpWHZr3"
      },
      "execution_count": null,
      "outputs": []
    },
    {
      "cell_type": "code",
      "source": [
        "!find export/probs/"
      ],
      "metadata": {
        "id": "V6jAKS1iHZpS"
      },
      "execution_count": null,
      "outputs": []
    },
    {
      "cell_type": "code",
      "source": [
        "%%bash\n",
        "LOCAL_DIR=$(find export/probs | head -2 | tail -1)\n",
        "BUCKET=ai-analytics-solutions-kfpdemo\n",
        "gsutil rm -rf gs://${BUCKET}/mlpatterns/batchserving\n",
        "gsutil cp -r $LOCAL_DIR gs://${BUCKET}/mlpatterns/batchserving\n",
        "gsutil ls gs://${BUCKET}/mlpatterns/batchserving"
      ],
      "metadata": {
        "id": "NOmh1fs5HZm2"
      },
      "execution_count": null,
      "outputs": []
    },
    {
      "cell_type": "markdown",
      "source": [
        "## **Loading BigQuery for Batch Serving Model**"
      ],
      "metadata": {
        "id": "sY9k0pFpIvog"
      }
    },
    {
      "cell_type": "code",
      "source": [
        "%%bigquery\n",
        "CREATE OR REPLACE MODEL mlpatterns.imdb_sentiment\n",
        "\n",
        "OPTIONS(model_type='tensorflow', model_path='gs://ai-analytics-solutions-kfpdemo/mlpatterns/batchserving/*')"
      ],
      "metadata": {
        "id": "9cGNX-A4HZkJ"
      },
      "execution_count": null,
      "outputs": []
    },
    {
      "cell_type": "code",
      "source": [
        "%%bigquery\n",
        "SELECT * FROM ML.PREDICT(MODEL mlpatterns.imdb_sentiment,\n",
        "  (SELECT 'This was very well done.' AS reviews)\n",
        ")"
      ],
      "metadata": {
        "id": "otp1ZjjvHZha"
      },
      "execution_count": null,
      "outputs": []
    },
    {
      "cell_type": "code",
      "execution_count": null,
      "metadata": {
        "id": "3fYB6PKOHSGp"
      },
      "outputs": [],
      "source": [
        "%%bigquery preds\n",
        "SELECT * FROM ML.PREDICT(MODEL mlpatterns.imdb_sentiment,\n",
        "  (SELECT consumer_complaint_narrative AS reviews\n",
        "   FROM `bigquery-public-data`.cfpb_complaints.complaint_database\n",
        "   WHERE consumer_complaint_narrative IS NOT NULL\n",
        "   )\n",
        ")"
      ]
    },
    {
      "cell_type": "code",
      "source": [
        "preds[:3]"
      ],
      "metadata": {
        "id": "_q0paa6EJGxz"
      },
      "execution_count": null,
      "outputs": []
    },
    {
      "cell_type": "code",
      "source": [
        "preds.sort_values(by='positive_review_probability', ascending=False).iloc[1]['reviews']"
      ],
      "metadata": {
        "id": "4dmGKQZ3JGvG"
      },
      "execution_count": null,
      "outputs": []
    },
    {
      "cell_type": "code",
      "source": [
        "preds.sort_values(by='positive_review_probability', ascending=False).iloc[len(preds)//2]['reviews']"
      ],
      "metadata": {
        "id": "zjfzWag7JGsj"
      },
      "execution_count": null,
      "outputs": []
    }
  ]
}