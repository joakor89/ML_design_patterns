{
  "nbformat": 4,
  "nbformat_minor": 0,
  "metadata": {
    "colab": {
      "provenance": []
    },
    "kernelspec": {
      "name": "python3",
      "display_name": "Python 3"
    },
    "language_info": {
      "name": "python"
    }
  },
  "cells": [
    {
      "cell_type": "markdown",
      "source": [
        "# **Serving Function**\n",
        "\n",
        "### ***Loading Libraries***"
      ],
      "metadata": {
        "id": "ryV1Xvh5f_J1"
      }
    },
    {
      "cell_type": "code",
      "execution_count": null,
      "metadata": {
        "id": "H1k9TCBqf2Dw"
      },
      "outputs": [],
      "source": [
        " # Operating Systems\n",
        "import os\n",
        "import sys\n",
        "import shutil\n",
        "import datetime\n",
        "import argparse\n",
        "\n",
        "# Hyperparameter Tuning\n",
        "import hypertune\n",
        "\n",
        "# Tools\n",
        "from setuptools import setup\n",
        "from setuptools import find_packages\n",
        "\n",
        "# Numerical Computing\n",
        "import numpy as np\n",
        "\n",
        "# Data Manipuation\n",
        "import pandas as pd\n",
        "\n",
        "# SciPy\n",
        "import scipy\n",
        "from scipy import stats\n",
        "\n",
        "# Data Visualization\n",
        "import itertools\n",
        "import seaborn as sns\n",
        "import matplotlib.pyplot as plt\n",
        "\n",
        "# JavaScript Object Notation\n",
        "import json\n",
        "\n",
        "# BigQuery\n",
        "from google.cloud import bigquery\n",
        "from google.colab import auth\n",
        "\n",
        "# Scikit-Learn\n",
        "from sklearn.utils import shuffle\n",
        "\n",
        "from sklearn.preprocessing import normalize\n",
        "from sklearn.metrics import confusion_matrix\n",
        "from sklearn.preprocessing import MinMaxScaler\n",
        "from sklearn.preprocessing import LabelEncoder\n",
        "from sklearn.model_selection import GridSearchCV\n",
        "from sklearn.ensemble import RandomForestClassifier\n",
        "from sklearn.metrics import accuracy_score, f1_score\n",
        "from sklearn.preprocessing import MultiLabelBinarizer\n",
        "\n",
        "# Extreme Gradient Boosting\n",
        "import xgboost as xgb\n",
        "\n",
        "# PyTorch\n",
        "import torch\n",
        "import torch.nn as nn\n",
        "import torch.optim as optim\n",
        "\n",
        "# TensorFlow\n",
        "import tensorflow as tf\n",
        "import tensorflow_hub as hub\n",
        "from tensorflow import keras\n",
        "from tensorflow.keras import Model\n",
        "import tensorflow_datasets as tfds\n",
        "from tensorflow_hub import KerasLayer\n",
        "from tensorflow import feature_column as fc\n",
        "from tensorflow.python.framework import dtypes\n",
        "from tensorflow.keras.preprocessing import text\n",
        "from tensorflow.keras.utils import to_categorical\n",
        "from tensorflow_io.bigquery import BigQueryClient\n",
        "from tensorflow.keras.preprocessing.text import Tokenizer\n",
        "from tensorflow.keras import callbacks, layers, models, utils\n",
        "from tensorflow.keras.preprocessing.sequence import pad_sequences\n",
        "from tensorflow.keras.layers import Dense, Embedding, Input, Flatten, Conv2D, MaxPooling2D\n",
        "\n",
        "# Keras API\n",
        "import kerastuner as kt\n",
        "\n",
        "# Google Libraries\n",
        "from googleapiclient import discovery\n",
        "from oauth2client.client import GoogleCredentials\n"
      ]
    },
    {
      "cell_type": "code",
      "source": [
        "train_data, test_data = tfds.load(\n",
        "    name=\"imdb_reviews\",\n",
        "    split=('train', 'test'),\n",
        "    as_supervised=True)"
      ],
      "metadata": {
        "id": "TXFKGzBWgb9y"
      },
      "execution_count": null,
      "outputs": []
    },
    {
      "cell_type": "code",
      "source": [
        "split = 3\n",
        "\n",
        "dataset_train = train_data.window(split, split + 1).flat_map(lambda *ds: ds[0] if len(ds) == 1 else tf.data.Dataset.zip(ds))\n",
        "\n",
        "dataset_validation = train_data.skip(split).window(1, split + 1).flat_map(lambda *ds: ds[0] if len(ds) == 1 else tf.data.Dataset.zip(ds))"
      ],
      "metadata": {
        "id": "jMY4XjJrgb6-"
      },
      "execution_count": null,
      "outputs": []
    },
    {
      "cell_type": "code",
      "source": [
        "embedding = \"https://tfhub.dev/google/tf2-preview/gnews-swivel-20dim-with-oov/1\"\n",
        "hub_layer = hub.KerasLayer(embedding, input_shape=[],\n",
        "                           dtype=tf.string, trainable=True, name='full_text')"
      ],
      "metadata": {
        "id": "3XFy0Jfxgb4g"
      },
      "execution_count": null,
      "outputs": []
    },
    {
      "cell_type": "code",
      "source": [
        "model = tf.keras.Sequential()\n",
        "model.add(hub_layer)\n",
        "model.add(tf.keras.layers.Dense(16, activation='relu', name='h1_dense'))\n",
        "model.add(tf.keras.layers.Dense(1, name='positive_review_logits'))\n",
        "\n",
        "model.summary()"
      ],
      "metadata": {
        "id": "MpQJ7PD0gb19"
      },
      "execution_count": null,
      "outputs": []
    },
    {
      "cell_type": "code",
      "source": [
        "model.compile(optimizer='adam',\n",
        "              loss=tf.keras.losses.BinaryCrossentropy(from_logits=True),\n",
        "              metrics=['accuracy'])\n",
        "\n",
        "\n",
        "\n",
        "history = model.fit(dataset_train.shuffle(10000).batch(512),\n",
        "                    epochs=10,\n",
        "                    validation_data=dataset_validation.batch(512),\n",
        "                    verbose=1)"
      ],
      "metadata": {
        "id": "wPzKLepugbzQ"
      },
      "execution_count": null,
      "outputs": []
    },
    {
      "cell_type": "code",
      "source": [
        "results = model.evaluate(test_data.batch(512), verbose=2)\n",
        "\n",
        "for name, value in zip(model.metrics_names, results):\n",
        "  print(\"%s: %.3f\" % (name, value))"
      ],
      "metadata": {
        "id": "mjMsrtz1gbwt"
      },
      "execution_count": null,
      "outputs": []
    },
    {
      "cell_type": "markdown",
      "source": [
        "### ***Predict Using The Trained Model In-Memory***"
      ],
      "metadata": {
        "id": "kX_VxpYjgmxz"
      }
    },
    {
      "cell_type": "code",
      "source": [
        "review1 = 'The film is based on a prize-winning novel.' # neutral\n",
        "\n",
        "review2 = 'The film is fast moving and has several great action scenes.' # positive\n",
        "\n",
        "review3 = 'The film was very boring. I walked out half-way.' # negative\n",
        "\n",
        "logits = model.predict(x=tf.constant([review1, review2, review3]))\n",
        "\n",
        "print(logits)"
      ],
      "metadata": {
        "id": "KAiPVelzgbt_"
      },
      "execution_count": null,
      "outputs": []
    },
    {
      "cell_type": "code",
      "source": [
        "# From https://goshippo.com/blog/measure-real-size-any-python-object/\n",
        "\n",
        "def get_size(obj, seen=None):\n",
        "    \"\"\"Recursively finds size of objects\"\"\"\n",
        "    size = sys.getsizeof(obj)\n",
        "    if seen is None:\n",
        "        seen = set()\n",
        "    obj_id = id(obj)\n",
        "    if obj_id in seen:\n",
        "        return 0\n",
        "    seen.add(obj_id)\n",
        "    try:\n",
        "        if isinstance(obj, dict):\n",
        "            size += sum([get_size(v, seen) for v in obj.values()])\n",
        "            size += sum([get_size(k, seen) for k in obj.keys()])\n",
        "        elif hasattr(obj, '__dict__'):\n",
        "            size += get_size(obj.__dict__, seen)\n",
        "        elif hasattr(obj, '__iter__') and not isinstance(obj, (str, bytes, bytearray)):\n",
        "            size += sum([get_size(i, seen) for i in obj])\n",
        "    except:\n",
        "        pass\n",
        "    return size\n",
        "print('{} MB'.format(get_size(model)/(1000*1000)))"
      ],
      "metadata": {
        "id": "F-rgz2mlgbrS"
      },
      "execution_count": null,
      "outputs": []
    },
    {
      "cell_type": "markdown",
      "source": [
        "### ***Export The Model for Serving***"
      ],
      "metadata": {
        "id": "BKIS03cvhevd"
      }
    },
    {
      "cell_type": "code",
      "source": [
        "shutil.rmtree('export/default', ignore_errors=True)\n",
        "\n",
        "export_path = os.path.join('export', 'default', 'sentiment_{}'.format(datetime.datetime.now().strftime(\"%Y%m%d_%H%M%S\")))\n",
        "\n",
        "model.save(export_path)"
      ],
      "metadata": {
        "id": "zTzXem6_gbov"
      },
      "execution_count": null,
      "outputs": []
    },
    {
      "cell_type": "code",
      "source": [
        "!find export/default"
      ],
      "metadata": {
        "id": "YccES272gbmB"
      },
      "execution_count": null,
      "outputs": []
    },
    {
      "cell_type": "code",
      "source": [
        "!ls -lh {export_path}/saved_model.pb\n",
        "\n",
        "!ls -lh {export_path}/assets/tokens.txt\n",
        "\n",
        "!ls -lh {export_path}/variables/variables.*"
      ],
      "metadata": {
        "id": "46EFRDD0gbjf"
      },
      "execution_count": null,
      "outputs": []
    },
    {
      "cell_type": "code",
      "source": [
        "!saved_model_cli show --dir {export_path} --tag_set serve --signature_def serving_default"
      ],
      "metadata": {
        "id": "Q6W0LrXgh5dy"
      },
      "execution_count": null,
      "outputs": []
    },
    {
      "cell_type": "code",
      "source": [
        "restored = tf.keras.models.load_model(export_path)\n",
        "\n",
        "review1 = 'The film is based on a prize-winning novel.'\n",
        "review2 = 'The film is fast moving and has several great action scenes.'\n",
        "review3 = 'The film was very boring. I walked out half-way.'\n",
        "\n",
        "infer = restored.signatures['serving_default']\n",
        "\n",
        "outputs = infer(full_text_input=tf.constant([review1, review2, review3]))\n",
        "\n",
        "logit = outputs['positive_review_logits']\n",
        "print(logit)"
      ],
      "metadata": {
        "id": "a6F1Agejh7tf"
      },
      "execution_count": null,
      "outputs": []
    },
    {
      "cell_type": "code",
      "source": [
        "print(1 / (1 + np.exp(-logit)))"
      ],
      "metadata": {
        "id": "5GZnwcYLh7rF"
      },
      "execution_count": null,
      "outputs": []
    },
    {
      "cell_type": "markdown",
      "source": [
        "### ***Custom Serving Function***"
      ],
      "metadata": {
        "id": "J4MkXkBCh_Iz"
      }
    },
    {
      "cell_type": "code",
      "source": [
        "@tf.function(input_signature=[tf.TensorSpec([None], dtype=tf.string)])\n",
        "def add_prob(reviews):\n",
        "    logits = model(reviews, training=False)\n",
        "    probs = tf.sigmoid(logits)\n",
        "    return {\n",
        "        'positive_review_logits' : logits,\n",
        "        'positive_review_probability' : probs\n",
        "    }\n",
        "shutil.rmtree('export/probs', ignore_errors=True)\n",
        "probs_export_path = os.path.join('export', 'probs', 'sentiment_{}'.format(datetime.datetime.now().strftime(\"%Y%m%d_%H%M%S\")))\n",
        "model.save(probs_export_path, signatures={'serving_default': add_prob})"
      ],
      "metadata": {
        "id": "t-dahuPMh7of"
      },
      "execution_count": null,
      "outputs": []
    },
    {
      "cell_type": "code",
      "source": [
        "!saved_model_cli show --dir {probs_export_path} --tag_set serve --signature_def serving_default"
      ],
      "metadata": {
        "id": "7Wandy3lh7mC"
      },
      "execution_count": null,
      "outputs": []
    },
    {
      "cell_type": "code",
      "source": [
        "restored = tf.keras.models.load_model(probs_export_path)\n",
        "\n",
        "infer = restored.signatures['serving_default']\n",
        "\n",
        "outputs = infer(reviews=tf.constant([review1, review2, review3]))\n",
        "\n",
        "probs = outputs['positive_review_probability']\n",
        "print(probs)"
      ],
      "metadata": {
        "id": "K1izxQCzh7jn"
      },
      "execution_count": null,
      "outputs": []
    },
    {
      "cell_type": "markdown",
      "source": [
        "### ***Deploy to Cloud AI Platform Predictions***"
      ],
      "metadata": {
        "id": "7uz1EWRJiSmE"
      }
    },
    {
      "cell_type": "code",
      "source": [
        "!find export/probs | head -2 | tail -1"
      ],
      "metadata": {
        "id": "sWyJWqkLh7hM"
      },
      "execution_count": null,
      "outputs": []
    },
    {
      "cell_type": "code",
      "source": [
        "%%bash\n",
        "\n",
        "MODEL_LOCATION=$(find export/probs | head -2 | tail -1)\n",
        "MODEL_NAME=imdb\n",
        "MODEL_VERSION=v1\n",
        "\n",
        "TFVERSION=2.1\n",
        "REGION=us-central1\n",
        "BUCKET=ai-analytics-solutions-kfpdemo\n",
        "\n",
        "\n",
        "modelname=$(gcloud ai-platform models list | grep -w \"$MODEL_NAME\")\n",
        "echo $modelname\n",
        "if [ -z \"$modelname\" ]; then\n",
        "   echo \"Creating model $MODEL_NAME\"\n",
        "   gcloud ai-platform models create ${MODEL_NAME} --regions $REGION\n",
        "else\n",
        "   echo \"Model $MODEL_NAME already exists\"\n",
        "fi\n",
        "\n",
        "modelver=$(gcloud ai-platform versions list --model \"$MODEL_NAME\" | grep -w \"$MODEL_VERSION\")\n",
        "echo $modelver\n",
        "if [ \"$modelver\" ]; then\n",
        "   echo \"Deleting version $MODEL_VERSION\"\n",
        "   yes | gcloud ai-platform versions delete ${MODEL_VERSION} --model ${MODEL_NAME}\n",
        "   sleep 10\n",
        "fi\n",
        "\n",
        "\n",
        "echo \"Creating version $MODEL_VERSION from $MODEL_LOCATION\"\n",
        "gcloud ai-platform versions create ${MODEL_VERSION} \\\n",
        "       --model ${MODEL_NAME} --origin ${MODEL_LOCATION} --staging-bucket gs://${BUCKET} \\\n",
        "       --runtime-version $TFVERSION"
      ],
      "metadata": {
        "id": "vh5fSze2h7e3"
      },
      "execution_count": null,
      "outputs": []
    },
    {
      "cell_type": "code",
      "source": [
        "%%writefile input.json\n",
        "{\"reviews\": \"The film is based on a prize-winning novel.\"}\n",
        "{\"reviews\": \"The film is fast moving and has several great action scenes.\"}\n",
        "{\"reviews\": \"The film was very boring. I walked out half-way.\"}"
      ],
      "metadata": {
        "id": "NK64Nb12h7cS"
      },
      "execution_count": null,
      "outputs": []
    },
    {
      "cell_type": "code",
      "source": [
        "!gcloud ai-platform predict --model imdb --json-instances input.json --version v1"
      ],
      "metadata": {
        "id": "3ow-hOPGh7Zn"
      },
      "execution_count": null,
      "outputs": []
    },
    {
      "cell_type": "code",
      "source": [
        "print(response['predictions'][0]['positive_review_probability'][0])"
      ],
      "metadata": {
        "id": "OhX8FSojir_k"
      },
      "execution_count": null,
      "outputs": []
    },
    {
      "cell_type": "markdown",
      "source": [
        "### ***Stateful Function***"
      ],
      "metadata": {
        "id": "_eOKn-k7it9R"
      }
    },
    {
      "cell_type": "code",
      "source": [
        "def stateless_fn(x):\n",
        "    return 3*x + 15\n",
        "\n",
        "class Stateless:\n",
        "    def __init__(self):\n",
        "        self.weight = 3\n",
        "        self.bias = 15\n",
        "    def __call__(self, x):\n",
        "        return self.weight*x + self.bias\n",
        "\n",
        "class State:\n",
        "    def __init__(self):\n",
        "        self.counter = 0\n",
        "    def __call__(self, x):\n",
        "        self.counter = self.counter + 1\n",
        "        if self.counter % 2 == 0:\n",
        "            return 3*x + 15\n",
        "        else:\n",
        "            return 3*x - 15\n",
        "\n",
        "a1 = Stateless()\n",
        "a = State()\n",
        "print(stateless_fn(3))\n",
        "print(stateless_fn(3))\n",
        "print(a1(3))\n",
        "print(a1(3))\n",
        "print(a(3))\n",
        "print(a(3))\n",
        "print(a(3))\n",
        "print(a(3))"
      ],
      "metadata": {
        "id": "2LJuLU0BiwLE"
      },
      "execution_count": null,
      "outputs": []
    },
    {
      "cell_type": "markdown",
      "source": [
        "### ***Online Prediction***"
      ],
      "metadata": {
        "id": "iW-tIIlCiy88"
      }
    },
    {
      "cell_type": "code",
      "source": [
        "%%bigquery\n",
        "CREATE OR REPLACE MODEL mlpatterns.neutral_3classes\n",
        "OPTIONS(model_type='logistic_reg', input_label_cols=['health']) AS\n",
        "\n",
        "SELECT\n",
        "  IF(apgar_1min = 10, 'Healthy', IF(apgar_1min >= 8, 'Neutral', 'NeedsAttention')) AS health,\n",
        "  plurality,\n",
        "  mother_age,\n",
        "  gestation_weeks,\n",
        "  ever_born\n",
        "FROM `bigquery-public-data.samples.natality`\n",
        "WHERE apgar_1min <= 10"
      ],
      "metadata": {
        "id": "CsChPRwci1vk"
      },
      "execution_count": null,
      "outputs": []
    },
    {
      "cell_type": "code",
      "source": [
        "%%bigquery\n",
        "SELECT * FROM ML.PREDICT(MODEL mlpatterns.neutral_3classes,\n",
        "    (SELECT\n",
        "     2 AS plurality,\n",
        "     32 AS mother_age,\n",
        "     41 AS gestation_weeks,\n",
        "     1 AS ever_born\n",
        "    )\n",
        ")"
      ],
      "metadata": {
        "id": "tkm94DW5i3yz"
      },
      "execution_count": null,
      "outputs": []
    },
    {
      "cell_type": "code",
      "source": [
        "%%bash\n",
        "BUCKET=ai-analytics-solutions-kfpdemo\n",
        "bq extract -m --destination_format=ML_TF_SAVED_MODEL mlpatterns.neutral_3classes  gs://${BUCKET}/export/baby_health"
      ],
      "metadata": {
        "id": "pKg9goXyi3v-"
      },
      "execution_count": null,
      "outputs": []
    },
    {
      "cell_type": "code",
      "source": [
        "%%bash\n",
        "\n",
        "TFVERSION=1.15\n",
        "REGION=us-central1\n",
        "BUCKET=ai-analytics-solutions-kfpdemo\n",
        "MODEL_LOCATION=gs://${BUCKET}/export/baby_health\n",
        "MODEL_NAME=babyhealth\n",
        "MODEL_VERSION=v1\n",
        "\n",
        "\n",
        "modelname=$(gcloud ai-platform models list | grep -w \"$MODEL_NAME\")\n",
        "\n",
        "echo $modelname\n",
        "if [ -z \"$modelname\" ]; then\n",
        "   echo \"Creating model $MODEL_NAME\"\n",
        "   gcloud ai-platform models create ${MODEL_NAME} --regions $REGION\n",
        "else\n",
        "   echo \"Model $MODEL_NAME already exists\"\n",
        "fi\n",
        "\n",
        "\n",
        "modelver=$(gcloud ai-platform versions list --model \"$MODEL_NAME\" | grep -w \"$MODEL_VERSION\")\n",
        "\n",
        "echo $modelver\n",
        "if [ \"$modelver\" ]; then\n",
        "   echo \"Deleting version $MODEL_VERSION\"\n",
        "   yes | gcloud ai-platform versions delete ${MODEL_VERSION} --model ${MODEL_NAME}\n",
        "   sleep 10\n",
        "fi\n",
        "\n",
        "\n",
        "echo \"Creating version $MODEL_VERSION from $MODEL_LOCATION\"\n",
        "gcloud ai-platform versions create ${MODEL_VERSION} \\\n",
        "       --model ${MODEL_NAME} --origin ${MODEL_LOCATION} --staging-bucket gs://${BUCKET} \\\n",
        "       --runtime-version $TFVERSION"
      ],
      "metadata": {
        "id": "-EIhSu8fi3tJ"
      },
      "execution_count": null,
      "outputs": []
    },
    {
      "cell_type": "code",
      "source": [
        "%%writefile input.json\n",
        "{\"plurality\": 2, \"mother_age\": 32, \"gestation_weeks\": 41, \"ever_born\": 1}"
      ],
      "metadata": {
        "id": "hXkKxqaci3qp"
      },
      "execution_count": null,
      "outputs": []
    },
    {
      "cell_type": "code",
      "source": [
        "!gcloud ai-platform predict --model babyhealth --json-instances input.json --version v1"
      ],
      "metadata": {
        "id": "arvdskeGi_pF"
      },
      "execution_count": null,
      "outputs": []
    }
  ]
}