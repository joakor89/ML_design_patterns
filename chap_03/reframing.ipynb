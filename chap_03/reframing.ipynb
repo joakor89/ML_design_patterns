{
  "nbformat": 4,
  "nbformat_minor": 0,
  "metadata": {
    "colab": {
      "provenance": [],
      "gpuType": "T4"
    },
    "kernelspec": {
      "name": "python3",
      "display_name": "Python 3"
    },
    "language_info": {
      "name": "python"
    },
    "accelerator": "GPU"
  },
  "cells": [
    {
      "cell_type": "markdown",
      "source": [
        "# **Reframing**\n",
        "\n",
        "### ***Loading Libraries***"
      ],
      "metadata": {
        "id": "nCZBXBmoAB_q"
      }
    },
    {
      "cell_type": "code",
      "execution_count": 23,
      "metadata": {
        "id": "9tc5YwQa_4jY"
      },
      "outputs": [],
      "source": [
        "# Operating Systems\n",
        "import os\n",
        "import shutil\n",
        "\n",
        "# Numerical Computing\n",
        "import numpy as np\n",
        "\n",
        "# Data Manipuation\n",
        "import pandas as pd\n",
        "\n",
        "# SciPy\n",
        "import scipy\n",
        "from scipy import stats\n",
        "\n",
        "# Data Visualization\n",
        "import matplotlib.pyplot as plt\n",
        "import seaborn as sns\n",
        "\n",
        "# BigQuery\n",
        "from google.cloud import bigquery\n",
        "from google.colab import auth\n",
        "\n",
        "# Scikit-Learn\n",
        "from sklearn.utils import shuffle\n",
        "from sklearn.preprocessing import MultiLabelBinarizer\n",
        "\n",
        "# TensorFlow\n",
        "import tensorflow as tf\n",
        "from tensorflow import keras\n",
        "from tensorflow.keras import Model\n",
        "from tensorflow_hub import KerasLayer\n",
        "from tensorflow import feature_column as fc\n",
        "from tensorflow.keras.preprocessing import text\n",
        "from tensorflow.keras.utils import to_categorical\n",
        "from tensorflow.keras.preprocessing.text import Tokenizer\n",
        "from tensorflow.keras import callbacks, layers, models, utils\n",
        "from tensorflow.keras.preprocessing.sequence import pad_sequences\n",
        "from tensorflow.keras.layers import Dense, Embedding, Input, Flatten, Conv2D, MaxPooling2D"
      ]
    },
    {
      "cell_type": "code",
      "source": [
        "# User Authentication\n",
        "auth.authenticate_user()\n",
        "\n",
        "# BigQuery Library\n",
        "# !pip install --upgrade google-cloud-bigquery"
      ],
      "metadata": {
        "id": "5J1usMO6AN1j"
      },
      "execution_count": 2,
      "outputs": []
    },
    {
      "cell_type": "code",
      "source": [
        "project_id = 'core-catalyst-425922-v9'\n",
        "os.environ['GOOGLE_CLOUD_PROJECT'] = project_id\n",
        "\n",
        "# BigQuery Client Config\n",
        "client = bigquery.Client(project=project_id)"
      ],
      "metadata": {
        "id": "A_5avFDHANzA"
      },
      "execution_count": 3,
      "outputs": []
    },
    {
      "cell_type": "code",
      "source": [
        "bq = bigquery.Client()"
      ],
      "metadata": {
        "id": "-GMqaNaxANwS"
      },
      "execution_count": 4,
      "outputs": []
    },
    {
      "cell_type": "code",
      "source": [
        "query = \"\"\"\n",
        "SELECT\n",
        "  weight_pounds,\n",
        "  is_male,\n",
        "  gestation_weeks,\n",
        "  mother_age,\n",
        "  plurality,\n",
        "  mother_race\n",
        "FROM\n",
        "  `bigquery-public-data.samples.natality`\n",
        "WHERE\n",
        "  weight_pounds IS NOT NULL\n",
        "  AND is_male = true\n",
        "  AND gestation_weeks = 38\n",
        "  AND mother_age = 28\n",
        "  AND mother_race = 1\n",
        "  AND plurality = 1\n",
        "  AND RAND() < 0.01\n",
        "\"\"\""
      ],
      "metadata": {
        "id": "BE-bOfyZANtm"
      },
      "execution_count": 5,
      "outputs": []
    },
    {
      "cell_type": "code",
      "source": [
        "df = bq.query(query).to_dataframe()\n",
        "df.head()"
      ],
      "metadata": {
        "colab": {
          "base_uri": "https://localhost:8080/",
          "height": 204
        },
        "id": "f8fUt9aNANrB",
        "outputId": "c23b90c5-a21b-4e1f-93c8-5d52e7519870"
      },
      "execution_count": 6,
      "outputs": [
        {
          "output_type": "execute_result",
          "data": {
            "text/plain": [
              "   weight_pounds  is_male  gestation_weeks  mother_age  plurality  mother_race\n",
              "0       8.900062     True               38          28          1            1\n",
              "1       6.188376     True               38          28          1            1\n",
              "2       6.437498     True               38          28          1            1\n",
              "3       8.437091     True               38          28          1            1\n",
              "4       5.749656     True               38          28          1            1"
            ],
            "text/html": [
              "\n",
              "  <div id=\"df-f9fc7dec-5eab-4b8b-ad61-6794e0dee512\" class=\"colab-df-container\">\n",
              "    <div>\n",
              "<style scoped>\n",
              "    .dataframe tbody tr th:only-of-type {\n",
              "        vertical-align: middle;\n",
              "    }\n",
              "\n",
              "    .dataframe tbody tr th {\n",
              "        vertical-align: top;\n",
              "    }\n",
              "\n",
              "    .dataframe thead th {\n",
              "        text-align: right;\n",
              "    }\n",
              "</style>\n",
              "<table border=\"1\" class=\"dataframe\">\n",
              "  <thead>\n",
              "    <tr style=\"text-align: right;\">\n",
              "      <th></th>\n",
              "      <th>weight_pounds</th>\n",
              "      <th>is_male</th>\n",
              "      <th>gestation_weeks</th>\n",
              "      <th>mother_age</th>\n",
              "      <th>plurality</th>\n",
              "      <th>mother_race</th>\n",
              "    </tr>\n",
              "  </thead>\n",
              "  <tbody>\n",
              "    <tr>\n",
              "      <th>0</th>\n",
              "      <td>8.900062</td>\n",
              "      <td>True</td>\n",
              "      <td>38</td>\n",
              "      <td>28</td>\n",
              "      <td>1</td>\n",
              "      <td>1</td>\n",
              "    </tr>\n",
              "    <tr>\n",
              "      <th>1</th>\n",
              "      <td>6.188376</td>\n",
              "      <td>True</td>\n",
              "      <td>38</td>\n",
              "      <td>28</td>\n",
              "      <td>1</td>\n",
              "      <td>1</td>\n",
              "    </tr>\n",
              "    <tr>\n",
              "      <th>2</th>\n",
              "      <td>6.437498</td>\n",
              "      <td>True</td>\n",
              "      <td>38</td>\n",
              "      <td>28</td>\n",
              "      <td>1</td>\n",
              "      <td>1</td>\n",
              "    </tr>\n",
              "    <tr>\n",
              "      <th>3</th>\n",
              "      <td>8.437091</td>\n",
              "      <td>True</td>\n",
              "      <td>38</td>\n",
              "      <td>28</td>\n",
              "      <td>1</td>\n",
              "      <td>1</td>\n",
              "    </tr>\n",
              "    <tr>\n",
              "      <th>4</th>\n",
              "      <td>5.749656</td>\n",
              "      <td>True</td>\n",
              "      <td>38</td>\n",
              "      <td>28</td>\n",
              "      <td>1</td>\n",
              "      <td>1</td>\n",
              "    </tr>\n",
              "  </tbody>\n",
              "</table>\n",
              "</div>\n",
              "    <div class=\"colab-df-buttons\">\n",
              "\n",
              "  <div class=\"colab-df-container\">\n",
              "    <button class=\"colab-df-convert\" onclick=\"convertToInteractive('df-f9fc7dec-5eab-4b8b-ad61-6794e0dee512')\"\n",
              "            title=\"Convert this dataframe to an interactive table.\"\n",
              "            style=\"display:none;\">\n",
              "\n",
              "  <svg xmlns=\"http://www.w3.org/2000/svg\" height=\"24px\" viewBox=\"0 -960 960 960\">\n",
              "    <path d=\"M120-120v-720h720v720H120Zm60-500h600v-160H180v160Zm220 220h160v-160H400v160Zm0 220h160v-160H400v160ZM180-400h160v-160H180v160Zm440 0h160v-160H620v160ZM180-180h160v-160H180v160Zm440 0h160v-160H620v160Z\"/>\n",
              "  </svg>\n",
              "    </button>\n",
              "\n",
              "  <style>\n",
              "    .colab-df-container {\n",
              "      display:flex;\n",
              "      gap: 12px;\n",
              "    }\n",
              "\n",
              "    .colab-df-convert {\n",
              "      background-color: #E8F0FE;\n",
              "      border: none;\n",
              "      border-radius: 50%;\n",
              "      cursor: pointer;\n",
              "      display: none;\n",
              "      fill: #1967D2;\n",
              "      height: 32px;\n",
              "      padding: 0 0 0 0;\n",
              "      width: 32px;\n",
              "    }\n",
              "\n",
              "    .colab-df-convert:hover {\n",
              "      background-color: #E2EBFA;\n",
              "      box-shadow: 0px 1px 2px rgba(60, 64, 67, 0.3), 0px 1px 3px 1px rgba(60, 64, 67, 0.15);\n",
              "      fill: #174EA6;\n",
              "    }\n",
              "\n",
              "    .colab-df-buttons div {\n",
              "      margin-bottom: 4px;\n",
              "    }\n",
              "\n",
              "    [theme=dark] .colab-df-convert {\n",
              "      background-color: #3B4455;\n",
              "      fill: #D2E3FC;\n",
              "    }\n",
              "\n",
              "    [theme=dark] .colab-df-convert:hover {\n",
              "      background-color: #434B5C;\n",
              "      box-shadow: 0px 1px 3px 1px rgba(0, 0, 0, 0.15);\n",
              "      filter: drop-shadow(0px 1px 2px rgba(0, 0, 0, 0.3));\n",
              "      fill: #FFFFFF;\n",
              "    }\n",
              "  </style>\n",
              "\n",
              "    <script>\n",
              "      const buttonEl =\n",
              "        document.querySelector('#df-f9fc7dec-5eab-4b8b-ad61-6794e0dee512 button.colab-df-convert');\n",
              "      buttonEl.style.display =\n",
              "        google.colab.kernel.accessAllowed ? 'block' : 'none';\n",
              "\n",
              "      async function convertToInteractive(key) {\n",
              "        const element = document.querySelector('#df-f9fc7dec-5eab-4b8b-ad61-6794e0dee512');\n",
              "        const dataTable =\n",
              "          await google.colab.kernel.invokeFunction('convertToInteractive',\n",
              "                                                    [key], {});\n",
              "        if (!dataTable) return;\n",
              "\n",
              "        const docLinkHtml = 'Like what you see? Visit the ' +\n",
              "          '<a target=\"_blank\" href=https://colab.research.google.com/notebooks/data_table.ipynb>data table notebook</a>'\n",
              "          + ' to learn more about interactive tables.';\n",
              "        element.innerHTML = '';\n",
              "        dataTable['output_type'] = 'display_data';\n",
              "        await google.colab.output.renderOutput(dataTable, element);\n",
              "        const docLink = document.createElement('div');\n",
              "        docLink.innerHTML = docLinkHtml;\n",
              "        element.appendChild(docLink);\n",
              "      }\n",
              "    </script>\n",
              "  </div>\n",
              "\n",
              "\n",
              "<div id=\"df-d2c6655f-a821-4253-8a53-0ebe3f357496\">\n",
              "  <button class=\"colab-df-quickchart\" onclick=\"quickchart('df-d2c6655f-a821-4253-8a53-0ebe3f357496')\"\n",
              "            title=\"Suggest charts\"\n",
              "            style=\"display:none;\">\n",
              "\n",
              "<svg xmlns=\"http://www.w3.org/2000/svg\" height=\"24px\"viewBox=\"0 0 24 24\"\n",
              "     width=\"24px\">\n",
              "    <g>\n",
              "        <path d=\"M19 3H5c-1.1 0-2 .9-2 2v14c0 1.1.9 2 2 2h14c1.1 0 2-.9 2-2V5c0-1.1-.9-2-2-2zM9 17H7v-7h2v7zm4 0h-2V7h2v10zm4 0h-2v-4h2v4z\"/>\n",
              "    </g>\n",
              "</svg>\n",
              "  </button>\n",
              "\n",
              "<style>\n",
              "  .colab-df-quickchart {\n",
              "      --bg-color: #E8F0FE;\n",
              "      --fill-color: #1967D2;\n",
              "      --hover-bg-color: #E2EBFA;\n",
              "      --hover-fill-color: #174EA6;\n",
              "      --disabled-fill-color: #AAA;\n",
              "      --disabled-bg-color: #DDD;\n",
              "  }\n",
              "\n",
              "  [theme=dark] .colab-df-quickchart {\n",
              "      --bg-color: #3B4455;\n",
              "      --fill-color: #D2E3FC;\n",
              "      --hover-bg-color: #434B5C;\n",
              "      --hover-fill-color: #FFFFFF;\n",
              "      --disabled-bg-color: #3B4455;\n",
              "      --disabled-fill-color: #666;\n",
              "  }\n",
              "\n",
              "  .colab-df-quickchart {\n",
              "    background-color: var(--bg-color);\n",
              "    border: none;\n",
              "    border-radius: 50%;\n",
              "    cursor: pointer;\n",
              "    display: none;\n",
              "    fill: var(--fill-color);\n",
              "    height: 32px;\n",
              "    padding: 0;\n",
              "    width: 32px;\n",
              "  }\n",
              "\n",
              "  .colab-df-quickchart:hover {\n",
              "    background-color: var(--hover-bg-color);\n",
              "    box-shadow: 0 1px 2px rgba(60, 64, 67, 0.3), 0 1px 3px 1px rgba(60, 64, 67, 0.15);\n",
              "    fill: var(--button-hover-fill-color);\n",
              "  }\n",
              "\n",
              "  .colab-df-quickchart-complete:disabled,\n",
              "  .colab-df-quickchart-complete:disabled:hover {\n",
              "    background-color: var(--disabled-bg-color);\n",
              "    fill: var(--disabled-fill-color);\n",
              "    box-shadow: none;\n",
              "  }\n",
              "\n",
              "  .colab-df-spinner {\n",
              "    border: 2px solid var(--fill-color);\n",
              "    border-color: transparent;\n",
              "    border-bottom-color: var(--fill-color);\n",
              "    animation:\n",
              "      spin 1s steps(1) infinite;\n",
              "  }\n",
              "\n",
              "  @keyframes spin {\n",
              "    0% {\n",
              "      border-color: transparent;\n",
              "      border-bottom-color: var(--fill-color);\n",
              "      border-left-color: var(--fill-color);\n",
              "    }\n",
              "    20% {\n",
              "      border-color: transparent;\n",
              "      border-left-color: var(--fill-color);\n",
              "      border-top-color: var(--fill-color);\n",
              "    }\n",
              "    30% {\n",
              "      border-color: transparent;\n",
              "      border-left-color: var(--fill-color);\n",
              "      border-top-color: var(--fill-color);\n",
              "      border-right-color: var(--fill-color);\n",
              "    }\n",
              "    40% {\n",
              "      border-color: transparent;\n",
              "      border-right-color: var(--fill-color);\n",
              "      border-top-color: var(--fill-color);\n",
              "    }\n",
              "    60% {\n",
              "      border-color: transparent;\n",
              "      border-right-color: var(--fill-color);\n",
              "    }\n",
              "    80% {\n",
              "      border-color: transparent;\n",
              "      border-right-color: var(--fill-color);\n",
              "      border-bottom-color: var(--fill-color);\n",
              "    }\n",
              "    90% {\n",
              "      border-color: transparent;\n",
              "      border-bottom-color: var(--fill-color);\n",
              "    }\n",
              "  }\n",
              "</style>\n",
              "\n",
              "  <script>\n",
              "    async function quickchart(key) {\n",
              "      const quickchartButtonEl =\n",
              "        document.querySelector('#' + key + ' button');\n",
              "      quickchartButtonEl.disabled = true;  // To prevent multiple clicks.\n",
              "      quickchartButtonEl.classList.add('colab-df-spinner');\n",
              "      try {\n",
              "        const charts = await google.colab.kernel.invokeFunction(\n",
              "            'suggestCharts', [key], {});\n",
              "      } catch (error) {\n",
              "        console.error('Error during call to suggestCharts:', error);\n",
              "      }\n",
              "      quickchartButtonEl.classList.remove('colab-df-spinner');\n",
              "      quickchartButtonEl.classList.add('colab-df-quickchart-complete');\n",
              "    }\n",
              "    (() => {\n",
              "      let quickchartButtonEl =\n",
              "        document.querySelector('#df-d2c6655f-a821-4253-8a53-0ebe3f357496 button');\n",
              "      quickchartButtonEl.style.display =\n",
              "        google.colab.kernel.accessAllowed ? 'block' : 'none';\n",
              "    })();\n",
              "  </script>\n",
              "</div>\n",
              "\n",
              "    </div>\n",
              "  </div>\n"
            ],
            "application/vnd.google.colaboratory.intrinsic+json": {
              "type": "dataframe",
              "variable_name": "df",
              "summary": "{\n  \"name\": \"df\",\n  \"rows\": 3915,\n  \"fields\": [\n    {\n      \"column\": \"weight_pounds\",\n      \"properties\": {\n        \"dtype\": \"number\",\n        \"std\": 0.9922339524094338,\n        \"min\": 2.2266688462,\n        \"max\": 12.3128173327,\n        \"num_unique_values\": 609,\n        \"samples\": [\n          7.65444973664,\n          5.12133834626,\n          6.95999361134\n        ],\n        \"semantic_type\": \"\",\n        \"description\": \"\"\n      }\n    },\n    {\n      \"column\": \"is_male\",\n      \"properties\": {\n        \"dtype\": \"boolean\",\n        \"num_unique_values\": 1,\n        \"samples\": [\n          true\n        ],\n        \"semantic_type\": \"\",\n        \"description\": \"\"\n      }\n    },\n    {\n      \"column\": \"gestation_weeks\",\n      \"properties\": {\n        \"dtype\": \"Int64\",\n        \"num_unique_values\": 1,\n        \"samples\": [\n          38\n        ],\n        \"semantic_type\": \"\",\n        \"description\": \"\"\n      }\n    },\n    {\n      \"column\": \"mother_age\",\n      \"properties\": {\n        \"dtype\": \"Int64\",\n        \"num_unique_values\": 1,\n        \"samples\": [\n          28\n        ],\n        \"semantic_type\": \"\",\n        \"description\": \"\"\n      }\n    },\n    {\n      \"column\": \"plurality\",\n      \"properties\": {\n        \"dtype\": \"Int64\",\n        \"num_unique_values\": 1,\n        \"samples\": [\n          1\n        ],\n        \"semantic_type\": \"\",\n        \"description\": \"\"\n      }\n    },\n    {\n      \"column\": \"mother_race\",\n      \"properties\": {\n        \"dtype\": \"Int64\",\n        \"num_unique_values\": 1,\n        \"samples\": [\n          1\n        ],\n        \"semantic_type\": \"\",\n        \"description\": \"\"\n      }\n    }\n  ]\n}"
            }
          },
          "metadata": {},
          "execution_count": 6
        }
      ]
    },
    {
      "cell_type": "code",
      "source": [
        "fig = sns.histplot(df[[\"weight_pounds\"]])\n",
        "fig.set_title(\"Distribution of baby weight\")\n",
        "fig.set_xlabel(\"weight_pounds\")\n",
        "fig.figure.savefig(\"weight_distrib.png\")\n",
        "\n",
        "plt.grid(True)\n",
        "plt.show()"
      ],
      "metadata": {
        "colab": {
          "base_uri": "https://localhost:8080/",
          "height": 472
        },
        "id": "0u2bepr1ANoU",
        "outputId": "ce5d456c-dfa8-4d68-9dc2-42739b7bc4a2"
      },
      "execution_count": 9,
      "outputs": [
        {
          "output_type": "display_data",
          "data": {
            "text/plain": [
              "<Figure size 640x480 with 1 Axes>"
            ],
            "image/png": "[encoded data removed]"
          },
          "metadata": {}
        }
      ]
    },
    {
      "cell_type": "code",
      "source": [
        "np.mean(df.weight_pounds)"
      ],
      "metadata": {
        "colab": {
          "base_uri": "https://localhost:8080/"
        },
        "id": "f2VXP1e4ANlw",
        "outputId": "6998d90d-cd1b-4f5a-e6fd-1df383351c29"
      },
      "execution_count": 10,
      "outputs": [
        {
          "output_type": "execute_result",
          "data": {
            "text/plain": [
              "7.489264656153268"
            ]
          },
          "metadata": {},
          "execution_count": 10
        }
      ]
    },
    {
      "cell_type": "code",
      "source": [
        "np.std(df.weight_pounds)"
      ],
      "metadata": {
        "colab": {
          "base_uri": "https://localhost:8080/"
        },
        "id": "GuqtS2tcANjD",
        "outputId": "8b6adc03-e4b2-4d92-af23-bdd5ad1cccb8"
      },
      "execution_count": 11,
      "outputs": [
        {
          "output_type": "execute_result",
          "data": {
            "text/plain": [
              "0.9921072222278825"
            ]
          },
          "metadata": {},
          "execution_count": 11
        }
      ]
    },
    {
      "cell_type": "code",
      "source": [
        "weeks = 36\n",
        "\n",
        "age = 28\n",
        "\n",
        "query = \"\"\"\n",
        "SELECT\n",
        "  weight_pounds,\n",
        "  is_male,\n",
        "  gestation_weeks,\n",
        "  mother_age,\n",
        "  plurality,\n",
        "  mother_race\n",
        "FROM\n",
        "  `bigquery-public-data.samples.natality`\n",
        "WHERE\n",
        "  weight_pounds IS NOT NULL\n",
        "  AND is_male = true\n",
        "  AND gestation_weeks = {}\n",
        "  AND mother_age = {}\n",
        "  AND mother_race = 1\n",
        "  AND plurality = 1\n",
        "  AND RAND() < 0.01\n",
        "\"\"\".format(weeks, age)\n",
        "\n",
        "df = bq.query(query).to_dataframe()\n",
        "print('weeks={} age={} mean={} stddev={}'.format(weeks, age, np.mean(df.weight_pounds), np.std(df.weight_pounds)))"
      ],
      "metadata": {
        "colab": {
          "base_uri": "https://localhost:8080/"
        },
        "id": "jclcwN7rANgp",
        "outputId": "f048caf7-6c24-408f-fc8d-2fb9f4397cca"
      },
      "execution_count": 12,
      "outputs": [
        {
          "output_type": "stream",
          "name": "stdout",
          "text": [
            "weeks=36 age=28 mean=6.773063712006491 stddev=1.1553051432482795\n"
          ]
        }
      ]
    },
    {
      "cell_type": "markdown",
      "source": [
        "### ***Comparing Categorical Label & Regression***"
      ],
      "metadata": {
        "id": "NiM4U0Q-A737"
      }
    },
    {
      "cell_type": "code",
      "source": [
        "df = pd.read_csv(\"/content/babyweight_train.csv\")"
      ],
      "metadata": {
        "id": "dSiwV7NNANdy"
      },
      "execution_count": 14,
      "outputs": []
    },
    {
      "cell_type": "code",
      "source": [
        "df.is_male = df.is_male.astype(str)\n",
        "\n",
        "df.mother_race.fillna(0, inplace = True)\n",
        "df.mother_race = df.mother_race.astype(str)\n",
        "\n",
        "def categorical_weight(weight_pounds):\n",
        "    if weight_pounds < 3.31:\n",
        "        return 0\n",
        "    elif weight_pounds >= 3.31 and weight_pounds < 5.5:\n",
        "        return 1\n",
        "    elif weight_pounds >= 5.5 and weight_pounds < 8.8:\n",
        "        return 2\n",
        "    else:\n",
        "        return 3\n",
        "\n",
        "df[\"weight_category\"] = df.weight_pounds.apply(lambda x: categorical_weight(x))"
      ],
      "metadata": {
        "id": "9INTaYK9ANbH"
      },
      "execution_count": 15,
      "outputs": []
    },
    {
      "cell_type": "code",
      "source": [
        "df.head()"
      ],
      "metadata": {
        "colab": {
          "base_uri": "https://localhost:8080/",
          "height": 204
        },
        "id": "kXiJppY3ANSh",
        "outputId": "5a98f76e-fdc0-43f3-b4d9-3c7bd007b590"
      },
      "execution_count": 16,
      "outputs": [
        {
          "output_type": "execute_result",
          "data": {
            "text/plain": [
              "   weight_pounds is_male  mother_age  plurality  gestation_weeks mother_race  \\\n",
              "0       7.749249   False          12  Single(1)               40         1.0   \n",
              "1       7.561856    True          12  Single(1)               40         2.0   \n",
              "2       7.187070   False          12  Single(1)               34         3.0   \n",
              "3       6.375769    True          12  Single(1)               36         2.0   \n",
              "4       7.936641   False          12  Single(1)               35         0.0   \n",
              "\n",
              "   weight_category  \n",
              "0                2  \n",
              "1                2  \n",
              "2                2  \n",
              "3                2  \n",
              "4                2  "
            ],
            "text/html": [
              "\n",
              "  <div id=\"df-1640dfdd-4570-48a0-b8bf-643933effc52\" class=\"colab-df-container\">\n",
              "    <div>\n",
              "<style scoped>\n",
              "    .dataframe tbody tr th:only-of-type {\n",
              "        vertical-align: middle;\n",
              "    }\n",
              "\n",
              "    .dataframe tbody tr th {\n",
              "        vertical-align: top;\n",
              "    }\n",
              "\n",
              "    .dataframe thead th {\n",
              "        text-align: right;\n",
              "    }\n",
              "</style>\n",
              "<table border=\"1\" class=\"dataframe\">\n",
              "  <thead>\n",
              "    <tr style=\"text-align: right;\">\n",
              "      <th></th>\n",
              "      <th>weight_pounds</th>\n",
              "      <th>is_male</th>\n",
              "      <th>mother_age</th>\n",
              "      <th>plurality</th>\n",
              "      <th>gestation_weeks</th>\n",
              "      <th>mother_race</th>\n",
              "      <th>weight_category</th>\n",
              "    </tr>\n",
              "  </thead>\n",
              "  <tbody>\n",
              "    <tr>\n",
              "      <th>0</th>\n",
              "      <td>7.749249</td>\n",
              "      <td>False</td>\n",
              "      <td>12</td>\n",
              "      <td>Single(1)</td>\n",
              "      <td>40</td>\n",
              "      <td>1.0</td>\n",
              "      <td>2</td>\n",
              "    </tr>\n",
              "    <tr>\n",
              "      <th>1</th>\n",
              "      <td>7.561856</td>\n",
              "      <td>True</td>\n",
              "      <td>12</td>\n",
              "      <td>Single(1)</td>\n",
              "      <td>40</td>\n",
              "      <td>2.0</td>\n",
              "      <td>2</td>\n",
              "    </tr>\n",
              "    <tr>\n",
              "      <th>2</th>\n",
              "      <td>7.187070</td>\n",
              "      <td>False</td>\n",
              "      <td>12</td>\n",
              "      <td>Single(1)</td>\n",
              "      <td>34</td>\n",
              "      <td>3.0</td>\n",
              "      <td>2</td>\n",
              "    </tr>\n",
              "    <tr>\n",
              "      <th>3</th>\n",
              "      <td>6.375769</td>\n",
              "      <td>True</td>\n",
              "      <td>12</td>\n",
              "      <td>Single(1)</td>\n",
              "      <td>36</td>\n",
              "      <td>2.0</td>\n",
              "      <td>2</td>\n",
              "    </tr>\n",
              "    <tr>\n",
              "      <th>4</th>\n",
              "      <td>7.936641</td>\n",
              "      <td>False</td>\n",
              "      <td>12</td>\n",
              "      <td>Single(1)</td>\n",
              "      <td>35</td>\n",
              "      <td>0.0</td>\n",
              "      <td>2</td>\n",
              "    </tr>\n",
              "  </tbody>\n",
              "</table>\n",
              "</div>\n",
              "    <div class=\"colab-df-buttons\">\n",
              "\n",
              "  <div class=\"colab-df-container\">\n",
              "    <button class=\"colab-df-convert\" onclick=\"convertToInteractive('df-1640dfdd-4570-48a0-b8bf-643933effc52')\"\n",
              "            title=\"Convert this dataframe to an interactive table.\"\n",
              "            style=\"display:none;\">\n",
              "\n",
              "  <svg xmlns=\"http://www.w3.org/2000/svg\" height=\"24px\" viewBox=\"0 -960 960 960\">\n",
              "    <path d=\"M120-120v-720h720v720H120Zm60-500h600v-160H180v160Zm220 220h160v-160H400v160Zm0 220h160v-160H400v160ZM180-400h160v-160H180v160Zm440 0h160v-160H620v160ZM180-180h160v-160H180v160Zm440 0h160v-160H620v160Z\"/>\n",
              "  </svg>\n",
              "    </button>\n",
              "\n",
              "  <style>\n",
              "    .colab-df-container {\n",
              "      display:flex;\n",
              "      gap: 12px;\n",
              "    }\n",
              "\n",
              "    .colab-df-convert {\n",
              "      background-color: #E8F0FE;\n",
              "      border: none;\n",
              "      border-radius: 50%;\n",
              "      cursor: pointer;\n",
              "      display: none;\n",
              "      fill: #1967D2;\n",
              "      height: 32px;\n",
              "      padding: 0 0 0 0;\n",
              "      width: 32px;\n",
              "    }\n",
              "\n",
              "    .colab-df-convert:hover {\n",
              "      background-color: #E2EBFA;\n",
              "      box-shadow: 0px 1px 2px rgba(60, 64, 67, 0.3), 0px 1px 3px 1px rgba(60, 64, 67, 0.15);\n",
              "      fill: #174EA6;\n",
              "    }\n",
              "\n",
              "    .colab-df-buttons div {\n",
              "      margin-bottom: 4px;\n",
              "    }\n",
              "\n",
              "    [theme=dark] .colab-df-convert {\n",
              "      background-color: #3B4455;\n",
              "      fill: #D2E3FC;\n",
              "    }\n",
              "\n",
              "    [theme=dark] .colab-df-convert:hover {\n",
              "      background-color: #434B5C;\n",
              "      box-shadow: 0px 1px 3px 1px rgba(0, 0, 0, 0.15);\n",
              "      filter: drop-shadow(0px 1px 2px rgba(0, 0, 0, 0.3));\n",
              "      fill: #FFFFFF;\n",
              "    }\n",
              "  </style>\n",
              "\n",
              "    <script>\n",
              "      const buttonEl =\n",
              "        document.querySelector('#df-1640dfdd-4570-48a0-b8bf-643933effc52 button.colab-df-convert');\n",
              "      buttonEl.style.display =\n",
              "        google.colab.kernel.accessAllowed ? 'block' : 'none';\n",
              "\n",
              "      async function convertToInteractive(key) {\n",
              "        const element = document.querySelector('#df-1640dfdd-4570-48a0-b8bf-643933effc52');\n",
              "        const dataTable =\n",
              "          await google.colab.kernel.invokeFunction('convertToInteractive',\n",
              "                                                    [key], {});\n",
              "        if (!dataTable) return;\n",
              "\n",
              "        const docLinkHtml = 'Like what you see? Visit the ' +\n",
              "          '<a target=\"_blank\" href=https://colab.research.google.com/notebooks/data_table.ipynb>data table notebook</a>'\n",
              "          + ' to learn more about interactive tables.';\n",
              "        element.innerHTML = '';\n",
              "        dataTable['output_type'] = 'display_data';\n",
              "        await google.colab.output.renderOutput(dataTable, element);\n",
              "        const docLink = document.createElement('div');\n",
              "        docLink.innerHTML = docLinkHtml;\n",
              "        element.appendChild(docLink);\n",
              "      }\n",
              "    </script>\n",
              "  </div>\n",
              "\n",
              "\n",
              "<div id=\"df-54aa3e71-816d-4357-8d17-84e6d179c46b\">\n",
              "  <button class=\"colab-df-quickchart\" onclick=\"quickchart('df-54aa3e71-816d-4357-8d17-84e6d179c46b')\"\n",
              "            title=\"Suggest charts\"\n",
              "            style=\"display:none;\">\n",
              "\n",
              "<svg xmlns=\"http://www.w3.org/2000/svg\" height=\"24px\"viewBox=\"0 0 24 24\"\n",
              "     width=\"24px\">\n",
              "    <g>\n",
              "        <path d=\"M19 3H5c-1.1 0-2 .9-2 2v14c0 1.1.9 2 2 2h14c1.1 0 2-.9 2-2V5c0-1.1-.9-2-2-2zM9 17H7v-7h2v7zm4 0h-2V7h2v10zm4 0h-2v-4h2v4z\"/>\n",
              "    </g>\n",
              "</svg>\n",
              "  </button>\n",
              "\n",
              "<style>\n",
              "  .colab-df-quickchart {\n",
              "      --bg-color: #E8F0FE;\n",
              "      --fill-color: #1967D2;\n",
              "      --hover-bg-color: #E2EBFA;\n",
              "      --hover-fill-color: #174EA6;\n",
              "      --disabled-fill-color: #AAA;\n",
              "      --disabled-bg-color: #DDD;\n",
              "  }\n",
              "\n",
              "  [theme=dark] .colab-df-quickchart {\n",
              "      --bg-color: #3B4455;\n",
              "      --fill-color: #D2E3FC;\n",
              "      --hover-bg-color: #434B5C;\n",
              "      --hover-fill-color: #FFFFFF;\n",
              "      --disabled-bg-color: #3B4455;\n",
              "      --disabled-fill-color: #666;\n",
              "  }\n",
              "\n",
              "  .colab-df-quickchart {\n",
              "    background-color: var(--bg-color);\n",
              "    border: none;\n",
              "    border-radius: 50%;\n",
              "    cursor: pointer;\n",
              "    display: none;\n",
              "    fill: var(--fill-color);\n",
              "    height: 32px;\n",
              "    padding: 0;\n",
              "    width: 32px;\n",
              "  }\n",
              "\n",
              "  .colab-df-quickchart:hover {\n",
              "    background-color: var(--hover-bg-color);\n",
              "    box-shadow: 0 1px 2px rgba(60, 64, 67, 0.3), 0 1px 3px 1px rgba(60, 64, 67, 0.15);\n",
              "    fill: var(--button-hover-fill-color);\n",
              "  }\n",
              "\n",
              "  .colab-df-quickchart-complete:disabled,\n",
              "  .colab-df-quickchart-complete:disabled:hover {\n",
              "    background-color: var(--disabled-bg-color);\n",
              "    fill: var(--disabled-fill-color);\n",
              "    box-shadow: none;\n",
              "  }\n",
              "\n",
              "  .colab-df-spinner {\n",
              "    border: 2px solid var(--fill-color);\n",
              "    border-color: transparent;\n",
              "    border-bottom-color: var(--fill-color);\n",
              "    animation:\n",
              "      spin 1s steps(1) infinite;\n",
              "  }\n",
              "\n",
              "  @keyframes spin {\n",
              "    0% {\n",
              "      border-color: transparent;\n",
              "      border-bottom-color: var(--fill-color);\n",
              "      border-left-color: var(--fill-color);\n",
              "    }\n",
              "    20% {\n",
              "      border-color: transparent;\n",
              "      border-left-color: var(--fill-color);\n",
              "      border-top-color: var(--fill-color);\n",
              "    }\n",
              "    30% {\n",
              "      border-color: transparent;\n",
              "      border-left-color: var(--fill-color);\n",
              "      border-top-color: var(--fill-color);\n",
              "      border-right-color: var(--fill-color);\n",
              "    }\n",
              "    40% {\n",
              "      border-color: transparent;\n",
              "      border-right-color: var(--fill-color);\n",
              "      border-top-color: var(--fill-color);\n",
              "    }\n",
              "    60% {\n",
              "      border-color: transparent;\n",
              "      border-right-color: var(--fill-color);\n",
              "    }\n",
              "    80% {\n",
              "      border-color: transparent;\n",
              "      border-right-color: var(--fill-color);\n",
              "      border-bottom-color: var(--fill-color);\n",
              "    }\n",
              "    90% {\n",
              "      border-color: transparent;\n",
              "      border-bottom-color: var(--fill-color);\n",
              "    }\n",
              "  }\n",
              "</style>\n",
              "\n",
              "  <script>\n",
              "    async function quickchart(key) {\n",
              "      const quickchartButtonEl =\n",
              "        document.querySelector('#' + key + ' button');\n",
              "      quickchartButtonEl.disabled = true;  // To prevent multiple clicks.\n",
              "      quickchartButtonEl.classList.add('colab-df-spinner');\n",
              "      try {\n",
              "        const charts = await google.colab.kernel.invokeFunction(\n",
              "            'suggestCharts', [key], {});\n",
              "      } catch (error) {\n",
              "        console.error('Error during call to suggestCharts:', error);\n",
              "      }\n",
              "      quickchartButtonEl.classList.remove('colab-df-spinner');\n",
              "      quickchartButtonEl.classList.add('colab-df-quickchart-complete');\n",
              "    }\n",
              "    (() => {\n",
              "      let quickchartButtonEl =\n",
              "        document.querySelector('#df-54aa3e71-816d-4357-8d17-84e6d179c46b button');\n",
              "      quickchartButtonEl.style.display =\n",
              "        google.colab.kernel.accessAllowed ? 'block' : 'none';\n",
              "    })();\n",
              "  </script>\n",
              "</div>\n",
              "\n",
              "    </div>\n",
              "  </div>\n"
            ],
            "application/vnd.google.colaboratory.intrinsic+json": {
              "type": "dataframe",
              "variable_name": "df"
            }
          },
          "metadata": {},
          "execution_count": 16
        }
      ]
    },
    {
      "cell_type": "code",
      "source": [
        "def encode_labels(classes):\n",
        "    one_hots = to_categorical(classes)\n",
        "    return one_hots\n",
        "\n",
        "FEATURES = ['is_male', 'mother_age', 'plurality', 'gestation_weeks', 'mother_race']\n",
        "\n",
        "LABEL_CLS = ['weight_category']\n",
        "LABEL_REG = ['weight_pounds']\n",
        "\n",
        "N_TRAIN = int(df.shape[0] * 0.80)\n",
        "\n",
        "X_train = df[FEATURES][:N_TRAIN]\n",
        "X_valid = df[FEATURES][N_TRAIN:]\n",
        "\n",
        "y_train_cls = encode_labels(df[LABEL_CLS][:N_TRAIN])\n",
        "y_train_reg = df[LABEL_REG][:N_TRAIN]\n",
        "\n",
        "y_valid_cls = encode_labels(df[LABEL_CLS][N_TRAIN:])\n",
        "y_valid_reg = df[LABEL_REG][N_TRAIN:]"
      ],
      "metadata": {
        "id": "JhwW1IlyBHNR"
      },
      "execution_count": 19,
      "outputs": []
    },
    {
      "cell_type": "code",
      "source": [
        "# Train/Validation Dataset for Classification Model\n",
        "cls_train_data = tf.data.Dataset.from_tensor_slices((X_train.to_dict('list'), y_train_cls))\n",
        "cls_valid_data = tf.data.Dataset.from_tensor_slices((X_valid.to_dict('list'), y_valid_cls))\n",
        "\n",
        "# Train/Validation Dataset for Regression Model\n",
        "reg_train_data = tf.data.Dataset.from_tensor_slices((X_train.to_dict('list'), y_train_reg.values))\n",
        "reg_valid_data = tf.data.Dataset.from_tensor_slices((X_valid.to_dict('list'), y_valid_reg.values))"
      ],
      "metadata": {
        "id": "0RsLlpzkBHK7"
      },
      "execution_count": 20,
      "outputs": []
    },
    {
      "cell_type": "code",
      "source": [
        "for data_type in [cls_train_data, reg_train_data]:\n",
        "    for dict_slice in data_type.take(1):\n",
        "        print(\"{}\\n\".format(dict_slice))"
      ],
      "metadata": {
        "colab": {
          "base_uri": "https://localhost:8080/"
        },
        "id": "tFIyiwSUBHIf",
        "outputId": "2326a64c-3141-49e3-99a1-f19216115e98"
      },
      "execution_count": 21,
      "outputs": [
        {
          "output_type": "stream",
          "name": "stdout",
          "text": [
            "({'is_male': <tf.Tensor: shape=(), dtype=string, numpy=b'False'>, 'mother_age': <tf.Tensor: shape=(), dtype=int32, numpy=12>, 'plurality': <tf.Tensor: shape=(), dtype=string, numpy=b'Single(1)'>, 'gestation_weeks': <tf.Tensor: shape=(), dtype=int32, numpy=40>, 'mother_race': <tf.Tensor: shape=(), dtype=string, numpy=b'1.0'>}, <tf.Tensor: shape=(4,), dtype=float32, numpy=array([0., 0., 1., 0.], dtype=float32)>)\n",
            "\n",
            "({'is_male': <tf.Tensor: shape=(), dtype=string, numpy=b'False'>, 'mother_age': <tf.Tensor: shape=(), dtype=int32, numpy=12>, 'plurality': <tf.Tensor: shape=(), dtype=string, numpy=b'Single(1)'>, 'gestation_weeks': <tf.Tensor: shape=(), dtype=int32, numpy=40>, 'mother_race': <tf.Tensor: shape=(), dtype=string, numpy=b'1.0'>}, <tf.Tensor: shape=(1,), dtype=float64, numpy=array([7.74924851])>)\n",
            "\n"
          ]
        }
      ]
    },
    {
      "cell_type": "code",
      "source": [
        "numeric_columns = [fc.numeric_column(\"mother_age\"),\n",
        "                  fc.numeric_column(\"gestation_weeks\")]\n",
        "\n",
        "CATEGORIES = {\n",
        "    'plurality': list(df.plurality.unique()),\n",
        "    'is_male' : list(df.is_male.unique()),\n",
        "    'mother_race': list(df.mother_race.unique())\n",
        "}\n",
        "\n",
        "categorical_columns = []\n",
        "for feature, vocab in CATEGORIES.items():\n",
        "    cat_col = fc.categorical_column_with_vocabulary_list(\n",
        "        key=feature, vocabulary_list=vocab, dtype=tf.string)\n",
        "    categorical_columns.append(fc.indicator_column(cat_col))"
      ],
      "metadata": {
        "colab": {
          "base_uri": "https://localhost:8080/"
        },
        "id": "4kHKTqoMBHF7",
        "outputId": "29413d25-11a1-43d0-eced-9d6cf8b0fa6f"
      },
      "execution_count": 24,
      "outputs": [
        {
          "output_type": "stream",
          "name": "stderr",
          "text": [
            "WARNING:tensorflow:From <ipython-input-24-f205d6b21e24>:1: numeric_column (from tensorflow.python.feature_column.feature_column_v2) is deprecated and will be removed in a future version.\n",
            "Instructions for updating:\n",
            "Use Keras preprocessing layers instead, either directly or via the `tf.keras.utils.FeatureSpace` utility. Each of `tf.feature_column.*` has a functional equivalent in `tf.keras.layers` for feature preprocessing when training a Keras model.\n",
            "WARNING:tensorflow:From <ipython-input-24-f205d6b21e24>:12: categorical_column_with_vocabulary_list (from tensorflow.python.feature_column.feature_column_v2) is deprecated and will be removed in a future version.\n",
            "Instructions for updating:\n",
            "Use Keras preprocessing layers instead, either directly or via the `tf.keras.utils.FeatureSpace` utility. Each of `tf.feature_column.*` has a functional equivalent in `tf.keras.layers` for feature preprocessing when training a Keras model.\n",
            "WARNING:tensorflow:From <ipython-input-24-f205d6b21e24>:14: indicator_column (from tensorflow.python.feature_column.feature_column_v2) is deprecated and will be removed in a future version.\n",
            "Instructions for updating:\n",
            "Use Keras preprocessing layers instead, either directly or via the `tf.keras.utils.FeatureSpace` utility. Each of `tf.feature_column.*` has a functional equivalent in `tf.keras.layers` for feature preprocessing when training a Keras model.\n"
          ]
        }
      ]
    },
    {
      "cell_type": "code",
      "source": [
        "inputs = {colname: tf.keras.layers.Input(\n",
        "    name=colname, shape=(), dtype=\"float32\")\n",
        "    for colname in [\"mother_age\", \"gestation_weeks\"]}\n",
        "\n",
        "inputs.update({colname: tf.keras.layers.Input(\n",
        "    name=colname, shape=(), dtype=tf.string)\n",
        "    for colname in [\"plurality\", \"is_male\", \"mother_race\"]})\n",
        "\n",
        "dnn_inputs = layers.DenseFeatures(categorical_columns+numeric_columns)(inputs)\n",
        "\n",
        "# Create Hidden Layers\n",
        "h1 = layers.Dense(20, activation=\"relu\")(dnn_inputs)\n",
        "h2 = layers.Dense(10, activation=\"relu\")(h1)\n",
        "\n",
        "# Create Classification Model\n",
        "cls_output = layers.Dense(4, activation=\"softmax\")(h2)\n",
        "cls_model = tf.keras.models.Model(inputs=inputs, outputs=cls_output)\n",
        "\n",
        "cls_model.compile(optimizer='adam',\n",
        "              loss=tf.keras.losses.CategoricalCrossentropy(),\n",
        "              metrics=['accuracy'])\n",
        "\n",
        "\n",
        "# Create Regression Model\n",
        "reg_output = layers.Dense(1, activation=\"relu\")(h2)\n",
        "reg_model = tf.keras.models.Model(inputs=inputs, outputs=reg_output)\n",
        "\n",
        "reg_model.compile(optimizer='adam',\n",
        "              loss=tf.keras.losses.MeanSquaredError(),\n",
        "              metrics=['mse'])"
      ],
      "metadata": {
        "id": "ZugJuhobBHDq"
      },
      "execution_count": 25,
      "outputs": []
    },
    {
      "cell_type": "code",
      "source": [
        "cls_model.fit(cls_train_data.batch(50), epochs=1)\n",
        "\n",
        "val_loss, val_accuracy = cls_model.evaluate(cls_valid_data.batch(X_valid.shape[0]))\n",
        "print(\"Validation accuracy for classifcation model: {}\".format(val_accuracy))"
      ],
      "metadata": {
        "colab": {
          "base_uri": "https://localhost:8080/"
        },
        "id": "YISOEFs6BHA7",
        "outputId": "60ca2c27-e663-417c-a775-5f1dc0f03c17"
      },
      "execution_count": 26,
      "outputs": [
        {
          "output_type": "stream",
          "name": "stdout",
          "text": [
            "4234/4234 [==============================] - 24s 5ms/step - loss: 0.6984 - accuracy: 0.8116\n",
            "1/1 [==============================] - 0s 424ms/step - loss: 0.8950 - accuracy: 0.7168\n",
            "Validation accuracy for classifcation model: 0.7168370485305786\n"
          ]
        }
      ]
    },
    {
      "cell_type": "code",
      "source": [
        "reg_model.fit(reg_train_data.batch(50), epochs=1)\n",
        "\n",
        "val_loss, val_mse = reg_model.evaluate(reg_valid_data.batch(X_valid.shape[0]))\n",
        "print(\"Validation RMSE for regression model: {}\".format(val_mse**0.5))"
      ],
      "metadata": {
        "colab": {
          "base_uri": "https://localhost:8080/"
        },
        "id": "jbx_FBOIBG-V",
        "outputId": "5b97bfc0-7270-4b3b-b785-f40b17a65138"
      },
      "execution_count": 27,
      "outputs": [
        {
          "output_type": "stream",
          "name": "stdout",
          "text": [
            "4234/4234 [==============================] - 31s 7ms/step - loss: 1.1093 - mse: 1.1093\n",
            "1/1 [==============================] - 0s 400ms/step - loss: 1.7994 - mse: 1.7994\n",
            "Validation RMSE for regression model: 1.3414256819315666\n"
          ]
        }
      ]
    },
    {
      "cell_type": "code",
      "source": [
        "preds = reg_model.predict(x={\"gestation_weeks\": tf.convert_to_tensor([38]),\n",
        "                             \"is_male\": tf.convert_to_tensor([\"True\"]),\n",
        "                             \"mother_age\": tf.convert_to_tensor([28]),\n",
        "                             \"mother_race\": tf.convert_to_tensor([\"1.0\"]),\n",
        "                             \"plurality\": tf.convert_to_tensor([\"Single(1)\"])},\n",
        "                          steps=1).squeeze()\n",
        "preds"
      ],
      "metadata": {
        "colab": {
          "base_uri": "https://localhost:8080/"
        },
        "id": "qZlbhXueBG7x",
        "outputId": "d28074b4-02d0-4ce5-e26c-2811f931c280"
      },
      "execution_count": 28,
      "outputs": [
        {
          "output_type": "stream",
          "name": "stdout",
          "text": [
            "1/1 [==============================] - 0s 169ms/step\n"
          ]
        },
        {
          "output_type": "execute_result",
          "data": {
            "text/plain": [
              "array(7.4669275, dtype=float32)"
            ]
          },
          "metadata": {},
          "execution_count": 28
        }
      ]
    },
    {
      "cell_type": "code",
      "source": [
        "preds = cls_model.predict(x={\"gestation_weeks\": tf.convert_to_tensor([38]),\n",
        "                             \"is_male\": tf.convert_to_tensor([\"True\"]),\n",
        "                             \"mother_age\": tf.convert_to_tensor([28]),\n",
        "                             \"mother_race\": tf.convert_to_tensor([\"1.0\"]),\n",
        "                             \"plurality\": tf.convert_to_tensor([\"Single(1)\"])},\n",
        "                          steps=1).squeeze()\n",
        "preds"
      ],
      "metadata": {
        "colab": {
          "base_uri": "https://localhost:8080/"
        },
        "id": "RazN-h7bBG5G",
        "outputId": "bd989cc3-4f71-487b-a49b-a99ce3b23648"
      },
      "execution_count": 29,
      "outputs": [
        {
          "output_type": "stream",
          "name": "stdout",
          "text": [
            "1/1 [==============================] - 0s 141ms/step\n"
          ]
        },
        {
          "output_type": "execute_result",
          "data": {
            "text/plain": [
              "array([1.9709271e-08, 1.4036930e-04, 8.5783309e-01, 1.4202653e-01],\n",
              "      dtype=float32)"
            ]
          },
          "metadata": {},
          "execution_count": 29
        }
      ]
    },
    {
      "cell_type": "code",
      "source": [
        "objects = ('very_low', 'low', 'average', 'high')\n",
        "y_pos = np.arange(len(objects))\n",
        "predictions = list(preds)\n",
        "\n",
        "plt.bar(y_pos, predictions, align='center', alpha=0.5)\n",
        "plt.xticks(y_pos, objects)\n",
        "plt.title('Baby weight prediction')\n",
        "\n",
        "plt.grid(True)\n",
        "plt.show()"
      ],
      "metadata": {
        "colab": {
          "base_uri": "https://localhost:8080/",
          "height": 452
        },
        "id": "IdHENzKLBG2g",
        "outputId": "f84077d6-ce7e-406b-f388-2490b3d3b946"
      },
      "execution_count": 33,
      "outputs": [
        {
          "output_type": "display_data",
          "data": {
            "text/plain": [
              "<Figure size 640x480 with 1 Axes>"
            ],
            "image/png": "[encoded data removed]"
          },
          "metadata": {}
        }
      ]
    },
    {
      "cell_type": "markdown",
      "source": [
        "### ***Increasing Categorical Label's Number***"
      ],
      "metadata": {
        "id": "tXzmgnkaBen2"
      }
    },
    {
      "cell_type": "code",
      "source": [
        "df = pd.read_csv(\"/content/babyweight_train.csv\")\n",
        "\n",
        "df.is_male = df.is_male.astype(str)\n",
        "\n",
        "df.mother_race.fillna(0, inplace = True)\n",
        "df.mother_race = df.mother_race.astype(str)\n",
        "\n",
        "# Setting Categorical Label\n",
        "MIN = np.min(df.weight_pounds)\n",
        "\n",
        "MAX = np.max(df.weight_pounds)\n",
        "\n",
        "NBUCKETS = 50\n",
        "\n",
        "def categorical_weight(weight_pounds, weight_min, weight_max, nbuckets=10):\n",
        "    buckets = np.linspace(weight_min, weight_max, nbuckets)\n",
        "\n",
        "    return np.digitize(weight_pounds, buckets) - 1\n",
        "\n",
        "df[\"weight_category\"] = df.weight_pounds.apply(lambda x: categorical_weight(x, MIN, MAX, NBUCKETS))"
      ],
      "metadata": {
        "id": "9GzkwHAcBG0M"
      },
      "execution_count": 34,
      "outputs": []
    },
    {
      "cell_type": "code",
      "source": [
        "def encode_labels(classes):\n",
        "    one_hots = to_categorical(classes)\n",
        "    return one_hots\n",
        "\n",
        "FEATURES = ['is_male', 'mother_age', 'plurality', 'gestation_weeks', 'mother_race']\n",
        "LABEL_COLUMN = ['weight_category']\n",
        "\n",
        "N_TRAIN = int(df.shape[0] * 0.80)\n",
        "\n",
        "X_train, y_train = df[FEATURES][:N_TRAIN], encode_labels(df[LABEL_COLUMN][:N_TRAIN])\n",
        "X_valid, y_valid = df[FEATURES][N_TRAIN:], encode_labels(df[LABEL_COLUMN][N_TRAIN:])"
      ],
      "metadata": {
        "id": "8EQnXGg6BGxo"
      },
      "execution_count": 35,
      "outputs": []
    },
    {
      "cell_type": "code",
      "source": [
        "train_data = tf.data.Dataset.from_tensor_slices((X_train.to_dict('list'), y_train))\n",
        "valid_data = tf.data.Dataset.from_tensor_slices((X_valid.to_dict('list'), y_valid))"
      ],
      "metadata": {
        "id": "Lc5JVDKyBGu8"
      },
      "execution_count": 36,
      "outputs": []
    },
    {
      "cell_type": "code",
      "source": [
        "numeric_columns = [fc.numeric_column(\"mother_age\"),\n",
        "                  fc.numeric_column(\"gestation_weeks\")]\n",
        "\n",
        "CATEGORIES = {\n",
        "    'plurality': list(df.plurality.unique()),\n",
        "    'is_male' : list(df.is_male.unique()),\n",
        "    'mother_race': list(df.mother_race.unique())\n",
        "}\n",
        "\n",
        "categorical_columns = []\n",
        "for feature, vocab in CATEGORIES.items():\n",
        "    cat_col = fc.categorical_column_with_vocabulary_list(\n",
        "        key=feature, vocabulary_list=vocab, dtype=tf.string)\n",
        "    categorical_columns.append(fc.indicator_column(cat_col))"
      ],
      "metadata": {
        "id": "OAvH_VAxBGsf"
      },
      "execution_count": 37,
      "outputs": []
    },
    {
      "cell_type": "code",
      "source": [
        "inputs = {colname: tf.keras.layers.Input(\n",
        "    name=colname, shape=(), dtype=\"float32\")\n",
        "    for colname in [\"mother_age\", \"gestation_weeks\"]}\n",
        "inputs.update({colname: tf.keras.layers.Input(\n",
        "    name=colname, shape=(), dtype=tf.string)\n",
        "    for colname in [\"plurality\", \"is_male\", \"mother_race\"]})\n",
        "\n",
        "# Building Model's DenseFeatures\n",
        "dnn_inputs = layers.DenseFeatures(categorical_columns+numeric_columns)(inputs)\n",
        "\n",
        "# Model\n",
        "h1 = layers.Dense(20, activation=\"relu\")(dnn_inputs)\n",
        "h2 = layers.Dense(10, activation=\"relu\")(h1)\n",
        "output = layers.Dense(NBUCKETS, activation=\"softmax\")(h2)\n",
        "model = tf.keras.models.Model(inputs=inputs, outputs=output)\n",
        "\n",
        "model.compile(optimizer='adam',\n",
        "              loss=tf.keras.losses.CategoricalCrossentropy(),\n",
        "              metrics=['accuracy'])"
      ],
      "metadata": {
        "id": "0554ZEQmBGps"
      },
      "execution_count": 38,
      "outputs": []
    },
    {
      "cell_type": "code",
      "source": [
        "model.fit(train_data.batch(50), epochs=1)"
      ],
      "metadata": {
        "colab": {
          "base_uri": "https://localhost:8080/"
        },
        "id": "cnp4WKUhBu3P",
        "outputId": "6aab1734-8087-4731-af18-4bb539a8aa87"
      },
      "execution_count": 39,
      "outputs": [
        {
          "output_type": "stream",
          "name": "stdout",
          "text": [
            "4234/4234 [==============================] - 23s 5ms/step - loss: 2.6131 - accuracy: 0.1329\n"
          ]
        },
        {
          "output_type": "execute_result",
          "data": {
            "text/plain": [
              "<keras.src.callbacks.History at 0x7b45a3bb4c10>"
            ]
          },
          "metadata": {},
          "execution_count": 39
        }
      ]
    },
    {
      "cell_type": "code",
      "source": [
        "NBUCKETS = 50  # Example value\n",
        "preds = np.random.rand(NBUCKETS)  # Example value to generate random predictions\n",
        "\n",
        "objects = [str(_) for _ in range(NBUCKETS)]\n",
        "y_pos = np.arange(len(objects))\n",
        "predictions = list(preds)\n",
        "\n",
        "if len(y_pos) != len(predictions):\n",
        "    raise ValueError(f\"Length mismatch: y_pos has length {len(y_pos)}, but predictions has length {len(predictions)}\")\n",
        "\n",
        "plt.bar(y_pos, predictions, align='center', alpha=0.5)\n",
        "plt.xticks(y_pos, objects)\n",
        "plt.title('Baby weight prediction')\n",
        "\n",
        "plt.grid(True)\n",
        "plt.show()"
      ],
      "metadata": {
        "colab": {
          "base_uri": "https://localhost:8080/",
          "height": 452
        },
        "id": "idxUF9fFBu0i",
        "outputId": "6b31d177-494b-4074-c035-0c6a506b5762"
      },
      "execution_count": 42,
      "outputs": [
        {
          "output_type": "display_data",
          "data": {
            "text/plain": [
              "<Figure size 640x480 with 1 Axes>"
            ],
            "image/png": "[encoded data removed]"
          },
          "metadata": {}
        }
      ]
    },
    {
      "cell_type": "code",
      "source": [
        "\n",
        "NBUCKETS = 50\n",
        "preds = np.random.rand(NBUCKETS)\n",
        "\n",
        "objects = [str(_) for _ in range(NBUCKETS)]\n",
        "y_pos = np.arange(len(objects))\n",
        "predictions = list(preds)\n",
        "\n",
        "if len(y_pos) != len(predictions):\n",
        "    raise ValueError(f\"Length mismatch: y_pos has length {len(y_pos)}, but predictions has length {len(predictions)}\")\n",
        "\n",
        "plt.figure(figsize=(12, 6))\n",
        "plt.bar(y_pos, predictions, align='center', alpha=0.5, color='forestgreen')\n",
        "plt.xticks(y_pos, objects, rotation=45, ha='right', fontsize=10)\n",
        "plt.title('Baby Weight Prediction')\n",
        "plt.xlabel('Buckets')\n",
        "plt.ylabel('Predictions')\n",
        "\n",
        "plt.tight_layout()\n",
        "plt.grid(True)\n",
        "plt.show()"
      ],
      "metadata": {
        "colab": {
          "base_uri": "https://localhost:8080/",
          "height": 556
        },
        "id": "k1nB85NBJXkP",
        "outputId": "2d275f0a-5501-4d5a-b812-05d13600d9ae"
      },
      "execution_count": 46,
      "outputs": [
        {
          "output_type": "display_data",
          "data": {
            "text/plain": [
              "<Figure size 1200x600 with 1 Axes>"
            ],
            "image/png": "[encoded data removed]"
          },
          "metadata": {}
        }
      ]
    },
    {
      "cell_type": "markdown",
      "source": [
        "### ***Restricting The Prediction Range***"
      ],
      "metadata": {
        "id": "XfWmWJijB0F-"
      }
    },
    {
      "cell_type": "code",
      "source": [
        "MIN_Y =  3\n",
        "\n",
        "MAX_Y = 20\n",
        "\n",
        "input_size = 10\n",
        "\n",
        "inputs = keras.layers.Input(shape=(input_size,))\n",
        "h1 = keras.layers.Dense(20, 'relu')(inputs)\n",
        "h2 = keras.layers.Dense(1, 'sigmoid')(h1)  # 0-1 range\n",
        "output = keras.layers.Lambda(lambda y : (y*(MAX_Y-MIN_Y) + MIN_Y))(h2) # scaled\n",
        "model = keras.Model(inputs, output)\n",
        "\n",
        "# Model Fitting\n",
        "model.compile(optimizer='adam', loss='mse')\n",
        "batch_size = 2048\n",
        "for i in range(0, 10):\n",
        "    x = np.random.rand(batch_size, input_size)\n",
        "    y = 0.5*(x[:,0] + x[:,1]) * (MAX_Y-MIN_Y) + MIN_Y\n",
        "    model.fit(x, y)\n",
        "\n",
        "# Verifying\n",
        "min_y = np.finfo(np.float64).max\n",
        "max_y = np.finfo(np.float64).min\n",
        "for i in range(0, 10):\n",
        "    x = np.random.randn(batch_size, input_size)\n",
        "    y = model.predict(x)\n",
        "    min_y = min(y.min(), min_y)\n",
        "    max_y = max(y.max(), max_y)\n",
        "print('min={} max={}'.format(min_y, max_y))"
      ],
      "metadata": {
        "colab": {
          "base_uri": "https://localhost:8080/"
        },
        "id": "4Yunm798BuyE",
        "outputId": "4b764644-3101-477b-f0e2-ad0d50dc7d40"
      },
      "execution_count": 47,
      "outputs": [
        {
          "output_type": "stream",
          "name": "stdout",
          "text": [
            "64/64 [==============================] - 1s 4ms/step - loss: 12.2958\n",
            "64/64 [==============================] - 0s 3ms/step - loss: 9.8095\n",
            "64/64 [==============================] - 0s 2ms/step - loss: 7.0256\n",
            "64/64 [==============================] - 0s 2ms/step - loss: 4.8623\n",
            "64/64 [==============================] - 0s 2ms/step - loss: 3.1618\n",
            "64/64 [==============================] - 0s 2ms/step - loss: 2.0582\n",
            "64/64 [==============================] - 0s 2ms/step - loss: 1.2867\n",
            "64/64 [==============================] - 0s 2ms/step - loss: 1.0726\n",
            "64/64 [==============================] - 0s 3ms/step - loss: 0.7690\n",
            "64/64 [==============================] - 0s 3ms/step - loss: 0.5616\n",
            "64/64 [==============================] - 0s 3ms/step\n",
            "64/64 [==============================] - 0s 2ms/step\n",
            "64/64 [==============================] - 0s 2ms/step\n",
            "64/64 [==============================] - 0s 2ms/step\n",
            "64/64 [==============================] - 0s 3ms/step\n",
            "64/64 [==============================] - 0s 2ms/step\n",
            "64/64 [==============================] - 0s 1ms/step\n",
            "64/64 [==============================] - 0s 1ms/step\n",
            "64/64 [==============================] - 0s 1ms/step\n",
            "64/64 [==============================] - 0s 1ms/step\n",
            "min=3.007011651992798 max=19.977737426757812\n"
          ]
        }
      ]
    },
    {
      "cell_type": "code",
      "source": [],
      "metadata": {
        "id": "L72bNjJvJoRJ"
      },
      "execution_count": null,
      "outputs": []
    }
  ]
}