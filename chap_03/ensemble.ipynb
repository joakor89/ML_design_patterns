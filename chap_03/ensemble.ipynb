{
  "nbformat": 4,
  "nbformat_minor": 0,
  "metadata": {
    "colab": {
      "provenance": [],
      "gpuType": "T4"
    },
    "kernelspec": {
      "name": "python3",
      "display_name": "Python 3"
    },
    "language_info": {
      "name": "python"
    },
    "accelerator": "GPU"
  },
  "cells": [
    {
      "cell_type": "markdown",
      "source": [
        "# **Ensamble Design Pattern**\n",
        "\n",
        "### ***Loading Libraries***"
      ],
      "metadata": {
        "id": "ELS1T18LFef3"
      }
    },
    {
      "cell_type": "code",
      "execution_count": 1,
      "metadata": {
        "id": "TAW0Dy_2Eohy"
      },
      "outputs": [],
      "source": [
        "# Operating Systems\n",
        "import os\n",
        "import shutil\n",
        "\n",
        "# Numerical Computing\n",
        "import numpy as np\n",
        "\n",
        "# Data Manipuation\n",
        "import pandas as pd\n",
        "\n",
        "# SciPy\n",
        "import scipy\n",
        "from scipy import stats\n",
        "\n",
        "# Data Visualization\n",
        "import matplotlib.pyplot as plt\n",
        "import seaborn as sns\n",
        "\n",
        "# BigQuery\n",
        "from google.cloud import bigquery\n",
        "from google.colab import auth\n",
        "\n",
        "# Scikit-Learn\n",
        "from sklearn.utils import shuffle\n",
        "from sklearn.preprocessing import MultiLabelBinarizer\n",
        "\n",
        "# TensorFlow\n",
        "import tensorflow as tf\n",
        "from tensorflow import keras\n",
        "from tensorflow.keras import Model\n",
        "from tensorflow_hub import KerasLayer\n",
        "from tensorflow import feature_column as fc\n",
        "from tensorflow.keras.preprocessing import text\n",
        "from tensorflow.keras.utils import to_categorical\n",
        "from tensorflow.keras.preprocessing.text import Tokenizer\n",
        "from tensorflow.keras import callbacks, layers, models, utils\n",
        "from tensorflow.keras.preprocessing.sequence import pad_sequences\n",
        "from tensorflow.keras.layers import Dense, Embedding, Input, Flatten, Conv2D, MaxPooling2D"
      ]
    },
    {
      "cell_type": "code",
      "source": [
        "# User Authentication\n",
        "auth.authenticate_user()\n",
        "\n",
        "# BigQuery Library\n",
        "# !pip install --upgrade google-cloud-bigquery"
      ],
      "metadata": {
        "id": "gPWYFzAgFuiE"
      },
      "execution_count": 2,
      "outputs": []
    },
    {
      "cell_type": "code",
      "source": [
        "project_id = 'core-catalyst-425922-v9'\n",
        "os.environ['GOOGLE_CLOUD_PROJECT'] = project_id\n",
        "\n",
        "# BigQuery Client Config\n",
        "client = bigquery.Client(project=project_id)"
      ],
      "metadata": {
        "id": "-sbWdCITFufF"
      },
      "execution_count": 3,
      "outputs": []
    },
    {
      "cell_type": "code",
      "source": [
        "df = pd.read_csv(\"/content/babyweight_train.csv\")\n",
        "df.head()"
      ],
      "metadata": {
        "colab": {
          "base_uri": "https://localhost:8080/",
          "height": 204
        },
        "id": "nKYGzjl9Fukm",
        "outputId": "4a3425e9-d22d-408c-ae0a-90510345ddb8"
      },
      "execution_count": 4,
      "outputs": [
        {
          "output_type": "execute_result",
          "data": {
            "text/plain": [
              "   weight_pounds  is_male  mother_age  plurality  gestation_weeks  mother_race\n",
              "0       7.749249    False          12  Single(1)               40          1.0\n",
              "1       7.561856     True          12  Single(1)               40          2.0\n",
              "2       7.187070    False          12  Single(1)               34          3.0\n",
              "3       6.375769     True          12  Single(1)               36          2.0\n",
              "4       7.936641    False          12  Single(1)               35          NaN"
            ],
            "text/html": [
              "\n",
              "  <div id=\"df-2df2d70b-aabe-4c5c-99ae-eb61c09147db\" class=\"colab-df-container\">\n",
              "    <div>\n",
              "<style scoped>\n",
              "    .dataframe tbody tr th:only-of-type {\n",
              "        vertical-align: middle;\n",
              "    }\n",
              "\n",
              "    .dataframe tbody tr th {\n",
              "        vertical-align: top;\n",
              "    }\n",
              "\n",
              "    .dataframe thead th {\n",
              "        text-align: right;\n",
              "    }\n",
              "</style>\n",
              "<table border=\"1\" class=\"dataframe\">\n",
              "  <thead>\n",
              "    <tr style=\"text-align: right;\">\n",
              "      <th></th>\n",
              "      <th>weight_pounds</th>\n",
              "      <th>is_male</th>\n",
              "      <th>mother_age</th>\n",
              "      <th>plurality</th>\n",
              "      <th>gestation_weeks</th>\n",
              "      <th>mother_race</th>\n",
              "    </tr>\n",
              "  </thead>\n",
              "  <tbody>\n",
              "    <tr>\n",
              "      <th>0</th>\n",
              "      <td>7.749249</td>\n",
              "      <td>False</td>\n",
              "      <td>12</td>\n",
              "      <td>Single(1)</td>\n",
              "      <td>40</td>\n",
              "      <td>1.0</td>\n",
              "    </tr>\n",
              "    <tr>\n",
              "      <th>1</th>\n",
              "      <td>7.561856</td>\n",
              "      <td>True</td>\n",
              "      <td>12</td>\n",
              "      <td>Single(1)</td>\n",
              "      <td>40</td>\n",
              "      <td>2.0</td>\n",
              "    </tr>\n",
              "    <tr>\n",
              "      <th>2</th>\n",
              "      <td>7.187070</td>\n",
              "      <td>False</td>\n",
              "      <td>12</td>\n",
              "      <td>Single(1)</td>\n",
              "      <td>34</td>\n",
              "      <td>3.0</td>\n",
              "    </tr>\n",
              "    <tr>\n",
              "      <th>3</th>\n",
              "      <td>6.375769</td>\n",
              "      <td>True</td>\n",
              "      <td>12</td>\n",
              "      <td>Single(1)</td>\n",
              "      <td>36</td>\n",
              "      <td>2.0</td>\n",
              "    </tr>\n",
              "    <tr>\n",
              "      <th>4</th>\n",
              "      <td>7.936641</td>\n",
              "      <td>False</td>\n",
              "      <td>12</td>\n",
              "      <td>Single(1)</td>\n",
              "      <td>35</td>\n",
              "      <td>NaN</td>\n",
              "    </tr>\n",
              "  </tbody>\n",
              "</table>\n",
              "</div>\n",
              "    <div class=\"colab-df-buttons\">\n",
              "\n",
              "  <div class=\"colab-df-container\">\n",
              "    <button class=\"colab-df-convert\" onclick=\"convertToInteractive('df-2df2d70b-aabe-4c5c-99ae-eb61c09147db')\"\n",
              "            title=\"Convert this dataframe to an interactive table.\"\n",
              "            style=\"display:none;\">\n",
              "\n",
              "  <svg xmlns=\"http://www.w3.org/2000/svg\" height=\"24px\" viewBox=\"0 -960 960 960\">\n",
              "    <path d=\"M120-120v-720h720v720H120Zm60-500h600v-160H180v160Zm220 220h160v-160H400v160Zm0 220h160v-160H400v160ZM180-400h160v-160H180v160Zm440 0h160v-160H620v160ZM180-180h160v-160H180v160Zm440 0h160v-160H620v160Z\"/>\n",
              "  </svg>\n",
              "    </button>\n",
              "\n",
              "  <style>\n",
              "    .colab-df-container {\n",
              "      display:flex;\n",
              "      gap: 12px;\n",
              "    }\n",
              "\n",
              "    .colab-df-convert {\n",
              "      background-color: #E8F0FE;\n",
              "      border: none;\n",
              "      border-radius: 50%;\n",
              "      cursor: pointer;\n",
              "      display: none;\n",
              "      fill: #1967D2;\n",
              "      height: 32px;\n",
              "      padding: 0 0 0 0;\n",
              "      width: 32px;\n",
              "    }\n",
              "\n",
              "    .colab-df-convert:hover {\n",
              "      background-color: #E2EBFA;\n",
              "      box-shadow: 0px 1px 2px rgba(60, 64, 67, 0.3), 0px 1px 3px 1px rgba(60, 64, 67, 0.15);\n",
              "      fill: #174EA6;\n",
              "    }\n",
              "\n",
              "    .colab-df-buttons div {\n",
              "      margin-bottom: 4px;\n",
              "    }\n",
              "\n",
              "    [theme=dark] .colab-df-convert {\n",
              "      background-color: #3B4455;\n",
              "      fill: #D2E3FC;\n",
              "    }\n",
              "\n",
              "    [theme=dark] .colab-df-convert:hover {\n",
              "      background-color: #434B5C;\n",
              "      box-shadow: 0px 1px 3px 1px rgba(0, 0, 0, 0.15);\n",
              "      filter: drop-shadow(0px 1px 2px rgba(0, 0, 0, 0.3));\n",
              "      fill: #FFFFFF;\n",
              "    }\n",
              "  </style>\n",
              "\n",
              "    <script>\n",
              "      const buttonEl =\n",
              "        document.querySelector('#df-2df2d70b-aabe-4c5c-99ae-eb61c09147db button.colab-df-convert');\n",
              "      buttonEl.style.display =\n",
              "        google.colab.kernel.accessAllowed ? 'block' : 'none';\n",
              "\n",
              "      async function convertToInteractive(key) {\n",
              "        const element = document.querySelector('#df-2df2d70b-aabe-4c5c-99ae-eb61c09147db');\n",
              "        const dataTable =\n",
              "          await google.colab.kernel.invokeFunction('convertToInteractive',\n",
              "                                                    [key], {});\n",
              "        if (!dataTable) return;\n",
              "\n",
              "        const docLinkHtml = 'Like what you see? Visit the ' +\n",
              "          '<a target=\"_blank\" href=https://colab.research.google.com/notebooks/data_table.ipynb>data table notebook</a>'\n",
              "          + ' to learn more about interactive tables.';\n",
              "        element.innerHTML = '';\n",
              "        dataTable['output_type'] = 'display_data';\n",
              "        await google.colab.output.renderOutput(dataTable, element);\n",
              "        const docLink = document.createElement('div');\n",
              "        docLink.innerHTML = docLinkHtml;\n",
              "        element.appendChild(docLink);\n",
              "      }\n",
              "    </script>\n",
              "  </div>\n",
              "\n",
              "\n",
              "<div id=\"df-d28972f4-b940-4d0b-a62a-d53a5d6f08ad\">\n",
              "  <button class=\"colab-df-quickchart\" onclick=\"quickchart('df-d28972f4-b940-4d0b-a62a-d53a5d6f08ad')\"\n",
              "            title=\"Suggest charts\"\n",
              "            style=\"display:none;\">\n",
              "\n",
              "<svg xmlns=\"http://www.w3.org/2000/svg\" height=\"24px\"viewBox=\"0 0 24 24\"\n",
              "     width=\"24px\">\n",
              "    <g>\n",
              "        <path d=\"M19 3H5c-1.1 0-2 .9-2 2v14c0 1.1.9 2 2 2h14c1.1 0 2-.9 2-2V5c0-1.1-.9-2-2-2zM9 17H7v-7h2v7zm4 0h-2V7h2v10zm4 0h-2v-4h2v4z\"/>\n",
              "    </g>\n",
              "</svg>\n",
              "  </button>\n",
              "\n",
              "<style>\n",
              "  .colab-df-quickchart {\n",
              "      --bg-color: #E8F0FE;\n",
              "      --fill-color: #1967D2;\n",
              "      --hover-bg-color: #E2EBFA;\n",
              "      --hover-fill-color: #174EA6;\n",
              "      --disabled-fill-color: #AAA;\n",
              "      --disabled-bg-color: #DDD;\n",
              "  }\n",
              "\n",
              "  [theme=dark] .colab-df-quickchart {\n",
              "      --bg-color: #3B4455;\n",
              "      --fill-color: #D2E3FC;\n",
              "      --hover-bg-color: #434B5C;\n",
              "      --hover-fill-color: #FFFFFF;\n",
              "      --disabled-bg-color: #3B4455;\n",
              "      --disabled-fill-color: #666;\n",
              "  }\n",
              "\n",
              "  .colab-df-quickchart {\n",
              "    background-color: var(--bg-color);\n",
              "    border: none;\n",
              "    border-radius: 50%;\n",
              "    cursor: pointer;\n",
              "    display: none;\n",
              "    fill: var(--fill-color);\n",
              "    height: 32px;\n",
              "    padding: 0;\n",
              "    width: 32px;\n",
              "  }\n",
              "\n",
              "  .colab-df-quickchart:hover {\n",
              "    background-color: var(--hover-bg-color);\n",
              "    box-shadow: 0 1px 2px rgba(60, 64, 67, 0.3), 0 1px 3px 1px rgba(60, 64, 67, 0.15);\n",
              "    fill: var(--button-hover-fill-color);\n",
              "  }\n",
              "\n",
              "  .colab-df-quickchart-complete:disabled,\n",
              "  .colab-df-quickchart-complete:disabled:hover {\n",
              "    background-color: var(--disabled-bg-color);\n",
              "    fill: var(--disabled-fill-color);\n",
              "    box-shadow: none;\n",
              "  }\n",
              "\n",
              "  .colab-df-spinner {\n",
              "    border: 2px solid var(--fill-color);\n",
              "    border-color: transparent;\n",
              "    border-bottom-color: var(--fill-color);\n",
              "    animation:\n",
              "      spin 1s steps(1) infinite;\n",
              "  }\n",
              "\n",
              "  @keyframes spin {\n",
              "    0% {\n",
              "      border-color: transparent;\n",
              "      border-bottom-color: var(--fill-color);\n",
              "      border-left-color: var(--fill-color);\n",
              "    }\n",
              "    20% {\n",
              "      border-color: transparent;\n",
              "      border-left-color: var(--fill-color);\n",
              "      border-top-color: var(--fill-color);\n",
              "    }\n",
              "    30% {\n",
              "      border-color: transparent;\n",
              "      border-left-color: var(--fill-color);\n",
              "      border-top-color: var(--fill-color);\n",
              "      border-right-color: var(--fill-color);\n",
              "    }\n",
              "    40% {\n",
              "      border-color: transparent;\n",
              "      border-right-color: var(--fill-color);\n",
              "      border-top-color: var(--fill-color);\n",
              "    }\n",
              "    60% {\n",
              "      border-color: transparent;\n",
              "      border-right-color: var(--fill-color);\n",
              "    }\n",
              "    80% {\n",
              "      border-color: transparent;\n",
              "      border-right-color: var(--fill-color);\n",
              "      border-bottom-color: var(--fill-color);\n",
              "    }\n",
              "    90% {\n",
              "      border-color: transparent;\n",
              "      border-bottom-color: var(--fill-color);\n",
              "    }\n",
              "  }\n",
              "</style>\n",
              "\n",
              "  <script>\n",
              "    async function quickchart(key) {\n",
              "      const quickchartButtonEl =\n",
              "        document.querySelector('#' + key + ' button');\n",
              "      quickchartButtonEl.disabled = true;  // To prevent multiple clicks.\n",
              "      quickchartButtonEl.classList.add('colab-df-spinner');\n",
              "      try {\n",
              "        const charts = await google.colab.kernel.invokeFunction(\n",
              "            'suggestCharts', [key], {});\n",
              "      } catch (error) {\n",
              "        console.error('Error during call to suggestCharts:', error);\n",
              "      }\n",
              "      quickchartButtonEl.classList.remove('colab-df-spinner');\n",
              "      quickchartButtonEl.classList.add('colab-df-quickchart-complete');\n",
              "    }\n",
              "    (() => {\n",
              "      let quickchartButtonEl =\n",
              "        document.querySelector('#df-d28972f4-b940-4d0b-a62a-d53a5d6f08ad button');\n",
              "      quickchartButtonEl.style.display =\n",
              "        google.colab.kernel.accessAllowed ? 'block' : 'none';\n",
              "    })();\n",
              "  </script>\n",
              "</div>\n",
              "\n",
              "    </div>\n",
              "  </div>\n"
            ],
            "application/vnd.google.colaboratory.intrinsic+json": {
              "type": "dataframe",
              "variable_name": "df"
            }
          },
          "metadata": {},
          "execution_count": 4
        }
      ]
    },
    {
      "cell_type": "markdown",
      "source": [
        "### Create our `tf.data` input pipeline"
      ],
      "metadata": {
        "id": "gb9d4UkpFxy0"
      }
    },
    {
      "cell_type": "code",
      "source": [
        "CSV_COLUMNS = [\"weight_pounds\",\n",
        "               \"is_male\",\n",
        "               \"mother_age\",\n",
        "               \"plurality\",\n",
        "               \"gestation_weeks\",\n",
        "               \"mother_race\"]\n",
        "\n",
        "LABEL_COLUMN = \"weight_pounds\"\n",
        "\n",
        "DEFAULTS = [[0.0], [\"null\"], [0.0], [\"null\"], [0.0], [\"0\"]]"
      ],
      "metadata": {
        "id": "2idgngvrFucY"
      },
      "execution_count": 5,
      "outputs": []
    },
    {
      "cell_type": "code",
      "source": [
        "def get_dataset(file_path):\n",
        "    dataset = tf.data.experimental.make_csv_dataset(\n",
        "        file_path,\n",
        "        batch_size=15,\n",
        "        label_name=LABEL_COLUMN,\n",
        "        select_columns=CSV_COLUMNS,\n",
        "        column_defaults=DEFAULTS,\n",
        "        num_epochs=1,\n",
        "        ignore_errors=True)\n",
        "    return dataset\n",
        "\n",
        "train_data = get_dataset(\"/content/babyweight_train.csv\")\n",
        "test_data = get_dataset(\"/content/babyweight_eval.csv\")"
      ],
      "metadata": {
        "colab": {
          "base_uri": "https://localhost:8080/"
        },
        "id": "-vh5eGMhFuZz",
        "outputId": "c5d6bc59-4712-4eba-a10e-d8af3c0302f0"
      },
      "execution_count": 7,
      "outputs": [
        {
          "output_type": "stream",
          "name": "stderr",
          "text": [
            "WARNING:tensorflow:From /usr/local/lib/python3.10/dist-packages/tensorflow/python/data/experimental/ops/readers.py:573: ignore_errors (from tensorflow.python.data.experimental.ops.error_ops) is deprecated and will be removed in a future version.\n",
            "Instructions for updating:\n",
            "Use `tf.data.Dataset.ignore_errors` instead.\n"
          ]
        }
      ]
    },
    {
      "cell_type": "code",
      "source": [
        "def show_batch(dataset):\n",
        "    for batch, label in dataset.take(1):\n",
        "        for key, value in batch.items():\n",
        "            print(\"{:20s}: {}\".format(key,value.numpy()))\n",
        "\n",
        "show_batch(train_data)"
      ],
      "metadata": {
        "colab": {
          "base_uri": "https://localhost:8080/"
        },
        "id": "CX0Ypi3wFuXJ",
        "outputId": "15d1bd56-d217-4cb4-c8f5-d58174683526"
      },
      "execution_count": 8,
      "outputs": [
        {
          "output_type": "stream",
          "name": "stdout",
          "text": [
            "is_male             : [b'False' b'True' b'True' b'False' b'False' b'False' b'False' b'False'\n",
            " b'True' b'False' b'False' b'False' b'True' b'True' b'False']\n",
            "mother_age          : [17. 17. 17. 17. 17. 16. 18. 17. 16. 18. 17. 17. 15. 15. 18.]\n",
            "plurality           : [b'Single(1)' b'Single(1)' b'Single(1)' b'Single(1)' b'Single(1)'\n",
            " b'Single(1)' b'Single(1)' b'Single(1)' b'Single(1)' b'Single(1)'\n",
            " b'Single(1)' b'Single(1)' b'Single(1)' b'Single(1)' b'Single(1)']\n",
            "gestation_weeks     : [40. 39. 39. 38. 39. 40. 36. 39. 44. 41. 38. 40. 43. 38. 36.]\n",
            "mother_race         : [b'2.0' b'0' b'1.0' b'1.0' b'0' b'1.0' b'0' b'2.0' b'1.0' b'1.0' b'0'\n",
            " b'2.0' b'2.0' b'0' b'0']\n"
          ]
        }
      ]
    },
    {
      "cell_type": "markdown",
      "source": [
        "# ***Create Features Columns***"
      ],
      "metadata": {
        "id": "HDs9MnclF5tS"
      }
    },
    {
      "cell_type": "code",
      "source": [
        "numeric_columns = [fc.numeric_column(\"mother_age\"),\n",
        "                  fc.numeric_column(\"gestation_weeks\")]\n",
        "\n",
        "CATEGORIES = {\n",
        "    'plurality': [\"Single(1)\", \"Twins(2)\", \"Triplets(3)\",\n",
        "                  \"Quadruplets(4)\", \"Quintuplets(5)\", \"Multiple(2+)\"],\n",
        "    'is_male' : [\"True\", \"False\", \"Unknown\"],\n",
        "    'mother_race': [str(_) for _ in df.mother_race.unique()]\n",
        "}\n",
        "\n",
        "categorical_columns = []\n",
        "for feature, vocab in CATEGORIES.items():\n",
        "  cat_col = fc.categorical_column_with_vocabulary_list(\n",
        "        key=feature, vocabulary_list=vocab)\n",
        "  categorical_columns.append(fc.indicator_column(cat_col))"
      ],
      "metadata": {
        "colab": {
          "base_uri": "https://localhost:8080/"
        },
        "id": "RUA9wSacFuUS",
        "outputId": "7ca110cf-be36-464d-90d6-e32e7b4c44e6"
      },
      "execution_count": 9,
      "outputs": [
        {
          "output_type": "stream",
          "name": "stderr",
          "text": [
            "WARNING:tensorflow:From <ipython-input-9-a1e82ae58ab3>:1: numeric_column (from tensorflow.python.feature_column.feature_column_v2) is deprecated and will be removed in a future version.\n",
            "Instructions for updating:\n",
            "Use Keras preprocessing layers instead, either directly or via the `tf.keras.utils.FeatureSpace` utility. Each of `tf.feature_column.*` has a functional equivalent in `tf.keras.layers` for feature preprocessing when training a Keras model.\n",
            "WARNING:tensorflow:From <ipython-input-9-a1e82ae58ab3>:13: categorical_column_with_vocabulary_list (from tensorflow.python.feature_column.feature_column_v2) is deprecated and will be removed in a future version.\n",
            "Instructions for updating:\n",
            "Use Keras preprocessing layers instead, either directly or via the `tf.keras.utils.FeatureSpace` utility. Each of `tf.feature_column.*` has a functional equivalent in `tf.keras.layers` for feature preprocessing when training a Keras model.\n",
            "WARNING:tensorflow:From <ipython-input-9-a1e82ae58ab3>:15: indicator_column (from tensorflow.python.feature_column.feature_column_v2) is deprecated and will be removed in a future version.\n",
            "Instructions for updating:\n",
            "Use Keras preprocessing layers instead, either directly or via the `tf.keras.utils.FeatureSpace` utility. Each of `tf.feature_column.*` has a functional equivalent in `tf.keras.layers` for feature preprocessing when training a Keras model.\n"
          ]
        }
      ]
    },
    {
      "cell_type": "markdown",
      "source": [
        "### ***Creating Ensemble Models***"
      ],
      "metadata": {
        "id": "xvHucjVgGBeB"
      }
    },
    {
      "cell_type": "code",
      "source": [
        "inputs = {colname: tf.keras.layers.Input(\n",
        "    name=colname, shape=(), dtype=\"float32\")\n",
        "    for colname in [\"mother_age\", \"gestation_weeks\"]}\n",
        "\n",
        "inputs.update({colname: tf.keras.layers.Input(\n",
        "    name=colname, shape=(), dtype=\"string\")\n",
        "    for colname in [\"is_male\", \"plurality\", \"mother_race\"]})\n",
        "\n",
        "dnn_inputs = layers.DenseFeatures(categorical_columns+numeric_columns)(inputs)\n",
        "\n",
        "# model_1\n",
        "model1_h1 = layers.Dense(50, activation=\"relu\")(dnn_inputs)\n",
        "model1_h2 = layers.Dense(30, activation=\"relu\")(model1_h1)\n",
        "model1_output = layers.Dense(1, activation=\"relu\")(model1_h2)\n",
        "model_1 = tf.keras.models.Model(inputs=inputs, outputs=model1_output, name=\"model_1\")\n",
        "\n",
        "# model_2\n",
        "model2_h1 = layers.Dense(64, activation=\"relu\")(dnn_inputs)\n",
        "model2_h2 = layers.Dense(32, activation=\"relu\")(model2_h1)\n",
        "model2_output = layers.Dense(1, activation=\"relu\")(model2_h2)\n",
        "model_2 = tf.keras.models.Model(inputs=inputs, outputs=model2_output, name=\"model_2\")\n",
        "\n",
        "# model_3\n",
        "model3_h1 = layers.Dense(32, activation=\"relu\")(dnn_inputs)\n",
        "model3_output = layers.Dense(1, activation=\"relu\")(model3_h1)\n",
        "model_3 = tf.keras.models.Model(inputs=inputs, outputs=model3_output, name=\"model_3\")"
      ],
      "metadata": {
        "id": "kh5C3V3BFuRU"
      },
      "execution_count": 10,
      "outputs": []
    },
    {
      "cell_type": "code",
      "source": [
        "def fit_model(model):\n",
        "    model.compile(\n",
        "        loss=tf.keras.losses.MeanSquaredError(),\n",
        "        optimizer='adam', metrics=['mse'])\n",
        "\n",
        "    model.fit(train_data.shuffle(500), epochs=1)\n",
        "\n",
        "    test_loss, test_mse = model.evaluate(test_data)\n",
        "    print('\\n\\n{}:\\nTest Loss {}, Test RMSE {}'.format(\n",
        "        model.name, test_loss, test_mse**0.5))\n",
        "\n",
        "    return model"
      ],
      "metadata": {
        "id": "0jEy67iDFuOp"
      },
      "execution_count": 11,
      "outputs": []
    },
    {
      "cell_type": "code",
      "source": [
        "try:\n",
        "    os.makedirs('models')\n",
        "except:\n",
        "    print(\"directory already exists\")"
      ],
      "metadata": {
        "id": "9TPX6cqbFuMD"
      },
      "execution_count": 12,
      "outputs": []
    },
    {
      "cell_type": "code",
      "source": [
        "members = [model_1, model_2, model_3]\n",
        "\n",
        "n_members = len(members)\n",
        "\n",
        "for i in range(n_members):\n",
        "    model = fit_model(members[i])\n",
        "    filename = 'models/model_' + str(i + 1) + '.h5'\n",
        "    model.save(filename, save_format='tf')\n",
        "    print('Saved {}\\n'.format(filename))"
      ],
      "metadata": {
        "colab": {
          "base_uri": "https://localhost:8080/"
        },
        "id": "gIInACFGFuJP",
        "outputId": "c13f0e56-303a-443f-f420-9e5cd59dc114"
      },
      "execution_count": 13,
      "outputs": [
        {
          "output_type": "stream",
          "name": "stdout",
          "text": [
            "17638/17638 [==============================] - 81s 4ms/step - loss: 54.0193 - mse: 54.0193\n",
            "4343/4343 [==============================] - 15s 3ms/step - loss: 54.1937 - mse: 54.1937\n"
          ]
        },
        {
          "output_type": "stream",
          "name": "stderr",
          "text": [
            "WARNING:tensorflow:From /usr/local/lib/python3.10/dist-packages/keras/src/feature_column/base_feature_layer.py:129: serialize_feature_column (from tensorflow.python.feature_column.serialization) is deprecated and will be removed in a future version.\n",
            "Instructions for updating:\n",
            "Use Keras preprocessing layers instead, either directly or via the `tf.keras.utils.FeatureSpace` utility. Each of `tf.feature_column.*` has a functional equivalent in `tf.keras.layers` for feature preprocessing when training a Keras model.\n"
          ]
        },
        {
          "output_type": "stream",
          "name": "stdout",
          "text": [
            "\n",
            "\n",
            "model_1:\n",
            "Test Loss 54.19366455078125, Test RMSE 7.361634638501238\n",
            "Saved models/model_1.h5\n",
            "\n",
            "17638/17638 [==============================] - 79s 4ms/step - loss: 54.0192 - mse: 54.0192\n",
            "4343/4343 [==============================] - 15s 3ms/step - loss: 54.1937 - mse: 54.1937\n",
            "\n",
            "\n",
            "model_2:\n",
            "Test Loss 54.19367980957031, Test RMSE 7.361635674873507\n",
            "Saved models/model_2.h5\n",
            "\n",
            "17638/17638 [==============================] - 79s 4ms/step - loss: 54.0193 - mse: 54.0193\n",
            "4343/4343 [==============================] - 15s 3ms/step - loss: 54.1936 - mse: 54.1936\n",
            "\n",
            "\n",
            "model_3:\n",
            "Test Loss 54.19364929199219, Test RMSE 7.361633602128823\n",
            "Saved models/model_3.h5\n",
            "\n"
          ]
        }
      ]
    },
    {
      "cell_type": "markdown",
      "source": [
        "### ***Loading Trained Models & Creating The Stacked Ensemble Model***"
      ],
      "metadata": {
        "id": "vW1zwTSSGQMp"
      }
    },
    {
      "cell_type": "code",
      "source": [
        "def load_models(n_models):\n",
        "    all_models = []\n",
        "    for i in range(n_models):\n",
        "        filename = 'models/model_' + str(i + 1) + '.h5'\n",
        "        model = models.load_model(filename)\n",
        "        all_models.append(model)\n",
        "        print('>loaded %s' % filename)\n",
        "    return all_models"
      ],
      "metadata": {
        "id": "jkZm1xs2FuGS"
      },
      "execution_count": 14,
      "outputs": []
    },
    {
      "cell_type": "code",
      "source": [
        "members = load_models(n_members)\n",
        "\n",
        "print('Loaded %d models' % len(members))"
      ],
      "metadata": {
        "colab": {
          "base_uri": "https://localhost:8080/"
        },
        "id": "1xpjKF2dFuDt",
        "outputId": "9e69a6ff-bc59-46ad-d661-ebc87be942ac"
      },
      "execution_count": 15,
      "outputs": [
        {
          "output_type": "stream",
          "name": "stdout",
          "text": [
            ">loaded models/model_1.h5\n",
            ">loaded models/model_2.h5\n",
            ">loaded models/model_3.h5\n",
            "Loaded 3 models\n"
          ]
        }
      ]
    },
    {
      "cell_type": "code",
      "source": [
        "for i in range(n_members):\n",
        "    model = members[i]\n",
        "    for layer in model.layers:\n",
        "        layer.trainable = False\n",
        "        layer._name = 'ensemble_' + str(i+1) + '_' + layer.name"
      ],
      "metadata": {
        "id": "_QLf1RfWFuA4"
      },
      "execution_count": 16,
      "outputs": []
    },
    {
      "cell_type": "code",
      "source": [
        "member_inputs = [model.input for model in members]\n",
        "\n",
        "member_outputs = [model.output for model in members]\n",
        "merge = layers.concatenate(member_outputs)\n",
        "h1 = layers.Dense(30, activation='relu')(merge)\n",
        "h2 = layers.Dense(20, activation='relu')(h1)\n",
        "h3 = layers.Dense(10, activation='relu')(h2)\n",
        "h4 = layers.Dense(5, activation='relu')(h2)\n",
        "ensemble_output = layers.Dense(1, activation='relu')(h3)\n",
        "ensemble_model = Model(inputs=member_inputs, outputs=ensemble_output)\n",
        "\n",
        "tf.keras.utils.plot_model(ensemble_model, show_shapes=True, to_file='ensemble_graph.png')\n",
        "\n",
        "# Compile\n",
        "ensemble_model.compile(loss='mse', optimizer='adam', metrics=['mse'])"
      ],
      "metadata": {
        "id": "qSb_BXGDFt-U"
      },
      "execution_count": 17,
      "outputs": []
    },
    {
      "cell_type": "code",
      "source": [
        "FEATURES = [\"is_male\", \"mother_age\", \"plurality\",\n",
        "            \"gestation_weeks\", \"mother_race\"]\n",
        "\n",
        "def stack_features(features, label):\n",
        "    for feature in FEATURES:\n",
        "        for i in range(n_members):\n",
        "            features['ensemble_' + str(i+1) + '_' + feature] = features[feature]\n",
        "\n",
        "    return features, label\n",
        "\n",
        "ensemble_data = train_data.map(stack_features).repeat(1)"
      ],
      "metadata": {
        "id": "wiO-LX6EFt7x"
      },
      "execution_count": 18,
      "outputs": []
    },
    {
      "cell_type": "code",
      "source": [
        "ensemble_model.fit(ensemble_data.shuffle(500), epochs=1)"
      ],
      "metadata": {
        "colab": {
          "base_uri": "https://localhost:8080/"
        },
        "id": "O9_xjcZIFt5L",
        "outputId": "54d9dbea-d5da-4035-c9fe-12d51a98e2d6"
      },
      "execution_count": 19,
      "outputs": [
        {
          "output_type": "stream",
          "name": "stdout",
          "text": [
            "17638/17638 [==============================] - 129s 7ms/step - loss: 54.0194 - mse: 54.0194\n"
          ]
        },
        {
          "output_type": "execute_result",
          "data": {
            "text/plain": [
              "<keras.src.callbacks.History at 0x7f78a2181e10>"
            ]
          },
          "metadata": {},
          "execution_count": 19
        }
      ]
    },
    {
      "cell_type": "code",
      "source": [
        "val_loss, val_mse = ensemble_model.evaluate(test_data.map(stack_features))"
      ],
      "metadata": {
        "colab": {
          "base_uri": "https://localhost:8080/"
        },
        "id": "hULdcTjmFt2n",
        "outputId": "ca9b5524-e00b-416e-e1e0-e48dcb91e474"
      },
      "execution_count": 20,
      "outputs": [
        {
          "output_type": "stream",
          "name": "stdout",
          "text": [
            "4343/4343 [==============================] - 25s 6ms/step - loss: 54.1936 - mse: 54.1936\n"
          ]
        }
      ]
    },
    {
      "cell_type": "code",
      "source": [
        "print(\"Validation RMSE: {}\".format(val_mse**0.5))"
      ],
      "metadata": {
        "colab": {
          "base_uri": "https://localhost:8080/"
        },
        "id": "FgvvvA1gFtz6",
        "outputId": "b65bec4d-df77-4dc3-a177-a4536df45679"
      },
      "execution_count": 21,
      "outputs": [
        {
          "output_type": "stream",
          "name": "stdout",
          "text": [
            "Validation RMSE: 7.361633083942561\n"
          ]
        }
      ]
    },
    {
      "cell_type": "code",
      "source": [],
      "metadata": {
        "id": "ZRZpNTz6FtxK"
      },
      "execution_count": null,
      "outputs": []
    }
  ]
}