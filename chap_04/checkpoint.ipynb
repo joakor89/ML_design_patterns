{
  "nbformat": 4,
  "nbformat_minor": 0,
  "metadata": {
    "colab": {
      "provenance": [],
      "gpuType": "T4"
    },
    "kernelspec": {
      "name": "python3",
      "display_name": "Python 3"
    },
    "language_info": {
      "name": "python"
    },
    "accelerator": "GPU"
  },
  "cells": [
    {
      "cell_type": "markdown",
      "source": [
        "# **Checkpoint Design Pattern**\n",
        "\n",
        "### ***Loading Libraries***"
      ],
      "metadata": {
        "id": "_O35-grDtKZ-"
      }
    },
    {
      "cell_type": "code",
      "source": [
        "!pip install tensorflow-io"
      ],
      "metadata": {
        "colab": {
          "base_uri": "https://localhost:8080/"
        },
        "id": "beUFlac2u_jP",
        "outputId": "ae9271df-4836-45e9-ac87-20aa67dc62cb"
      },
      "execution_count": 2,
      "outputs": [
        {
          "output_type": "stream",
          "name": "stdout",
          "text": [
            "Collecting tensorflow-io\n",
            "  Downloading tensorflow_io-0.37.0-cp310-cp310-manylinux_2_17_x86_64.manylinux2014_x86_64.whl (49.6 MB)\n",
            "\u001b[2K     \u001b[90m━━━━━━━━━━━━━━━━━━━━━━━━━━━━━━━━━━━━━━━━\u001b[0m \u001b[32m49.6/49.6 MB\u001b[0m \u001b[31m11.2 MB/s\u001b[0m eta \u001b[36m0:00:00\u001b[0m\n",
            "\u001b[?25hRequirement already satisfied: tensorflow-io-gcs-filesystem==0.37.0 in /usr/local/lib/python3.10/dist-packages (from tensorflow-io) (0.37.0)\n",
            "Installing collected packages: tensorflow-io\n",
            "Successfully installed tensorflow-io-0.37.0\n"
          ]
        }
      ]
    },
    {
      "cell_type": "code",
      "execution_count": 3,
      "metadata": {
        "id": "Yvud0dKbtF4x"
      },
      "outputs": [],
      "source": [
        "# Operating Systems\n",
        "import os\n",
        "import shutil\n",
        "\n",
        "# Numerical Computing\n",
        "import numpy as np\n",
        "\n",
        "# Data Manipuation\n",
        "import pandas as pd\n",
        "\n",
        "# SciPy\n",
        "import scipy\n",
        "from scipy import stats\n",
        "\n",
        "# Data Visualization\n",
        "import itertools\n",
        "import seaborn as sns\n",
        "import matplotlib.pyplot as plt\n",
        "\n",
        "# BigQuery\n",
        "from google.cloud import bigquery\n",
        "from google.colab import auth\n",
        "\n",
        "# Scikit-Learn\n",
        "from sklearn.utils import shuffle\n",
        "from sklearn.metrics import confusion_matrix\n",
        "from sklearn.preprocessing import MinMaxScaler\n",
        "from sklearn.preprocessing import MultiLabelBinarizer\n",
        "\n",
        "# Extreme Gradient Boosting\n",
        "import xgboost as xgb\n",
        "\n",
        "# TensorFlow\n",
        "import tensorflow as tf\n",
        "import tensorflow_hub as hub\n",
        "from tensorflow import keras\n",
        "from tensorflow.keras import Model\n",
        "import tensorflow_datasets as tfds\n",
        "from tensorflow_hub import KerasLayer\n",
        "from tensorflow import feature_column as fc\n",
        "from tensorflow.python.framework import dtypes\n",
        "from tensorflow.keras.preprocessing import text\n",
        "from tensorflow.keras.utils import to_categorical\n",
        "from tensorflow_io.bigquery import BigQueryClient\n",
        "from tensorflow.keras.preprocessing.text import Tokenizer\n",
        "from tensorflow.keras import callbacks, layers, models, utils\n",
        "from tensorflow.keras.preprocessing.sequence import pad_sequences\n",
        "from tensorflow.keras.layers import Dense, Embedding, Input, Flatten, Conv2D, MaxPooling2D"
      ]
    },
    {
      "cell_type": "code",
      "source": [
        "def features_and_labels(features):\n",
        "  label = features.pop('tolls_amount')\n",
        "  return features, tf.cast(label > 0, dtypes.int64, name='threshold')\n",
        "\n",
        "def read_dataset(client, row_restriction, batch_size=2048, infinite=True):\n",
        "    GCP_PROJECT_ID='ai-analytics-solutions'\n",
        "    COL_NAMES = ['pickup_latitude', 'pickup_longitude', 'dropoff_latitude', 'dropoff_longitude', 'tolls_amount']\n",
        "    COL_TYPES = [dtypes.float64] * len(COL_NAMES)\n",
        "    DATASET_GCP_PROJECT_ID, DATASET_ID, TABLE_ID,  = 'bigquery-public-data.new_york.tlc_green_trips_2015'.split('.')\n",
        "    bqsession = client.read_session(\n",
        "        \"projects/\" + GCP_PROJECT_ID,\n",
        "        DATASET_GCP_PROJECT_ID, TABLE_ID, DATASET_ID,\n",
        "        COL_NAMES, COL_TYPES,\n",
        "        requested_streams=2,\n",
        "        row_restriction=row_restriction + ' AND pickup_longitude > -80 AND dropoff_longitude < -70')\n",
        "    dataset = bqsession.parallel_read_rows()\n",
        "    dataset = dataset.prefetch(1).map(features_and_labels).shuffle(batch_size*10).batch(batch_size)\n",
        "    if infinite:\n",
        "        dataset = dataset.repeat()\n",
        "    return dataset\n",
        "\n",
        "client = BigQueryClient()"
      ],
      "metadata": {
        "id": "o5OA_BQnta6Z"
      },
      "execution_count": 5,
      "outputs": []
    },
    {
      "cell_type": "code",
      "source": [
        "temp_df = read_dataset(client, \"pickup_datetime BETWEEN '2015-01-01' AND '2015-03-31'\", 2)\n",
        "\n",
        "for row in temp_df:\n",
        "    print(row)"
      ],
      "metadata": {
        "id": "7_c3tYs2ta32"
      },
      "execution_count": 6,
      "outputs": []
    },
    {
      "cell_type": "code",
      "source": [
        "BATCH_SIZE=2048\n",
        "\n",
        "train_df = read_dataset(client, \"pickup_datetime BETWEEN '2015-01-01' AND '2015-03-31'\", BATCH_SIZE)\n",
        "eval_df = read_dataset(client, \"pickup_datetime BETWEEN '2015-04-01' AND '2015-04-30'\", BATCH_SIZE, infinite=False)"
      ],
      "metadata": {
        "id": "OBtDguRkta1I"
      },
      "execution_count": 7,
      "outputs": []
    },
    {
      "cell_type": "markdown",
      "source": [
        "### ***Model Building***"
      ],
      "metadata": {
        "id": "mKmgV6H1tisM"
      }
    },
    {
      "cell_type": "code",
      "source": [
        "metrics = [\n",
        "      tf.keras.metrics.BinaryAccuracy(name='accuracy'),\n",
        "      tf.keras.metrics.Precision(name='precision'),\n",
        "      tf.keras.metrics.Recall(name='recall'),\n",
        "      tf.keras.metrics.AUC(name='roc_auc'),\n",
        "]\n",
        "\n",
        "\n",
        "inputs = {\n",
        "    colname : tf.keras.layers.Input(name=colname, shape=(), dtype='float64')\n",
        "    for colname in ['pickup_latitude', 'pickup_longitude', 'dropoff_latitude', 'dropoff_longitude']\n",
        "}\n",
        "input_fc = [tf.feature_column.numeric_column(colname) for colname in inputs.keys()]\n",
        "\n",
        "transformed = inputs.copy()\n",
        "input_layer = tf.keras.layers.DenseFeatures(input_fc, name='features')(transformed)\n",
        "\n",
        "\n",
        "d1 = tf.keras.layers.Dense(16, activation='relu', name='d1')(input_layer)\n",
        "d2 = tf.keras.layers.Dropout(0.25, name='d2')(d1)\n",
        "d3 = tf.keras.layers.Dense(16, activation='relu', name='d3')(d2)\n",
        "output = tf.keras.layers.Dense(1, activation='sigmoid', name='d4', bias_initializer=tf.keras.initializers.Constant())(d3)\n",
        "\n",
        "model = tf.keras.Model(inputs, output)\n",
        "model.compile(optimizer='adam',\n",
        "              loss='binary_crossentropy',\n",
        "              metrics=metrics)\n",
        "tf.keras.utils.plot_model(model, rankdir='LR')"
      ],
      "metadata": {
        "id": "gS9rdG64tayc"
      },
      "execution_count": 8,
      "outputs": []
    },
    {
      "cell_type": "code",
      "source": [
        "class_weight = {0: 0.5, 1: 25.0}\n",
        "\n",
        "OUTDIR='trained'\n",
        "import shutil\n",
        "shutil.rmtree(OUTDIR, ignore_errors=True)\n",
        "\n",
        "NUM_TRAINING_EXAMPLES = 1000 * 1000 * 5\n",
        "STOP_POINT = 3.5\n",
        "TOTAL_TRAINING_EXAMPLES = int(STOP_POINT * NUM_TRAINING_EXAMPLES)\n",
        "NUM_CHECKPOINTS = 10\n",
        "steps_per_epoch = (TOTAL_TRAINING_EXAMPLES //\n",
        "                   (BATCH_SIZE*NUM_CHECKPOINTS))\n",
        "\n",
        "checkpoint_path = '{}/checkpoints/taxi'.format(OUTDIR)\n",
        "cp_callback = tf.keras.callbacks.ModelCheckpoint(checkpoint_path,\n",
        "                                                 save_weights_only=False,\n",
        "                                                 verbose=1)\n",
        "\n",
        "history = model.fit(train_df, validation_data=eval_df,\n",
        "                    epochs=NUM_CHECKPOINTS,\n",
        "                    steps_per_epoch=steps_per_epoch,\n",
        "                    class_weight=class_weight)"
      ],
      "metadata": {
        "id": "oNYx7nVPtavw"
      },
      "execution_count": 9,
      "outputs": []
    },
    {
      "cell_type": "code",
      "source": [],
      "metadata": {
        "id": "bytNzq3LtatD"
      },
      "execution_count": null,
      "outputs": []
    },
    {
      "cell_type": "code",
      "source": [],
      "metadata": {
        "id": "JpNXyWyotaqO"
      },
      "execution_count": null,
      "outputs": []
    },
    {
      "cell_type": "code",
      "source": [],
      "metadata": {
        "id": "Qdyy_GXJtanM"
      },
      "execution_count": null,
      "outputs": []
    }
  ]
}