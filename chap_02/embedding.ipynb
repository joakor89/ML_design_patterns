{
  "nbformat": 4,
  "nbformat_minor": 0,
  "metadata": {
    "colab": {
      "provenance": [],
      "gpuType": "T4"
    },
    "kernelspec": {
      "name": "python3",
      "display_name": "Python 3"
    },
    "language_info": {
      "name": "python"
    },
    "accelerator": "GPU"
  },
  "cells": [
    {
      "cell_type": "markdown",
      "source": [
        "# Embeddings\n",
        "\n",
        "### Loading Libraries"
      ],
      "metadata": {
        "id": "O3FtcWLIpXzQ"
      }
    },
    {
      "cell_type": "code",
      "execution_count": 1,
      "metadata": {
        "id": "8NdxgtkmSSP0"
      },
      "outputs": [],
      "source": [
        "# Operating Systems\n",
        "import os\n",
        "import shutil\n",
        "\n",
        "# Data Manipuation\n",
        "import pandas as pd\n",
        "\n",
        "# SciPy\n",
        "import scipy\n",
        "from scipy import stats\n",
        "\n",
        "# Data Visualization\n",
        "import matplotlib.pyplot as plt\n",
        "import seaborn as sns\n",
        "\n",
        "# BigQuery\n",
        "from google.cloud import bigquery\n",
        "from google.colab import auth\n",
        "\n",
        "# TensorFlow\n",
        "import tensorflow as tf\n",
        "from tensorflow import keras\n",
        "from tensorflow_hub import KerasLayer\n",
        "from tensorflow.keras.preprocessing.text import Tokenizer\n",
        "from tensorflow.keras import callbacks, layers, models, utils\n",
        "from tensorflow.keras.preprocessing.sequence import pad_sequences"
      ]
    },
    {
      "cell_type": "code",
      "source": [
        "# User Authentication\n",
        "auth.authenticate_user()\n",
        "\n",
        "# BigQuery Library\n",
        "# !pip install --upgrade google-cloud-bigquery"
      ],
      "metadata": {
        "id": "YINLPKlLpthn"
      },
      "execution_count": 2,
      "outputs": []
    },
    {
      "cell_type": "code",
      "source": [
        "project_id = 'core-catalyst-425922-v9'\n",
        "os.environ['GOOGLE_CLOUD_PROJECT'] = project_id\n",
        "\n",
        "# BigQuery Client Config\n",
        "client = bigquery.Client(project=project_id)"
      ],
      "metadata": {
        "id": "VRSVH4YTpte6"
      },
      "execution_count": 3,
      "outputs": []
    },
    {
      "cell_type": "markdown",
      "source": [
        "### **Embedding Layer for Categorical Data**"
      ],
      "metadata": {
        "id": "Em3AFqHvqEbx"
      }
    },
    {
      "cell_type": "code",
      "source": [
        "# !head ./data/babyweight_sample.csv"
      ],
      "metadata": {
        "id": "T-yHy2-dptcW"
      },
      "execution_count": 4,
      "outputs": []
    },
    {
      "cell_type": "code",
      "source": [
        "df = pd.read_csv(\"/content/babyweight_sample.csv\")\n",
        "df.plurality.head(5)"
      ],
      "metadata": {
        "colab": {
          "base_uri": "https://localhost:8080/"
        },
        "id": "TOENNZsQptZx",
        "outputId": "324377d5-802c-4f05-9d74-e3910296d105"
      },
      "execution_count": 5,
      "outputs": [
        {
          "output_type": "execute_result",
          "data": {
            "text/plain": [
              "0    Single(1)\n",
              "1    Single(1)\n",
              "2    Single(1)\n",
              "3     Twins(2)\n",
              "4    Single(1)\n",
              "Name: plurality, dtype: object"
            ]
          },
          "metadata": {},
          "execution_count": 5
        }
      ]
    },
    {
      "cell_type": "code",
      "source": [
        "df.plurality.unique()"
      ],
      "metadata": {
        "colab": {
          "base_uri": "https://localhost:8080/"
        },
        "id": "wJLNzZKFptXF",
        "outputId": "d54441c6-f729-4818-d89d-1ceede4da154"
      },
      "execution_count": 6,
      "outputs": [
        {
          "output_type": "execute_result",
          "data": {
            "text/plain": [
              "array(['Single(1)', 'Twins(2)', 'Triplets(3)', 'Multiple(2+)',\n",
              "       'Quadruplets(4)'], dtype=object)"
            ]
          },
          "metadata": {},
          "execution_count": 6
        }
      ]
    },
    {
      "cell_type": "code",
      "source": [
        "CLASSES = {\n",
        "    'Single(1)': 0,\n",
        "    'Multiple(2+)': 1,\n",
        "    'Twins(2)': 2,\n",
        "    'Triplets(3)': 3,\n",
        "    'Quadruplets(4)': 4,\n",
        "    'Quintuplets(5)': 5\n",
        "}\n",
        "N_CLASSES = len(CLASSES)"
      ],
      "metadata": {
        "id": "Q1qvspo5ptUS"
      },
      "execution_count": 7,
      "outputs": []
    },
    {
      "cell_type": "code",
      "source": [
        "plurality_class = [CLASSES[plurality] for plurality in df.plurality]"
      ],
      "metadata": {
        "id": "Xx6m_O4OptRj"
      },
      "execution_count": 8,
      "outputs": []
    },
    {
      "cell_type": "code",
      "source": [
        "print(df.plurality[:5])\n",
        "\n",
        "print(plurality_class[:5])"
      ],
      "metadata": {
        "colab": {
          "base_uri": "https://localhost:8080/"
        },
        "id": "HF-amXo0ptO_",
        "outputId": "282950bb-3edd-491d-e7be-f3c9f4554860"
      },
      "execution_count": 9,
      "outputs": [
        {
          "output_type": "stream",
          "name": "stdout",
          "text": [
            "0    Single(1)\n",
            "1    Single(1)\n",
            "2    Single(1)\n",
            "3     Twins(2)\n",
            "4    Single(1)\n",
            "Name: plurality, dtype: object\n",
            "[0, 0, 0, 2, 0]\n"
          ]
        }
      ]
    },
    {
      "cell_type": "code",
      "source": [
        "EMBED_DIM = 2\n",
        "\n",
        "embedding_layer = layers.Embedding(input_dim=N_CLASSES,\n",
        "                                   output_dim=EMBED_DIM)\n",
        "embeds = embedding_layer(tf.constant(plurality_class))"
      ],
      "metadata": {
        "id": "UY876OZdptMS"
      },
      "execution_count": 10,
      "outputs": []
    },
    {
      "cell_type": "code",
      "source": [
        "embeds.shape"
      ],
      "metadata": {
        "colab": {
          "base_uri": "https://localhost:8080/"
        },
        "id": "d9vHOhOWptJv",
        "outputId": "1d25d2df-3df6-4735-f0a5-a5ee07813771"
      },
      "execution_count": 11,
      "outputs": [
        {
          "output_type": "execute_result",
          "data": {
            "text/plain": [
              "TensorShape([999, 2])"
            ]
          },
          "metadata": {},
          "execution_count": 11
        }
      ]
    },
    {
      "cell_type": "code",
      "source": [
        "embeds[:5]"
      ],
      "metadata": {
        "colab": {
          "base_uri": "https://localhost:8080/"
        },
        "id": "X9zFwuKIptHJ",
        "outputId": "76072b58-f955-4f76-c3f1-e865c8ac37cd"
      },
      "execution_count": 12,
      "outputs": [
        {
          "output_type": "execute_result",
          "data": {
            "text/plain": [
              "<tf.Tensor: shape=(5, 2), dtype=float32, numpy=\n",
              "array([[ 0.02651275, -0.04206783],\n",
              "       [ 0.02651275, -0.04206783],\n",
              "       [ 0.02651275, -0.04206783],\n",
              "       [ 0.00842694,  0.01681883],\n",
              "       [ 0.02651275, -0.04206783]], dtype=float32)>"
            ]
          },
          "metadata": {},
          "execution_count": 12
        }
      ]
    },
    {
      "cell_type": "markdown",
      "source": [
        "### **Embedding Layers in Keras Model**"
      ],
      "metadata": {
        "id": "5bGPPDOXrI8w"
      }
    },
    {
      "cell_type": "code",
      "source": [
        "LOGDIR = \"./text_models\"\n",
        "\n",
        "DATA_DIR = \"./data\""
      ],
      "metadata": {
        "id": "vNwt1uDCptEU"
      },
      "execution_count": 13,
      "outputs": []
    },
    {
      "cell_type": "code",
      "source": [
        "DATASET_NAME = \"/content/titles_full.csv\"\n",
        "\n",
        "TITLE_SAMPLE_PATH = os.path.join(DATA_DIR, DATASET_NAME)\n",
        "\n",
        "COLUMNS = ['title', 'source']\n",
        "\n",
        "titles_df = pd.read_csv(TITLE_SAMPLE_PATH, header=None, names=COLUMNS)\n",
        "titles_df.head()"
      ],
      "metadata": {
        "colab": {
          "base_uri": "https://localhost:8080/",
          "height": 204
        },
        "id": "Fon2cmbPptBw",
        "outputId": "6a201f7d-026a-49a2-98c1-e17e225b96c8"
      },
      "execution_count": 14,
      "outputs": [
        {
          "output_type": "execute_result",
          "data": {
            "text/plain": [
              "                                               title   source\n",
              "0            holy cash cow  batman - content is back  nytimes\n",
              "1  show hn  a simple and configurable deployment ...   github\n",
              "2  show hn  neural turing machine in pure numpy. ...   github\n",
              "3  close look at a flu outbreak upends some commo...  nytimes\n",
              "4  lambdalite  a functional  relational lisp data...   github"
            ],
            "text/html": [
              "\n",
              "  <div id=\"df-5f3387c0-9da8-4003-942b-1c3cd832385f\" class=\"colab-df-container\">\n",
              "    <div>\n",
              "<style scoped>\n",
              "    .dataframe tbody tr th:only-of-type {\n",
              "        vertical-align: middle;\n",
              "    }\n",
              "\n",
              "    .dataframe tbody tr th {\n",
              "        vertical-align: top;\n",
              "    }\n",
              "\n",
              "    .dataframe thead th {\n",
              "        text-align: right;\n",
              "    }\n",
              "</style>\n",
              "<table border=\"1\" class=\"dataframe\">\n",
              "  <thead>\n",
              "    <tr style=\"text-align: right;\">\n",
              "      <th></th>\n",
              "      <th>title</th>\n",
              "      <th>source</th>\n",
              "    </tr>\n",
              "  </thead>\n",
              "  <tbody>\n",
              "    <tr>\n",
              "      <th>0</th>\n",
              "      <td>holy cash cow  batman - content is back</td>\n",
              "      <td>nytimes</td>\n",
              "    </tr>\n",
              "    <tr>\n",
              "      <th>1</th>\n",
              "      <td>show hn  a simple and configurable deployment ...</td>\n",
              "      <td>github</td>\n",
              "    </tr>\n",
              "    <tr>\n",
              "      <th>2</th>\n",
              "      <td>show hn  neural turing machine in pure numpy. ...</td>\n",
              "      <td>github</td>\n",
              "    </tr>\n",
              "    <tr>\n",
              "      <th>3</th>\n",
              "      <td>close look at a flu outbreak upends some commo...</td>\n",
              "      <td>nytimes</td>\n",
              "    </tr>\n",
              "    <tr>\n",
              "      <th>4</th>\n",
              "      <td>lambdalite  a functional  relational lisp data...</td>\n",
              "      <td>github</td>\n",
              "    </tr>\n",
              "  </tbody>\n",
              "</table>\n",
              "</div>\n",
              "    <div class=\"colab-df-buttons\">\n",
              "\n",
              "  <div class=\"colab-df-container\">\n",
              "    <button class=\"colab-df-convert\" onclick=\"convertToInteractive('df-5f3387c0-9da8-4003-942b-1c3cd832385f')\"\n",
              "            title=\"Convert this dataframe to an interactive table.\"\n",
              "            style=\"display:none;\">\n",
              "\n",
              "  <svg xmlns=\"http://www.w3.org/2000/svg\" height=\"24px\" viewBox=\"0 -960 960 960\">\n",
              "    <path d=\"M120-120v-720h720v720H120Zm60-500h600v-160H180v160Zm220 220h160v-160H400v160Zm0 220h160v-160H400v160ZM180-400h160v-160H180v160Zm440 0h160v-160H620v160ZM180-180h160v-160H180v160Zm440 0h160v-160H620v160Z\"/>\n",
              "  </svg>\n",
              "    </button>\n",
              "\n",
              "  <style>\n",
              "    .colab-df-container {\n",
              "      display:flex;\n",
              "      gap: 12px;\n",
              "    }\n",
              "\n",
              "    .colab-df-convert {\n",
              "      background-color: #E8F0FE;\n",
              "      border: none;\n",
              "      border-radius: 50%;\n",
              "      cursor: pointer;\n",
              "      display: none;\n",
              "      fill: #1967D2;\n",
              "      height: 32px;\n",
              "      padding: 0 0 0 0;\n",
              "      width: 32px;\n",
              "    }\n",
              "\n",
              "    .colab-df-convert:hover {\n",
              "      background-color: #E2EBFA;\n",
              "      box-shadow: 0px 1px 2px rgba(60, 64, 67, 0.3), 0px 1px 3px 1px rgba(60, 64, 67, 0.15);\n",
              "      fill: #174EA6;\n",
              "    }\n",
              "\n",
              "    .colab-df-buttons div {\n",
              "      margin-bottom: 4px;\n",
              "    }\n",
              "\n",
              "    [theme=dark] .colab-df-convert {\n",
              "      background-color: #3B4455;\n",
              "      fill: #D2E3FC;\n",
              "    }\n",
              "\n",
              "    [theme=dark] .colab-df-convert:hover {\n",
              "      background-color: #434B5C;\n",
              "      box-shadow: 0px 1px 3px 1px rgba(0, 0, 0, 0.15);\n",
              "      filter: drop-shadow(0px 1px 2px rgba(0, 0, 0, 0.3));\n",
              "      fill: #FFFFFF;\n",
              "    }\n",
              "  </style>\n",
              "\n",
              "    <script>\n",
              "      const buttonEl =\n",
              "        document.querySelector('#df-5f3387c0-9da8-4003-942b-1c3cd832385f button.colab-df-convert');\n",
              "      buttonEl.style.display =\n",
              "        google.colab.kernel.accessAllowed ? 'block' : 'none';\n",
              "\n",
              "      async function convertToInteractive(key) {\n",
              "        const element = document.querySelector('#df-5f3387c0-9da8-4003-942b-1c3cd832385f');\n",
              "        const dataTable =\n",
              "          await google.colab.kernel.invokeFunction('convertToInteractive',\n",
              "                                                    [key], {});\n",
              "        if (!dataTable) return;\n",
              "\n",
              "        const docLinkHtml = 'Like what you see? Visit the ' +\n",
              "          '<a target=\"_blank\" href=https://colab.research.google.com/notebooks/data_table.ipynb>data table notebook</a>'\n",
              "          + ' to learn more about interactive tables.';\n",
              "        element.innerHTML = '';\n",
              "        dataTable['output_type'] = 'display_data';\n",
              "        await google.colab.output.renderOutput(dataTable, element);\n",
              "        const docLink = document.createElement('div');\n",
              "        docLink.innerHTML = docLinkHtml;\n",
              "        element.appendChild(docLink);\n",
              "      }\n",
              "    </script>\n",
              "  </div>\n",
              "\n",
              "\n",
              "<div id=\"df-463b51b9-4406-40e1-99be-90464a3db703\">\n",
              "  <button class=\"colab-df-quickchart\" onclick=\"quickchart('df-463b51b9-4406-40e1-99be-90464a3db703')\"\n",
              "            title=\"Suggest charts\"\n",
              "            style=\"display:none;\">\n",
              "\n",
              "<svg xmlns=\"http://www.w3.org/2000/svg\" height=\"24px\"viewBox=\"0 0 24 24\"\n",
              "     width=\"24px\">\n",
              "    <g>\n",
              "        <path d=\"M19 3H5c-1.1 0-2 .9-2 2v14c0 1.1.9 2 2 2h14c1.1 0 2-.9 2-2V5c0-1.1-.9-2-2-2zM9 17H7v-7h2v7zm4 0h-2V7h2v10zm4 0h-2v-4h2v4z\"/>\n",
              "    </g>\n",
              "</svg>\n",
              "  </button>\n",
              "\n",
              "<style>\n",
              "  .colab-df-quickchart {\n",
              "      --bg-color: #E8F0FE;\n",
              "      --fill-color: #1967D2;\n",
              "      --hover-bg-color: #E2EBFA;\n",
              "      --hover-fill-color: #174EA6;\n",
              "      --disabled-fill-color: #AAA;\n",
              "      --disabled-bg-color: #DDD;\n",
              "  }\n",
              "\n",
              "  [theme=dark] .colab-df-quickchart {\n",
              "      --bg-color: #3B4455;\n",
              "      --fill-color: #D2E3FC;\n",
              "      --hover-bg-color: #434B5C;\n",
              "      --hover-fill-color: #FFFFFF;\n",
              "      --disabled-bg-color: #3B4455;\n",
              "      --disabled-fill-color: #666;\n",
              "  }\n",
              "\n",
              "  .colab-df-quickchart {\n",
              "    background-color: var(--bg-color);\n",
              "    border: none;\n",
              "    border-radius: 50%;\n",
              "    cursor: pointer;\n",
              "    display: none;\n",
              "    fill: var(--fill-color);\n",
              "    height: 32px;\n",
              "    padding: 0;\n",
              "    width: 32px;\n",
              "  }\n",
              "\n",
              "  .colab-df-quickchart:hover {\n",
              "    background-color: var(--hover-bg-color);\n",
              "    box-shadow: 0 1px 2px rgba(60, 64, 67, 0.3), 0 1px 3px 1px rgba(60, 64, 67, 0.15);\n",
              "    fill: var(--button-hover-fill-color);\n",
              "  }\n",
              "\n",
              "  .colab-df-quickchart-complete:disabled,\n",
              "  .colab-df-quickchart-complete:disabled:hover {\n",
              "    background-color: var(--disabled-bg-color);\n",
              "    fill: var(--disabled-fill-color);\n",
              "    box-shadow: none;\n",
              "  }\n",
              "\n",
              "  .colab-df-spinner {\n",
              "    border: 2px solid var(--fill-color);\n",
              "    border-color: transparent;\n",
              "    border-bottom-color: var(--fill-color);\n",
              "    animation:\n",
              "      spin 1s steps(1) infinite;\n",
              "  }\n",
              "\n",
              "  @keyframes spin {\n",
              "    0% {\n",
              "      border-color: transparent;\n",
              "      border-bottom-color: var(--fill-color);\n",
              "      border-left-color: var(--fill-color);\n",
              "    }\n",
              "    20% {\n",
              "      border-color: transparent;\n",
              "      border-left-color: var(--fill-color);\n",
              "      border-top-color: var(--fill-color);\n",
              "    }\n",
              "    30% {\n",
              "      border-color: transparent;\n",
              "      border-left-color: var(--fill-color);\n",
              "      border-top-color: var(--fill-color);\n",
              "      border-right-color: var(--fill-color);\n",
              "    }\n",
              "    40% {\n",
              "      border-color: transparent;\n",
              "      border-right-color: var(--fill-color);\n",
              "      border-top-color: var(--fill-color);\n",
              "    }\n",
              "    60% {\n",
              "      border-color: transparent;\n",
              "      border-right-color: var(--fill-color);\n",
              "    }\n",
              "    80% {\n",
              "      border-color: transparent;\n",
              "      border-right-color: var(--fill-color);\n",
              "      border-bottom-color: var(--fill-color);\n",
              "    }\n",
              "    90% {\n",
              "      border-color: transparent;\n",
              "      border-bottom-color: var(--fill-color);\n",
              "    }\n",
              "  }\n",
              "</style>\n",
              "\n",
              "  <script>\n",
              "    async function quickchart(key) {\n",
              "      const quickchartButtonEl =\n",
              "        document.querySelector('#' + key + ' button');\n",
              "      quickchartButtonEl.disabled = true;  // To prevent multiple clicks.\n",
              "      quickchartButtonEl.classList.add('colab-df-spinner');\n",
              "      try {\n",
              "        const charts = await google.colab.kernel.invokeFunction(\n",
              "            'suggestCharts', [key], {});\n",
              "      } catch (error) {\n",
              "        console.error('Error during call to suggestCharts:', error);\n",
              "      }\n",
              "      quickchartButtonEl.classList.remove('colab-df-spinner');\n",
              "      quickchartButtonEl.classList.add('colab-df-quickchart-complete');\n",
              "    }\n",
              "    (() => {\n",
              "      let quickchartButtonEl =\n",
              "        document.querySelector('#df-463b51b9-4406-40e1-99be-90464a3db703 button');\n",
              "      quickchartButtonEl.style.display =\n",
              "        google.colab.kernel.accessAllowed ? 'block' : 'none';\n",
              "    })();\n",
              "  </script>\n",
              "</div>\n",
              "\n",
              "    </div>\n",
              "  </div>\n"
            ],
            "application/vnd.google.colaboratory.intrinsic+json": {
              "type": "dataframe",
              "variable_name": "titles_df",
              "summary": "{\n  \"name\": \"titles_df\",\n  \"rows\": 96203,\n  \"fields\": [\n    {\n      \"column\": \"title\",\n      \"properties\": {\n        \"dtype\": \"string\",\n        \"num_unique_values\": 92395,\n        \"samples\": [\n          \"show hn  a set of scripts to analyze your emails\",\n          \"uber closes in on its last frontier  airports\",\n          \"venture capital outpaces buyouts in investment returns\"\n        ],\n        \"semantic_type\": \"\",\n        \"description\": \"\"\n      }\n    },\n    {\n      \"column\": \"source\",\n      \"properties\": {\n        \"dtype\": \"category\",\n        \"num_unique_values\": 3,\n        \"samples\": [\n          \"nytimes\",\n          \"github\",\n          \"techcrunch\"\n        ],\n        \"semantic_type\": \"\",\n        \"description\": \"\"\n      }\n    }\n  ]\n}"
            }
          },
          "metadata": {},
          "execution_count": 14
        }
      ]
    },
    {
      "cell_type": "code",
      "source": [
        "tokenizer = Tokenizer()\n",
        "tokenizer.fit_on_texts(titles_df.title)\n",
        "\n",
        "integerized_titles = tokenizer.texts_to_sequences(titles_df.title)"
      ],
      "metadata": {
        "id": "E_X_8Sufps_M"
      },
      "execution_count": 15,
      "outputs": []
    },
    {
      "cell_type": "code",
      "source": [
        "integerized_titles[:3]"
      ],
      "metadata": {
        "colab": {
          "base_uri": "https://localhost:8080/"
        },
        "id": "gvubtulnps6T",
        "outputId": "0d6bdde1-1e48-4891-dcc0-be98be3e5170"
      },
      "execution_count": 16,
      "outputs": [
        {
          "output_type": "execute_result",
          "data": {
            "text/plain": [
              "[[6117, 560, 8577, 13948, 302, 13, 172],\n",
              " [11, 12, 2, 49, 7, 3838, 1322, 91, 4, 28, 482],\n",
              " [11, 12, 1501, 2812, 322, 5, 589, 7337, 5458, 78, 108, 1989, 17, 1139]]"
            ]
          },
          "metadata": {},
          "execution_count": 16
        }
      ]
    },
    {
      "cell_type": "code",
      "source": [
        "VOCAB_SIZE = len(tokenizer.index_word)\n",
        "\n",
        "VOCAB_SIZE"
      ],
      "metadata": {
        "colab": {
          "base_uri": "https://localhost:8080/"
        },
        "id": "qlDTYOlyps3o",
        "outputId": "53b6a2a3-dfd9-4a80-a4bb-006dc76e18ac"
      },
      "execution_count": 17,
      "outputs": [
        {
          "output_type": "execute_result",
          "data": {
            "text/plain": [
              "47271"
            ]
          },
          "metadata": {},
          "execution_count": 17
        }
      ]
    },
    {
      "cell_type": "code",
      "source": [
        "DATASET_SIZE = tokenizer.document_count\n",
        "\n",
        "DATASET_SIZE"
      ],
      "metadata": {
        "colab": {
          "base_uri": "https://localhost:8080/"
        },
        "id": "H9DTDjdvps00",
        "outputId": "9506c3a1-f4e5-40d5-cc15-203225bc5a82"
      },
      "execution_count": 18,
      "outputs": [
        {
          "output_type": "execute_result",
          "data": {
            "text/plain": [
              "96203"
            ]
          },
          "metadata": {},
          "execution_count": 18
        }
      ]
    },
    {
      "cell_type": "code",
      "source": [
        "MAX_LEN = max(len(sequence) for sequence in integerized_titles)\n",
        "\n",
        "MAX_LEN"
      ],
      "metadata": {
        "colab": {
          "base_uri": "https://localhost:8080/"
        },
        "id": "Af2IECj8rc2p",
        "outputId": "fa64d68d-c097-406f-b4b0-4433aff292ed"
      },
      "execution_count": 19,
      "outputs": [
        {
          "output_type": "execute_result",
          "data": {
            "text/plain": [
              "26"
            ]
          },
          "metadata": {},
          "execution_count": 19
        }
      ]
    },
    {
      "cell_type": "markdown",
      "source": [
        "### **Preprocess Data**"
      ],
      "metadata": {
        "id": "qNlzr-u-rgu-"
      }
    },
    {
      "cell_type": "code",
      "source": [
        "def create_sequences(texts, max_len=MAX_LEN):\n",
        "    sequences = tokenizer.texts_to_sequences(texts)\n",
        "    padded_sequences = pad_sequences(sequences,\n",
        "                                     max_len,\n",
        "                                     padding='post')\n",
        "    return padded_sequences"
      ],
      "metadata": {
        "id": "vnK9l3hGrdhu"
      },
      "execution_count": 20,
      "outputs": []
    },
    {
      "cell_type": "code",
      "source": [
        "sample_titles = create_sequences([\"holy cash cow  batman - content is back\",\n",
        "                                 \"close look at a flu outbreak upends some common wisdom\"])\n",
        "sample_titles"
      ],
      "metadata": {
        "colab": {
          "base_uri": "https://localhost:8080/"
        },
        "id": "Hoj9CIierde1",
        "outputId": "6786e48f-a28d-40a8-be93-a16513ee95b0"
      },
      "execution_count": 21,
      "outputs": [
        {
          "output_type": "execute_result",
          "data": {
            "text/plain": [
              "array([[ 6117,   560,  8577, 13948,   302,    13,   172,     0,     0,\n",
              "            0,     0,     0,     0,     0,     0,     0,     0,     0,\n",
              "            0,     0,     0,     0,     0,     0,     0,     0],\n",
              "       [ 1030,   316,    23,     2,  3718,  7338, 13949,   214,   715,\n",
              "         4581,     0,     0,     0,     0,     0,     0,     0,     0,\n",
              "            0,     0,     0,     0,     0,     0,     0,     0]],\n",
              "      dtype=int32)"
            ]
          },
          "metadata": {},
          "execution_count": 21
        }
      ]
    },
    {
      "cell_type": "code",
      "source": [
        "CLASSES = {\n",
        "    'github': 0,\n",
        "    'nytimes': 1,\n",
        "    'techcrunch': 2\n",
        "}\n",
        "\n",
        "N_CLASSES = len(CLASSES)"
      ],
      "metadata": {
        "id": "2q6ICvH1rdcS"
      },
      "execution_count": 22,
      "outputs": []
    },
    {
      "cell_type": "code",
      "source": [
        "def encode_labels(sources):\n",
        "    classes = [CLASSES[source] for source in sources]\n",
        "    one_hots = utils.to_categorical(classes)\n",
        "    return one_hots"
      ],
      "metadata": {
        "id": "RiiVst-2rdZk"
      },
      "execution_count": 23,
      "outputs": []
    },
    {
      "cell_type": "markdown",
      "source": [
        "#### **Setting Training & Validation Split**"
      ],
      "metadata": {
        "id": "xl1Ps6bArsSD"
      }
    },
    {
      "cell_type": "code",
      "source": [
        "N_TRAIN = int(DATASET_SIZE * 0.80)\n",
        "\n",
        "titles_df = pd.read_csv(TITLE_SAMPLE_PATH, header=None, names=COLUMNS)\n",
        "titles_train, sources_train = (\n",
        "    titles_df.title[:N_TRAIN], titles_df.source[:N_TRAIN])\n",
        "\n",
        "titles_valid, sources_valid = (\n",
        "    titles_df.title[N_TRAIN:], titles_df.source[N_TRAIN:])"
      ],
      "metadata": {
        "id": "5masMTAurdW3"
      },
      "execution_count": 24,
      "outputs": []
    },
    {
      "cell_type": "code",
      "source": [
        "sources_train.value_counts()"
      ],
      "metadata": {
        "colab": {
          "base_uri": "https://localhost:8080/"
        },
        "id": "MkVhcRGvrdUS",
        "outputId": "ab964e90-332e-4dc2-b9a3-d9396f73e340"
      },
      "execution_count": 25,
      "outputs": [
        {
          "output_type": "execute_result",
          "data": {
            "text/plain": [
              "source\n",
              "github        29175\n",
              "techcrunch    24784\n",
              "nytimes       23003\n",
              "Name: count, dtype: int64"
            ]
          },
          "metadata": {},
          "execution_count": 25
        }
      ]
    },
    {
      "cell_type": "code",
      "source": [
        "X_train, Y_train = create_sequences(titles_train), encode_labels(sources_train)\n",
        "\n",
        "X_valid, Y_valid = create_sequences(titles_valid), encode_labels(sources_valid)"
      ],
      "metadata": {
        "id": "Oys3xcBordRo"
      },
      "execution_count": 26,
      "outputs": []
    },
    {
      "cell_type": "code",
      "source": [
        "X_train[:3], Y_train[:3]"
      ],
      "metadata": {
        "colab": {
          "base_uri": "https://localhost:8080/"
        },
        "id": "2IAnt9AfrdPC",
        "outputId": "26b341bc-7c0f-4715-ffe7-a88ecb6f72f8"
      },
      "execution_count": 27,
      "outputs": [
        {
          "output_type": "execute_result",
          "data": {
            "text/plain": [
              "(array([[ 6117,   560,  8577, 13948,   302,    13,   172,     0,     0,\n",
              "             0,     0,     0,     0,     0,     0,     0,     0,     0,\n",
              "             0,     0,     0,     0,     0,     0,     0,     0],\n",
              "        [   11,    12,     2,    49,     7,  3838,  1322,    91,     4,\n",
              "            28,   482,     0,     0,     0,     0,     0,     0,     0,\n",
              "             0,     0,     0,     0,     0,     0,     0,     0],\n",
              "        [   11,    12,  1501,  2812,   322,     5,   589,  7337,  5458,\n",
              "            78,   108,  1989,    17,  1139,     0,     0,     0,     0,\n",
              "             0,     0,     0,     0,     0,     0,     0,     0]],\n",
              "       dtype=int32),\n",
              " array([[0., 1., 0.],\n",
              "        [1., 0., 0.],\n",
              "        [1., 0., 0.]], dtype=float32))"
            ]
          },
          "metadata": {},
          "execution_count": 27
        }
      ]
    },
    {
      "cell_type": "markdown",
      "source": [
        "### **Building a DNN**"
      ],
      "metadata": {
        "id": "1HbdKrEgr4WH"
      }
    },
    {
      "cell_type": "code",
      "source": [
        "def build_dnn_model(embed_dim):\n",
        "\n",
        "    model = models.Sequential([\n",
        "        layers.Embedding(VOCAB_SIZE + 1,\n",
        "                         embed_dim,\n",
        "                         input_shape=[MAX_LEN]),\n",
        "        layers.Lambda(lambda x: tf.reduce_mean(x, axis=1)),\n",
        "        layers.Dense(N_CLASSES, activation='softmax')\n",
        "    ])\n",
        "\n",
        "    model.compile(\n",
        "        optimizer='adam',\n",
        "        loss='categorical_crossentropy',\n",
        "        metrics=['accuracy']\n",
        "    )\n",
        "    return model"
      ],
      "metadata": {
        "id": "7-38U0zIrdL-"
      },
      "execution_count": 28,
      "outputs": []
    },
    {
      "cell_type": "code",
      "source": [
        "Y_train.shape"
      ],
      "metadata": {
        "colab": {
          "base_uri": "https://localhost:8080/"
        },
        "id": "wWMkGmddr8Xh",
        "outputId": "7354b118-e7ff-4a2b-f746-a99fd09f5d37"
      },
      "execution_count": 29,
      "outputs": [
        {
          "output_type": "execute_result",
          "data": {
            "text/plain": [
              "(76962, 3)"
            ]
          },
          "metadata": {},
          "execution_count": 29
        }
      ]
    },
    {
      "cell_type": "code",
      "source": [
        "%%time\n",
        "\n",
        "tf.random.set_seed(33)\n",
        "\n",
        "MODEL_DIR = os.path.join(LOGDIR, 'dnn')\n",
        "shutil.rmtree(MODEL_DIR, ignore_errors=True)\n",
        "\n",
        "BATCH_SIZE = 300\n",
        "EPOCHS = 100\n",
        "EMBED_DIM = 10\n",
        "PATIENCE = 0\n",
        "\n",
        "dnn_model = build_dnn_model(embed_dim=EMBED_DIM)\n",
        "\n",
        "dnn_history = dnn_model.fit(\n",
        "    X_train, Y_train,\n",
        "    epochs=EPOCHS,\n",
        "    batch_size=BATCH_SIZE,\n",
        "    validation_data=(X_valid, Y_valid),\n",
        "    callbacks=[callbacks.EarlyStopping(patience=PATIENCE),\n",
        "               callbacks.TensorBoard(MODEL_DIR)],\n",
        ")\n",
        "\n",
        "pd.DataFrame(dnn_history.history)[['loss', 'val_loss']].plot()\n",
        "pd.DataFrame(dnn_history.history)[['accuracy', 'val_accuracy']].plot()\n",
        "\n",
        "dnn_model.summary()"
      ],
      "metadata": {
        "colab": {
          "base_uri": "https://localhost:8080/",
          "height": 1000
        },
        "id": "juhiH2_zr8Uy",
        "outputId": "48145b7d-59ee-493b-f70e-736aedfa9f33"
      },
      "execution_count": 30,
      "outputs": [
        {
          "output_type": "stream",
          "name": "stdout",
          "text": [
            "Epoch 1/100\n",
            "257/257 [==============================] - 23s 82ms/step - loss: 1.0514 - accuracy: 0.4255 - val_loss: 0.9843 - val_accuracy: 0.5916\n",
            "Epoch 2/100\n",
            "257/257 [==============================] - 4s 17ms/step - loss: 0.8934 - accuracy: 0.6924 - val_loss: 0.8094 - val_accuracy: 0.7236\n",
            "Epoch 3/100\n",
            "257/257 [==============================] - 6s 22ms/step - loss: 0.7361 - accuracy: 0.7812 - val_loss: 0.6842 - val_accuracy: 0.7820\n",
            "Epoch 4/100\n",
            "257/257 [==============================] - 3s 10ms/step - loss: 0.6285 - accuracy: 0.8091 - val_loss: 0.5997 - val_accuracy: 0.8023\n",
            "Epoch 5/100\n",
            "257/257 [==============================] - 2s 7ms/step - loss: 0.5512 - accuracy: 0.8272 - val_loss: 0.5385 - val_accuracy: 0.8186\n",
            "Epoch 6/100\n",
            "257/257 [==============================] - 2s 6ms/step - loss: 0.4929 - accuracy: 0.8405 - val_loss: 0.4937 - val_accuracy: 0.8251\n",
            "Epoch 7/100\n",
            "257/257 [==============================] - 2s 7ms/step - loss: 0.4482 - accuracy: 0.8510 - val_loss: 0.4605 - val_accuracy: 0.8342\n",
            "Epoch 8/100\n",
            "257/257 [==============================] - 2s 6ms/step - loss: 0.4135 - accuracy: 0.8592 - val_loss: 0.4362 - val_accuracy: 0.8392\n",
            "Epoch 9/100\n",
            "257/257 [==============================] - 3s 12ms/step - loss: 0.3859 - accuracy: 0.8668 - val_loss: 0.4167 - val_accuracy: 0.8426\n",
            "Epoch 10/100\n",
            "257/257 [==============================] - 2s 9ms/step - loss: 0.3631 - accuracy: 0.8734 - val_loss: 0.4022 - val_accuracy: 0.8465\n",
            "Epoch 11/100\n",
            "257/257 [==============================] - 2s 6ms/step - loss: 0.3441 - accuracy: 0.8785 - val_loss: 0.3907 - val_accuracy: 0.8483\n",
            "Epoch 12/100\n",
            "257/257 [==============================] - 1s 6ms/step - loss: 0.3275 - accuracy: 0.8842 - val_loss: 0.3820 - val_accuracy: 0.8513\n",
            "Epoch 13/100\n",
            "257/257 [==============================] - 1s 6ms/step - loss: 0.3131 - accuracy: 0.8886 - val_loss: 0.3740 - val_accuracy: 0.8521\n",
            "Epoch 14/100\n",
            "257/257 [==============================] - 1s 6ms/step - loss: 0.3001 - accuracy: 0.8929 - val_loss: 0.3683 - val_accuracy: 0.8540\n",
            "Epoch 15/100\n",
            "257/257 [==============================] - 1s 6ms/step - loss: 0.2884 - accuracy: 0.8969 - val_loss: 0.3634 - val_accuracy: 0.8557\n",
            "Epoch 16/100\n",
            "257/257 [==============================] - 1s 5ms/step - loss: 0.2779 - accuracy: 0.9000 - val_loss: 0.3599 - val_accuracy: 0.8566\n",
            "Epoch 17/100\n",
            "257/257 [==============================] - 2s 7ms/step - loss: 0.2679 - accuracy: 0.9039 - val_loss: 0.3570 - val_accuracy: 0.8579\n",
            "Epoch 18/100\n",
            "257/257 [==============================] - 2s 8ms/step - loss: 0.2588 - accuracy: 0.9073 - val_loss: 0.3547 - val_accuracy: 0.8586\n",
            "Epoch 19/100\n",
            "257/257 [==============================] - 2s 6ms/step - loss: 0.2503 - accuracy: 0.9099 - val_loss: 0.3534 - val_accuracy: 0.8598\n",
            "Epoch 20/100\n",
            "257/257 [==============================] - 1s 5ms/step - loss: 0.2423 - accuracy: 0.9132 - val_loss: 0.3522 - val_accuracy: 0.8598\n",
            "Epoch 21/100\n",
            "257/257 [==============================] - 1s 4ms/step - loss: 0.2348 - accuracy: 0.9160 - val_loss: 0.3521 - val_accuracy: 0.8600\n",
            "Epoch 22/100\n",
            "257/257 [==============================] - 1s 5ms/step - loss: 0.2276 - accuracy: 0.9184 - val_loss: 0.3520 - val_accuracy: 0.8602\n",
            "Epoch 23/100\n",
            "257/257 [==============================] - 1s 5ms/step - loss: 0.2209 - accuracy: 0.9208 - val_loss: 0.3522 - val_accuracy: 0.8610\n",
            "Model: \"sequential\"\n",
            "_________________________________________________________________\n",
            " Layer (type)                Output Shape              Param #   \n",
            "=================================================================\n",
            " embedding_1 (Embedding)     (None, 26, 10)            472720    \n",
            "                                                                 \n",
            " lambda (Lambda)             (None, 10)                0         \n",
            "                                                                 \n",
            " dense (Dense)               (None, 3)                 33        \n",
            "                                                                 \n",
            "=================================================================\n",
            "Total params: 472753 (1.80 MB)\n",
            "Trainable params: 472753 (1.80 MB)\n",
            "Non-trainable params: 0 (0.00 Byte)\n",
            "_________________________________________________________________\n",
            "CPU times: user 52.2 s, sys: 4.11 s, total: 56.4 s\n",
            "Wall time: 1min 8s\n"
          ]
        },
        {
          "output_type": "display_data",
          "data": {
            "text/plain": [
              "<Figure size 640x480 with 1 Axes>"
            ],
            "image/png": "[encoded data removed]"
          },
          "metadata": {}
        },
        {
          "output_type": "display_data",
          "data": {
            "text/plain": [
              "<Figure size 640x480 with 1 Axes>"
            ],
            "image/png": "[encoded data removed]"
          },
          "metadata": {}
        }
      ]
    },
    {
      "cell_type": "markdown",
      "source": [
        "### **Transfer Learning with Pre-Trained Embedding**"
      ],
      "metadata": {
        "id": "9ssURVjisD3s"
      }
    },
    {
      "cell_type": "code",
      "source": [
        "NNLM = \"https://tfhub.dev/google/nnlm-en-dim50/2\"\n",
        "\n",
        "nnlm_module = KerasLayer(\n",
        "    handle=NNLM,\n",
        "    output_shape=[50],\n",
        "    input_shape=[],\n",
        "    dtype=tf.string,\n",
        "    trainable=True)"
      ],
      "metadata": {
        "id": "m3FJ8o5cr8R2"
      },
      "execution_count": 31,
      "outputs": []
    },
    {
      "cell_type": "code",
      "source": [
        "nnlm_module(tf.constant([\"holy cash cow  batman - content is back\",\n",
        "                         \"close look at a flu outbreak upends some common wisdom\"]))"
      ],
      "metadata": {
        "colab": {
          "base_uri": "https://localhost:8080/"
        },
        "id": "rQpbRYxer8PC",
        "outputId": "ae0ca9b9-37cd-44e4-fcd5-a27bd4662aa5"
      },
      "execution_count": 32,
      "outputs": [
        {
          "output_type": "execute_result",
          "data": {
            "text/plain": [
              "<tf.Tensor: shape=(2, 50), dtype=float32, numpy=\n",
              "array([[ 0.0958989 , -0.34283403, -0.0492865 , -0.09070478,  0.15877679,\n",
              "        -0.21235444,  0.28213888, -0.02812295, -0.07855891, -0.13102815,\n",
              "         0.11162009,  0.00899507,  0.01711924,  0.3225362 , -0.13289748,\n",
              "         0.11935383,  0.04386025,  0.06534778,  0.2200468 , -0.13539286,\n",
              "        -0.0296053 , -0.06080014,  0.12862371,  0.23304918, -0.04424818,\n",
              "         0.07436227, -0.1898077 , -0.13270935,  0.21959059,  0.10597934,\n",
              "         0.03580458,  0.14275002, -0.06624421, -0.3247055 ,  0.04618761,\n",
              "        -0.11603004,  0.06651007,  0.10887001, -0.05413235, -0.07126983,\n",
              "         0.02225055,  0.2645486 , -0.04697315,  0.0672911 , -0.14438024,\n",
              "         0.06355232, -0.05749882, -0.04587578,  0.23790349,  0.258379  ],\n",
              "       [ 0.11347695, -0.04064287,  0.1053718 , -0.23681389, -0.08755026,\n",
              "        -0.29770336, -0.00098698,  0.23123494, -0.05596383,  0.04687293,\n",
              "         0.07230621, -0.10018747,  0.17597003, -0.04471373, -0.16409421,\n",
              "        -0.21718103, -0.13013352,  0.10073684,  0.04346656, -0.121227  ,\n",
              "        -0.05811133, -0.17935495,  0.08445171, -0.18978108,  0.14924097,\n",
              "         0.1283434 , -0.1400637 ,  0.10938524,  0.00990795, -0.31790745,\n",
              "        -0.04520534, -0.02819821,  0.13765122, -0.06532548, -0.18180048,\n",
              "         0.03769377, -0.12396756, -0.10564797,  0.01820223, -0.22254522,\n",
              "         0.06358313, -0.25590476,  0.2533691 ,  0.27685547, -0.0915094 ,\n",
              "        -0.1493839 , -0.08984403,  0.13982305,  0.4764217 , -0.17479022]],\n",
              "      dtype=float32)>"
            ]
          },
          "metadata": {},
          "execution_count": 32
        }
      ]
    },
    {
      "cell_type": "code",
      "source": [
        "X_train, Y_train = titles_train.values, encode_labels(sources_train)\n",
        "\n",
        "X_valid, Y_valid = titles_valid.values, encode_labels(sources_valid)"
      ],
      "metadata": {
        "id": "3NMQ03aPr8ML"
      },
      "execution_count": 33,
      "outputs": []
    },
    {
      "cell_type": "code",
      "source": [
        "X_train[:3]"
      ],
      "metadata": {
        "colab": {
          "base_uri": "https://localhost:8080/"
        },
        "id": "FfLbGPUCr8Jg",
        "outputId": "2fa35380-3793-4a3f-ee84-79b5a9b3ab15"
      },
      "execution_count": 34,
      "outputs": [
        {
          "output_type": "execute_result",
          "data": {
            "text/plain": [
              "array(['holy cash cow  batman - content is back',\n",
              "       'show hn  a simple and configurable deployment tool for github projects',\n",
              "       'show hn  neural turing machine in pure numpy. implements all 5 tasks from paper'],\n",
              "      dtype=object)"
            ]
          },
          "metadata": {},
          "execution_count": 34
        }
      ]
    },
    {
      "cell_type": "markdown",
      "source": [
        "### **Building DNN Model using TF-Hub Embedding Layer**"
      ],
      "metadata": {
        "id": "SRDd00yAsSpP"
      }
    },
    {
      "cell_type": "code",
      "source": [
        "def build_hub_model():\n",
        "    model = models.Sequential([\n",
        "        KerasLayer(handle=NNLM,\n",
        "                   output_shape=[50],\n",
        "                   input_shape=[],\n",
        "                   dtype=tf.string,\n",
        "                   trainable=True),\n",
        "        layers.Dense(N_CLASSES, activation='softmax')\n",
        "    ])\n",
        "\n",
        "    model.compile(\n",
        "        optimizer='adam',\n",
        "        loss='categorical_crossentropy',\n",
        "        metrics=['accuracy']\n",
        "    )\n",
        "    return model"
      ],
      "metadata": {
        "id": "XzVBuX2Cr8Gt"
      },
      "execution_count": 35,
      "outputs": []
    },
    {
      "cell_type": "code",
      "source": [
        "%%time\n",
        "\n",
        "tf.random.set_seed(33)\n",
        "\n",
        "MODEL_DIR = os.path.join(LOGDIR, 'hub')\n",
        "shutil.rmtree(MODEL_DIR, ignore_errors=True)\n",
        "\n",
        "BATCH_SIZE = 300\n",
        "EPOCHS = 100\n",
        "EMBED_DIM = 10\n",
        "PATIENCE = 3\n",
        "\n",
        "hub_model = build_hub_model()\n",
        "\n",
        "hub_history = hub_model.fit(\n",
        "    X_train, Y_train,\n",
        "    epochs=EPOCHS,\n",
        "    batch_size=BATCH_SIZE,\n",
        "    validation_data=(X_valid, Y_valid),\n",
        "    callbacks=[callbacks.EarlyStopping(patience=PATIENCE),\n",
        "               callbacks.TensorBoard(MODEL_DIR)],\n",
        ")\n",
        "\n",
        "pd.DataFrame(hub_history.history)[['loss', 'val_loss']].plot()\n",
        "pd.DataFrame(hub_history.history)[['accuracy', 'val_accuracy']].plot()\n",
        "\n",
        "hub_model.summary()"
      ],
      "metadata": {
        "colab": {
          "base_uri": "https://localhost:8080/",
          "height": 1000
        },
        "id": "94q8E49br8Dt",
        "outputId": "a3728f02-0f4e-4f3d-e0bd-7c5948b81039"
      },
      "execution_count": 36,
      "outputs": [
        {
          "output_type": "stream",
          "name": "stdout",
          "text": [
            "Epoch 1/100\n",
            "257/257 [==============================] - 33s 120ms/step - loss: 0.7275 - accuracy: 0.7194 - val_loss: 0.4921 - val_accuracy: 0.8164\n",
            "Epoch 2/100\n",
            "257/257 [==============================] - 8s 30ms/step - loss: 0.4068 - accuracy: 0.8486 - val_loss: 0.4006 - val_accuracy: 0.8390\n",
            "Epoch 3/100\n",
            "257/257 [==============================] - 8s 30ms/step - loss: 0.3221 - accuracy: 0.8794 - val_loss: 0.3816 - val_accuracy: 0.8437\n",
            "Epoch 4/100\n",
            "257/257 [==============================] - 5s 20ms/step - loss: 0.2752 - accuracy: 0.8982 - val_loss: 0.3820 - val_accuracy: 0.8460\n",
            "Epoch 5/100\n",
            "257/257 [==============================] - 6s 22ms/step - loss: 0.2428 - accuracy: 0.9115 - val_loss: 0.3926 - val_accuracy: 0.8427\n",
            "Epoch 6/100\n",
            "257/257 [==============================] - 5s 19ms/step - loss: 0.2187 - accuracy: 0.9208 - val_loss: 0.4085 - val_accuracy: 0.8402\n",
            "Model: \"sequential_1\"\n",
            "_________________________________________________________________\n",
            " Layer (type)                Output Shape              Param #   \n",
            "=================================================================\n",
            " keras_layer_1 (KerasLayer)  (None, 50)                48190600  \n",
            "                                                                 \n",
            " dense_1 (Dense)             (None, 3)                 153       \n",
            "                                                                 \n",
            "=================================================================\n",
            "Total params: 48190753 (183.83 MB)\n",
            "Trainable params: 48190753 (183.83 MB)\n",
            "Non-trainable params: 0 (0.00 Byte)\n",
            "_________________________________________________________________\n",
            "CPU times: user 46.7 s, sys: 1.76 s, total: 48.5 s\n",
            "Wall time: 1min 5s\n"
          ]
        },
        {
          "output_type": "display_data",
          "data": {
            "text/plain": [
              "<Figure size 640x480 with 1 Axes>"
            ],
            "image/png": "[encoded data removed]"
          },
          "metadata": {}
        },
        {
          "output_type": "display_data",
          "data": {
            "text/plain": [
              "<Figure size 640x480 with 1 Axes>"
            ],
            "image/png": "[encoded data removed]"
          },
          "metadata": {}
        }
      ]
    },
    {
      "cell_type": "code",
      "source": [],
      "metadata": {
        "id": "rxk5ERkSr8BA"
      },
      "execution_count": null,
      "outputs": []
    }
  ]
}